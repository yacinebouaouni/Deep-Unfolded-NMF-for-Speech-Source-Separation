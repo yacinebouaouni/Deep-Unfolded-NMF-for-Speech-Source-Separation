{
  "nbformat": 4,
  "nbformat_minor": 0,
  "metadata": {
    "colab": {
      "name": "SGD-NMF.ipynb",
      "provenance": [],
      "collapsed_sections": []
    },
    "kernelspec": {
      "display_name": "Python 3",
      "language": "python",
      "name": "python3"
    },
    "language_info": {
      "codemirror_mode": {
        "name": "ipython",
        "version": 3
      },
      "file_extension": ".py",
      "mimetype": "text/x-python",
      "name": "python",
      "nbconvert_exporter": "python",
      "pygments_lexer": "ipython3",
      "version": "3.7.1"
    }
  },
  "cells": [
    {
      "cell_type": "code",
      "metadata": {
        "colab": {
          "base_uri": "https://localhost:8080/"
        },
        "id": "Mc8NsZqwwWiQ",
        "outputId": "22f644b6-be94-4cca-e471-a9b358b85bc8"
      },
      "source": [
        "# Mount Google Drive\n",
        "from google.colab import drive # import drive from google colab\n",
        " \n",
        "ROOT = \"/content/drive\"     # default location for the drive\n",
        "print(ROOT)                 # print content of ROOT (Optional)\n",
        " \n",
        "drive.mount(ROOT)           # we mount the google drive at /content/drive\n"
      ],
      "execution_count": 1,
      "outputs": [
        {
          "output_type": "stream",
          "text": [
            "/content/drive\n",
            "Mounted at /content/drive\n"
          ],
          "name": "stdout"
        }
      ]
    },
    {
      "cell_type": "markdown",
      "metadata": {
        "id": "qLvpBa0ZwyQy"
      },
      "source": [
        "## This Notebook Gave in SMR=0 SDR=2.57 and 2.45"
      ]
    },
    {
      "cell_type": "code",
      "metadata": {
        "id": "r2r72nk9HrbY"
      },
      "source": [
        "!touch helpers2.py"
      ],
      "execution_count": 2,
      "outputs": []
    },
    {
      "cell_type": "code",
      "metadata": {
        "id": "PYxUhmqBwXk8"
      },
      "source": [
        "import numpy as np\n",
        "import os\n",
        "import matplotlib.pyplot as plt\n",
        "from scipy.signal import butter, lfilter, freqz\n",
        "\n",
        "from scipy.io.wavfile import read, write\n",
        "from scipy import signal\n",
        "from sklearn.decomposition import NMF\n",
        "from sklearn.preprocessing import MinMaxScaler\n",
        "\n",
        "from numpy import linalg as LA\n",
        "from numpy.linalg import inv\n",
        "from helpers2 import Reconstruct, Viz_Y,SMR,get_mixed_signal,SDR,ReconstructSoft,butter_lowpass_filter\n",
        "import seaborn as sns\n",
        "import warnings\n",
        "import math\n",
        "from tqdm import tqdm\n",
        "warnings.simplefilter('ignore')"
      ],
      "execution_count": 3,
      "outputs": []
    },
    {
      "cell_type": "code",
      "metadata": {
        "id": "bBZYKWbuNBY6"
      },
      "source": [
        "def eval(D,G_test,Ytest):\n",
        "  Sources,Masks=Reconstruct(B=D,G=G_test,Ns=Dc.shape[1],Nm=Nm,Yabs=Ytest,p=0.5)\n",
        "\n",
        "  print('Reconstruction Step .... Done')\n",
        "  speech_est = Sources[0]\n",
        "  music_est = Sources[1]\n",
        "\n",
        "  _, speech_est =  signal.istft(speech_est,\n",
        "                      samplerate,\n",
        "                      window = WINDOW,\n",
        "                      nperseg=WINDOW_SIZE,\n",
        "                      noverlap=OVERLAP,\n",
        "                      nfft = NFFT)\n",
        "\n",
        "  _, music_est =  signal.istft(music_est,\n",
        "                      samplerate,\n",
        "                      window = WINDOW,\n",
        "                      nperseg=WINDOW_SIZE,\n",
        "                      noverlap=OVERLAP,\n",
        "                      nfft = NFFT)\n",
        "\n",
        "  sdr_speech = SDR(s_est=speech_est,s=test_s)\n",
        "  sdr_music = SDR(s_est=music_est, s=test_m)\n",
        "\n",
        "  print(f'Speech SDR = {sdr_speech}')\n",
        "  print(f'Music SDR = {sdr_music}')"
      ],
      "execution_count": 4,
      "outputs": []
    },
    {
      "cell_type": "code",
      "metadata": {
        "colab": {
          "base_uri": "https://localhost:8080/"
        },
        "id": "idEcwxGxxkOd",
        "outputId": "6a4d58bf-7a60-443b-cdbe-84b4a27b65c9"
      },
      "source": [
        "# Best 1-20 min\n",
        "\n",
        "start = 1 * 60 * 44100\n",
        "end = 20 * 60 * 44100 \n",
        "\n",
        "samplerate_s, data_speech = read(\"/content/drive/MyDrive/Conversation.wav\")\n",
        "speech=data_speech[start:end,0]\n",
        "length=speech.shape[0]/samplerate_s\n",
        "print('Shape of the speech {} ... Length : {:.2f}s ... Sample rate : {}'.format(speech.shape[0],length,samplerate_s))\n",
        "\n",
        "start = 1 * 60 * 44100\n",
        "end = 5 * 60 * 44100 \n",
        "samplerate_m, data_music = read(\"/content/drive/MyDrive/music.wav\")\n",
        "music=data_music[start:end,0]\n",
        "length=music.shape[0]/samplerate_m\n",
        "print('Shape of the music {} ... Length : {:.2f}s ... Sample rate : {}'.format(music.shape[0],length,samplerate_m))\n"
      ],
      "execution_count": 5,
      "outputs": [
        {
          "output_type": "stream",
          "text": [
            "Shape of the speech 50274000 ... Length : 1140.00s ... Sample rate : 44100\n",
            "Shape of the music 10584000 ... Length : 240.00s ... Sample rate : 44100\n"
          ],
          "name": "stdout"
        }
      ]
    },
    {
      "cell_type": "code",
      "metadata": {
        "colab": {
          "base_uri": "https://localhost:8080/"
        },
        "id": "YMZEZdLJxo15",
        "outputId": "d9c8ba36-1f37-4d4d-bebb-2a5a3337e6a5"
      },
      "source": [
        "fs = 16000\n",
        "\n",
        "rate = samplerate_s / fs\n",
        "\n",
        "\n",
        "start = 1 * 60 * 44100\n",
        "end = 20 * 60 * 44100\n",
        "\n",
        "\n",
        "speech_t=data_speech[start : end, 0]\n",
        "music_t = data_music[start : end, 0]\n",
        "\n",
        "\n",
        "speech_t = signal.resample(speech_t,int(speech_t.shape[0]/rate))\n",
        "music_t = signal.resample(music_t,int(music_t.shape[0]/rate))\n",
        "samplerate=int(samplerate_m/rate)\n",
        "length=music_t.shape[0]/samplerate\n",
        "\n",
        "print('Shape of the test {} ... Length : {:.2f}s ... Sample rate : {}'.format(music_t.shape[0],length,samplerate))\n",
        "\n",
        "speech = signal.resample(speech,int(speech.shape[0]/rate))\n",
        "music = signal.resample(music,int(music.shape[0]/rate))\n",
        "\n",
        "\n",
        "print('Downsampled rate = {}'.format(samplerate))\n",
        "\n",
        "speech = butter_lowpass_filter(speech,5000,fs)\n",
        "music = butter_lowpass_filter(music,5000,fs)\n",
        "\n",
        "music_t = butter_lowpass_filter(music_t,5000,fs)\n",
        "speech_t = butter_lowpass_filter(speech_t,5000,fs)"
      ],
      "execution_count": 6,
      "outputs": [
        {
          "output_type": "stream",
          "text": [
            "Shape of the test 18240000 ... Length : 1140.00s ... Sample rate : 16000\n",
            "Downsampled rate = 16000\n"
          ],
          "name": "stdout"
        }
      ]
    },
    {
      "cell_type": "markdown",
      "metadata": {
        "id": "Jbke3Fm4zEG5"
      },
      "source": [
        "## Training STFT :\n"
      ]
    },
    {
      "cell_type": "code",
      "metadata": {
        "colab": {
          "base_uri": "https://localhost:8080/"
        },
        "id": "LHbUgVOAyDiz",
        "outputId": "5d3ec2be-56a1-4320-aeb1-b02f1ef967a3"
      },
      "source": [
        "WINDOW = 'hamming'\n",
        "WINDOW_SIZE=480\n",
        "OVERLAP = 0.8 * WINDOW_SIZE\n",
        "NFFT=512\n",
        "\n",
        "f,t,Y= signal.stft(speech,samplerate,window=WINDOW,nperseg=WINDOW_SIZE,noverlap=OVERLAP,nfft=NFFT)\n",
        "Yabs_s=np.abs(Y)\n",
        "f,t,Y= signal.stft(music,samplerate,window=WINDOW,nperseg=WINDOW_SIZE,noverlap=OVERLAP,nfft=NFFT)\n",
        "Yabs_m=np.abs(Y)\n",
        "\n",
        "\n",
        "\n",
        "SMR_db = 0\n",
        "mix,speech_mix,music_mix=get_mixed_signal(speech_t,music_t,SMR_db)\n",
        "\n",
        "\n",
        "f,t,Ymix= signal.stft(mix,samplerate,window=WINDOW,nperseg=WINDOW_SIZE,noverlap=OVERLAP,nfft=NFFT)\n",
        "Yabs_mix=np.abs(Ymix)\n",
        "\n",
        "Yabs_mix[Yabs_mix==0]=0.00001\n",
        "write(\"/MixX.wav\", samplerate, mix.astype(np.int16))\n",
        "\n"
      ],
      "execution_count": 7,
      "outputs": [
        {
          "output_type": "stream",
          "text": [
            "SMR = 0.00\n"
          ],
          "name": "stdout"
        }
      ]
    },
    {
      "cell_type": "markdown",
      "metadata": {
        "id": "gTyG9UYBzIto"
      },
      "source": [
        "## Test STFT :"
      ]
    },
    {
      "cell_type": "code",
      "metadata": {
        "colab": {
          "base_uri": "https://localhost:8080/"
        },
        "id": "Aa1jCmT4yHq_",
        "outputId": "c9419bf2-aa57-4000-f5de-b2958a2e9d76"
      },
      "source": [
        "fs = 16000\n",
        "\n",
        "rate = samplerate_s / fs\n",
        "\n",
        "\n",
        "start = 15 * 60 * 44100\n",
        "step = int(0.1 * 60 * 44100)\n",
        "\n",
        "test_s = np.array([])\n",
        "test_m = np.array([])\n",
        "\n",
        "for i in range(1):\n",
        "\n",
        "  test_s = np.hstack([test_s,data_speech[start+i*step:start+(i+1)*step,0]])\n",
        "  test_m = np.hstack([test_m,data_music[start+i*step:start+(i+1)*step,0]])\n",
        "\n",
        "\n",
        "test_s = signal.resample(test_s,int(test_s.shape[0]/rate))\n",
        "test_m = signal.resample(test_m,int(test_m.shape[0]/rate))\n",
        "samplerate=int(samplerate_m/rate)\n",
        "length=music_t.shape[0]/samplerate\n",
        "\n",
        "\n",
        "test_s = butter_lowpass_filter(test_s,5000,fs)\n",
        "test_m = butter_lowpass_filter(test_m,5000,fs)\n",
        "\n",
        "\n",
        "################################################################################\n",
        "SMR_db = 5\n",
        "test,speech_test,music_test=get_mixed_signal(test_s,test_m,SMR_db)\n",
        "\n",
        "\n",
        "f,t,Ytest= signal.stft(test,samplerate,window=WINDOW,nperseg=WINDOW_SIZE,noverlap=OVERLAP,nfft=NFFT)\n",
        "Yabs_test=np.abs(Ytest)\n",
        "\n",
        "Yabs_test[Yabs_test==0]=0.00001\n"
      ],
      "execution_count": 28,
      "outputs": [
        {
          "output_type": "stream",
          "text": [
            "SMR = 5.00\n"
          ],
          "name": "stdout"
        }
      ]
    },
    {
      "cell_type": "markdown",
      "metadata": {
        "id": "IjWdkHsOdDZ6"
      },
      "source": [
        "# Train First NMF on Clean Speech :"
      ]
    },
    {
      "cell_type": "code",
      "metadata": {
        "id": "ohqeS3S86_Nw"
      },
      "source": [
        "def softmax(x):\n",
        "\n",
        "  e_x = np.exp(x)\n",
        "  return e_x / e_x.sum(axis=0)"
      ],
      "execution_count": 9,
      "outputs": []
    },
    {
      "cell_type": "code",
      "metadata": {
        "id": "jpDYwy1YdCgx"
      },
      "source": [
        "Nc = 8 #8\n",
        "Nm = 8\n",
        "\n",
        "model = NMF(n_components=Nc, init='random',alpha=0.0,beta_loss='frobenius',solver=\"mu\",max_iter=50, random_state=7)\n",
        "model.fit(np.transpose(Yabs_s))\n",
        "Dc = np.transpose(model.components_)\n",
        "scaler = MinMaxScaler()\n",
        "Dc = scaler.fit_transform(Dc)\n"
      ],
      "execution_count": 10,
      "outputs": []
    },
    {
      "cell_type": "markdown",
      "metadata": {
        "id": "e8SH3ITBd_zy"
      },
      "source": [
        "# Train NMF on Noisy Speech :"
      ]
    },
    {
      "cell_type": "code",
      "metadata": {
        "id": "LwXFaFPLzvpt"
      },
      "source": [
        "def nmf(X, Dc, Nn, lamb=0.1, maxit=100):\n",
        "\n",
        "    Nc = Dc.shape[1]\n",
        "    H = np.random.rand(Nc+Nn, X.shape[1])\n",
        "\n",
        "    Dn = np.random.rand(X. shape[0], Nn)\n",
        "    print(f\"Shape of Dc {Dc.shape} Shape of Dn {Dn.shape}\")\n",
        "    D = np.hstack([Dc,Dn])\n",
        "    Dnorm = D / np.sum(D**2, axis=0)**(.5)\n",
        "\n",
        "    print(f'Dnorm shape {Dnorm.shape} and X shape {X.shape} and H shape {H.shape}')\n",
        "    hist=[]\n",
        "    for i in range(maxit):\n",
        "        H = H * (np.matmul(Dnorm.T, X)) / (np.matmul(np.matmul(Dnorm.T, Dnorm), H) + lamb)\n",
        "        D[:,Dc.shape[1]:] = (Dnorm * (np.matmul(X, H.T) + Dnorm * (np.matmul(np.ones((X.shape[0], X.shape[0])), np.matmul(Dnorm, np.matmul(H, H.T)) * Dnorm))) / (np.matmul(Dnorm, np.matmul(H, H.T)) + Dnorm * (np.matmul(np.ones((X.shape[0], X.shape[0])), np.matmul(X, H.T) * Dnorm))))[:,Dc.shape[1]:]\n",
        "        Dnorm = D / np.sum(D**2, axis=0)**(.5)\n",
        "        hist.append(LA.norm(X-np.matmul(Dnorm,H)))\n",
        "    #Dnorm[:,Dc.shape[1]:] = softmax(Dnorm[:,Dc.shape[1]:])\n",
        "    return Dnorm, H,hist"
      ],
      "execution_count": 11,
      "outputs": []
    },
    {
      "cell_type": "code",
      "metadata": {
        "id": "FXGmjW-vCaiC",
        "colab": {
          "base_uri": "https://localhost:8080/"
        },
        "outputId": "0491bdee-5245-4a5e-e28f-85a82f080bc5"
      },
      "source": [
        "D,H,hist = nmf(Yabs_mix,Dc,Nm)\n",
        "\n",
        "scaler = MinMaxScaler()\n",
        "D =  scaler.fit_transform(D)\n"
      ],
      "execution_count": 12,
      "outputs": [
        {
          "output_type": "stream",
          "text": [
            "Shape of Dc (257, 8) Shape of Dn (257, 8)\n",
            "Dnorm shape (257, 16) and X shape (257, 190001) and H shape (16, 190001)\n"
          ],
          "name": "stdout"
        }
      ]
    },
    {
      "cell_type": "markdown",
      "metadata": {
        "id": "8dIwuar0T8Id"
      },
      "source": [
        "# Test NMF :"
      ]
    },
    {
      "cell_type": "code",
      "metadata": {
        "id": "15-p3FEJT5_3"
      },
      "source": [
        "model_test = NMF(n_components=Nc+Nm, init='nndsvd',alpha=0.1,beta_loss='frobenius',solver=\"mu\",max_iter=200, random_state=7)\n",
        "model_test.fit(np.transpose(Yabs_test))\n",
        "    \n",
        "model_test.components_= np.transpose(D)\n",
        "G_test=np.transpose(model_test.transform(np.transpose(Yabs_test)))"
      ],
      "execution_count": 29,
      "outputs": []
    },
    {
      "cell_type": "code",
      "metadata": {
        "id": "iZCUnMdShJX1"
      },
      "source": [
        "from tqdm import tqdm\n",
        "\n",
        "\n",
        "\n",
        "def soft(z,a,l=0.02):\n",
        "  h = np.maximum(np.abs(z)-5,np.zeros(z.shape[0]))\n",
        "  return h\n",
        "  \n",
        "def warm_start_ISTA(x,W,n_components,a,K,l=0.02):\n",
        "\n",
        "  np.random.seed(seed=7)\n",
        "  h = np.random.rand(W.shape[1] , x.shape[1])\n",
        "  T = x.shape[1]\n",
        "\n",
        "  for t_ in tqdm(range(1,T)):\n",
        "    h[:,t_] = h[:,t_-1]\n",
        "\n",
        "    for _ in range(1,K):\n",
        "      z = (np.identity(n_components) - (1/a)*(np.transpose(W)@W))@h[:,t_] + \\\n",
        "          (1/a)*np.transpose(W)@x[:,t_]\n",
        "\n",
        "      h[:,t_] = soft(z,a,l)\n",
        "  return h "
      ],
      "execution_count": 30,
      "outputs": []
    },
    {
      "cell_type": "code",
      "metadata": {
        "colab": {
          "base_uri": "https://localhost:8080/"
        },
        "id": "hrLg2CNKJpGP",
        "outputId": "f48b8c88-556f-4017-d26b-55f4348a1487"
      },
      "source": [
        "h_ws = warm_start_ISTA(Yabs_test,D,16,\n",
        "                    400,\n",
        "                    5)"
      ],
      "execution_count": 31,
      "outputs": [
        {
          "output_type": "stream",
          "text": [
            "\n",
            "  0%|          | 0/1000 [00:00<?, ?it/s]\u001b[A\n",
            " 36%|███▌      | 360/1000 [00:00<00:00, 3595.92it/s]\u001b[A\n",
            "100%|██████████| 1000/1000 [00:00<00:00, 3547.10it/s]\n"
          ],
          "name": "stderr"
        }
      ]
    },
    {
      "cell_type": "code",
      "metadata": {
        "id": "7TlOp1gvPGfc"
      },
      "source": [
        "h_ws[h_ws == 0] = 0.0001"
      ],
      "execution_count": 32,
      "outputs": []
    },
    {
      "cell_type": "code",
      "metadata": {
        "colab": {
          "base_uri": "https://localhost:8080/"
        },
        "id": "ozbW9qjL1DDE",
        "outputId": "a3454253-009f-463f-b85b-2ce5fb9e0f47"
      },
      "source": [
        "eval(D,G_test,Ytest) ,eval(D,h_ws,Ytest)"
      ],
      "execution_count": 33,
      "outputs": [
        {
          "output_type": "stream",
          "text": [
            "Reconstruction Step .... Done\n",
            "Speech SDR = 5.121826872724419\n",
            "Music SDR = 0.8193960391070122\n",
            "Reconstruction Step .... Done\n",
            "Speech SDR = 5.481261430480854\n",
            "Music SDR = 0.6680353657615469\n"
          ],
          "name": "stdout"
        },
        {
          "output_type": "execute_result",
          "data": {
            "text/plain": [
              "(None, None)"
            ]
          },
          "metadata": {
            "tags": []
          },
          "execution_count": 33
        }
      ]
    },
    {
      "cell_type": "code",
      "metadata": {
        "colab": {
          "base_uri": "https://localhost:8080/"
        },
        "id": "nZxto22cTL2v",
        "outputId": "37017f7a-2d4f-451c-d2f7-bf7624498444"
      },
      "source": [
        "eval(D,G_test,Ytest) ,eval(D,h_ws,Ytest)"
      ],
      "execution_count": 34,
      "outputs": [
        {
          "output_type": "stream",
          "text": [
            "Reconstruction Step .... Done\n",
            "Speech SDR = 5.121826872724419\n",
            "Music SDR = 0.8193960391070122\n",
            "Reconstruction Step .... Done\n",
            "Speech SDR = 5.481261430480854\n",
            "Music SDR = 0.6680353657615469\n"
          ],
          "name": "stdout"
        },
        {
          "output_type": "execute_result",
          "data": {
            "text/plain": [
              "(None, None)"
            ]
          },
          "metadata": {
            "tags": []
          },
          "execution_count": 34
        }
      ]
    },
    {
      "cell_type": "markdown",
      "metadata": {
        "id": "HgX9C70xVaZk"
      },
      "source": [
        "# Unfolded ISTA"
      ]
    },
    {
      "cell_type": "code",
      "metadata": {
        "id": "yeOhWKfJaQfV"
      },
      "source": [
        "import torch"
      ],
      "execution_count": 35,
      "outputs": []
    },
    {
      "cell_type": "code",
      "metadata": {
        "id": "swu78l4OZs-a"
      },
      "source": [
        "Sources,Masks=Reconstruct(B=D,G=G_test,Ns=Dc.shape[1],Nm=Nm,Yabs=Ytest,p=0.5)\n",
        "M = Masks[0]\n",
        "f,t,Y= signal.stft(test_s,samplerate,window=WINDOW,nperseg=WINDOW_SIZE,noverlap=OVERLAP,nfft=NFFT)\n",
        "Y_clean=np.abs(Y)\n",
        "Y_clean[Y_clean==0]=0.00001\n"
      ],
      "execution_count": 36,
      "outputs": []
    },
    {
      "cell_type": "code",
      "metadata": {
        "colab": {
          "base_uri": "https://localhost:8080/"
        },
        "id": "JM2YYmYwswiC",
        "outputId": "d76b7e11-8e44-4ce9-ae01-43344c29a839"
      },
      "source": [
        "X = Yabs_test\n",
        "X_cmplx = Ytest\n",
        "W = D\n",
        "alpha = 100\n",
        "K = 3\n",
        "lambd = 0.01\n",
        "torch.autograd.set_detect_anomaly(False)\n"
      ],
      "execution_count": 37,
      "outputs": [
        {
          "output_type": "execute_result",
          "data": {
            "text/plain": [
              "<torch.autograd.anomaly_mode.set_detect_anomaly at 0x7f19eadf1d90>"
            ]
          },
          "metadata": {
            "tags": []
          },
          "execution_count": 37
        }
      ]
    },
    {
      "cell_type": "code",
      "metadata": {
        "id": "1jZybwIcwHVT"
      },
      "source": [
        "def speech_mask(B,G,Ns,p):\n",
        "    B1=B[:,:Ns]\n",
        "    B2=B[:,Ns:]\n",
        "    G1=G[:Ns,:]\n",
        "    G2=G[Ns:,:]\n",
        "    \n",
        "    \n",
        "    numerator = torch.pow(torch.matmul(B1,G1),p)\n",
        "\n",
        "    denominator = torch.pow(torch.matmul(B1,G1),p)+torch.pow(torch.matmul(B2,G2),p)\n",
        "  \n",
        "\n",
        "    mask_speech = numerator/(denominator+0.00001)\n",
        "\n",
        "    \n",
        "    return mask_speech\n",
        "\n",
        "\n",
        "def sigmoid(x):\n",
        "  return torch.nn.Sigmoid()(x)\n",
        "\n",
        "def soft(z,a,l=0.02):\n",
        "  h = np.maximum(np.abs(z)-0.5,np.zeros(z.shape[0]))\n",
        "  return h\n",
        "\n",
        "\n",
        "def error(X,M,Y):\n",
        "\n",
        "  return torch.nn.MSELoss()(Y,M*X) \n",
        "\n",
        "def Unfolded_ISTA(X, W, alpha, K,m,lambd,epochs,learning_rate):\n",
        "  loss_e = 0\n",
        "  epoch_loss = []\n",
        "  torch.manual_seed(7)\n",
        "  X = torch.from_numpy(X).float()\n",
        "  W = torch.from_numpy(W).float()\n",
        "  W = torch.tile(W, (K,1,1))\n",
        "  alpha_list = torch.tile(torch.tensor([1]).float(),(K,))\n",
        "  H = torch.rand(W.shape[2],X.shape[1])\n",
        "  H = torch.tile(H, (K,1,1))\n",
        "  H_clone = H.clone()\n",
        "  Y = torch.from_numpy(Y_clean).float()\n",
        "  W1 = W[0]\n",
        "  W2 = W[1]\n",
        "  W3 = W[2]\n",
        " # W1.requires_grad = True\n",
        "  #W2.requires_grad = True\n",
        "  W3.requires_grad = True\n",
        "  H_e = H[0]\n",
        "  H_e.requires_grad = True\n",
        "  params =   [W3] + [H_e]\n",
        "  sgd = torch.optim.SGD(params,lr=learning_rate)\n",
        "  for e in range(epochs):\n",
        "    for t in tqdm(np.arange(1,X.shape[1]),position=0, leave=True):\n",
        "\n",
        "      sgd.zero_grad()      \n",
        "\n",
        "\n",
        "          #h0_ = unfolded_cell(W1,H,alpha_list,0,t)\n",
        "        # h1_k = unfolded_cell(W2,h0_,alpha_list,1,t)\n",
        "        # h2_k  = unfolded_cell(W3,h1_k.float(),alpha_list,2,t)\n",
        "\n",
        "      mask = speech_mask(sigmoid(W3),sigmoid(H_e),8,m)\n",
        "      #print(mask)\n",
        "      loss = error(X[:,t],mask[:,t],Y[:,t])\n",
        "      #print(\"\\n\",loss)\n",
        "\n",
        "      loss.backward()\n",
        "\n",
        "      sgd.step()\n",
        "    print(f'Epoch {e} ... Loss = {loss.item()}')\n",
        "  return (torch.nn.Sigmoid()(W3)).detach().numpy(), sigmoid(H_e).detach().numpy()\n"
      ],
      "execution_count": 119,
      "outputs": []
    },
    {
      "cell_type": "code",
      "metadata": {
        "colab": {
          "base_uri": "https://localhost:8080/"
        },
        "id": "rg55I7wfBP7o",
        "outputId": "df573452-2925-4f8b-d74b-8e5849cfe66a"
      },
      "source": [
        "d_new ,s = Unfolded_ISTA(X, W, 400,3,0.5, lambd,epochs=20,learning_rate= 0.01)"
      ],
      "execution_count": 130,
      "outputs": [
        {
          "output_type": "stream",
          "text": [
            "100%|██████████| 1000/1000 [00:08<00:00, 115.07it/s]\n",
            "  1%|          | 12/1000 [00:00<00:08, 115.05it/s]"
          ],
          "name": "stderr"
        },
        {
          "output_type": "stream",
          "text": [
            "Epoch 0 ... Loss = 163.49977111816406\n"
          ],
          "name": "stdout"
        },
        {
          "output_type": "stream",
          "text": [
            "100%|██████████| 1000/1000 [00:08<00:00, 116.05it/s]\n",
            "  1%|          | 12/1000 [00:00<00:08, 112.79it/s]"
          ],
          "name": "stderr"
        },
        {
          "output_type": "stream",
          "text": [
            "Epoch 1 ... Loss = 153.4048309326172\n"
          ],
          "name": "stdout"
        },
        {
          "output_type": "stream",
          "text": [
            "100%|██████████| 1000/1000 [00:08<00:00, 117.73it/s]\n",
            "  1%|          | 12/1000 [00:00<00:08, 117.96it/s]"
          ],
          "name": "stderr"
        },
        {
          "output_type": "stream",
          "text": [
            "Epoch 2 ... Loss = 155.67825317382812\n"
          ],
          "name": "stdout"
        },
        {
          "output_type": "stream",
          "text": [
            "100%|██████████| 1000/1000 [00:08<00:00, 117.91it/s]\n",
            "  1%|▏         | 13/1000 [00:00<00:07, 123.72it/s]"
          ],
          "name": "stderr"
        },
        {
          "output_type": "stream",
          "text": [
            "Epoch 3 ... Loss = 160.64013671875\n"
          ],
          "name": "stdout"
        },
        {
          "output_type": "stream",
          "text": [
            "100%|██████████| 1000/1000 [00:08<00:00, 120.03it/s]\n",
            "  1%|          | 12/1000 [00:00<00:08, 112.64it/s]"
          ],
          "name": "stderr"
        },
        {
          "output_type": "stream",
          "text": [
            "Epoch 4 ... Loss = 165.35545349121094\n"
          ],
          "name": "stdout"
        },
        {
          "output_type": "stream",
          "text": [
            "100%|██████████| 1000/1000 [00:08<00:00, 118.78it/s]\n",
            "  1%|▏         | 13/1000 [00:00<00:07, 123.38it/s]"
          ],
          "name": "stderr"
        },
        {
          "output_type": "stream",
          "text": [
            "Epoch 5 ... Loss = 169.61277770996094\n"
          ],
          "name": "stdout"
        },
        {
          "output_type": "stream",
          "text": [
            "100%|██████████| 1000/1000 [00:08<00:00, 121.01it/s]\n",
            "  1%|▏         | 13/1000 [00:00<00:07, 129.00it/s]"
          ],
          "name": "stderr"
        },
        {
          "output_type": "stream",
          "text": [
            "Epoch 6 ... Loss = 172.3710479736328\n"
          ],
          "name": "stdout"
        },
        {
          "output_type": "stream",
          "text": [
            "100%|██████████| 1000/1000 [00:08<00:00, 119.50it/s]\n",
            "  1%|▏         | 13/1000 [00:00<00:07, 123.83it/s]"
          ],
          "name": "stderr"
        },
        {
          "output_type": "stream",
          "text": [
            "Epoch 7 ... Loss = 173.6717529296875\n"
          ],
          "name": "stdout"
        },
        {
          "output_type": "stream",
          "text": [
            "100%|██████████| 1000/1000 [00:08<00:00, 119.04it/s]\n",
            "  1%|          | 12/1000 [00:00<00:08, 118.36it/s]"
          ],
          "name": "stderr"
        },
        {
          "output_type": "stream",
          "text": [
            "Epoch 8 ... Loss = 174.5437469482422\n"
          ],
          "name": "stdout"
        },
        {
          "output_type": "stream",
          "text": [
            "100%|██████████| 1000/1000 [00:08<00:00, 118.76it/s]\n",
            "  1%|▏         | 13/1000 [00:00<00:08, 122.17it/s]"
          ],
          "name": "stderr"
        },
        {
          "output_type": "stream",
          "text": [
            "Epoch 9 ... Loss = 174.77940368652344\n"
          ],
          "name": "stdout"
        },
        {
          "output_type": "stream",
          "text": [
            "100%|██████████| 1000/1000 [00:08<00:00, 120.47it/s]\n",
            "  1%|          | 12/1000 [00:00<00:08, 119.31it/s]"
          ],
          "name": "stderr"
        },
        {
          "output_type": "stream",
          "text": [
            "Epoch 10 ... Loss = 174.2681121826172\n"
          ],
          "name": "stdout"
        },
        {
          "output_type": "stream",
          "text": [
            "100%|██████████| 1000/1000 [00:08<00:00, 121.74it/s]\n",
            "  1%|▏         | 13/1000 [00:00<00:07, 125.01it/s]"
          ],
          "name": "stderr"
        },
        {
          "output_type": "stream",
          "text": [
            "Epoch 11 ... Loss = 172.11480712890625\n"
          ],
          "name": "stdout"
        },
        {
          "output_type": "stream",
          "text": [
            "100%|██████████| 1000/1000 [00:08<00:00, 119.35it/s]\n",
            "  1%|          | 12/1000 [00:00<00:08, 113.67it/s]"
          ],
          "name": "stderr"
        },
        {
          "output_type": "stream",
          "text": [
            "Epoch 12 ... Loss = 168.07315063476562\n"
          ],
          "name": "stdout"
        },
        {
          "output_type": "stream",
          "text": [
            "100%|██████████| 1000/1000 [00:08<00:00, 120.19it/s]\n",
            "  1%|▏         | 13/1000 [00:00<00:08, 120.23it/s]"
          ],
          "name": "stderr"
        },
        {
          "output_type": "stream",
          "text": [
            "Epoch 13 ... Loss = 165.35714721679688\n"
          ],
          "name": "stdout"
        },
        {
          "output_type": "stream",
          "text": [
            "100%|██████████| 1000/1000 [00:08<00:00, 118.03it/s]\n",
            "  1%|          | 12/1000 [00:00<00:08, 117.62it/s]"
          ],
          "name": "stderr"
        },
        {
          "output_type": "stream",
          "text": [
            "Epoch 14 ... Loss = 162.67347717285156\n"
          ],
          "name": "stdout"
        },
        {
          "output_type": "stream",
          "text": [
            "100%|██████████| 1000/1000 [00:08<00:00, 117.98it/s]\n",
            "  1%|          | 12/1000 [00:00<00:08, 119.13it/s]"
          ],
          "name": "stderr"
        },
        {
          "output_type": "stream",
          "text": [
            "Epoch 15 ... Loss = 159.9063262939453\n"
          ],
          "name": "stdout"
        },
        {
          "output_type": "stream",
          "text": [
            "100%|██████████| 1000/1000 [00:08<00:00, 118.02it/s]\n",
            "  1%|▏         | 13/1000 [00:00<00:07, 124.70it/s]"
          ],
          "name": "stderr"
        },
        {
          "output_type": "stream",
          "text": [
            "Epoch 16 ... Loss = 157.1003875732422\n"
          ],
          "name": "stdout"
        },
        {
          "output_type": "stream",
          "text": [
            "100%|██████████| 1000/1000 [00:08<00:00, 118.99it/s]\n",
            "  1%|          | 12/1000 [00:00<00:08, 116.63it/s]"
          ],
          "name": "stderr"
        },
        {
          "output_type": "stream",
          "text": [
            "Epoch 17 ... Loss = 153.998046875\n"
          ],
          "name": "stdout"
        },
        {
          "output_type": "stream",
          "text": [
            "100%|██████████| 1000/1000 [00:08<00:00, 118.08it/s]\n",
            "  1%|          | 12/1000 [00:00<00:08, 117.68it/s]"
          ],
          "name": "stderr"
        },
        {
          "output_type": "stream",
          "text": [
            "Epoch 18 ... Loss = 150.412353515625\n"
          ],
          "name": "stdout"
        },
        {
          "output_type": "stream",
          "text": [
            "100%|██████████| 1000/1000 [00:08<00:00, 118.89it/s]"
          ],
          "name": "stderr"
        },
        {
          "output_type": "stream",
          "text": [
            "Epoch 19 ... Loss = 146.39210510253906\n"
          ],
          "name": "stdout"
        },
        {
          "output_type": "stream",
          "text": [
            "\n"
          ],
          "name": "stderr"
        }
      ]
    },
    {
      "cell_type": "code",
      "metadata": {
        "id": "j7tBsJmU-mXM"
      },
      "source": [
        "d_new[d_new == 0] = 0.000001"
      ],
      "execution_count": 131,
      "outputs": []
    },
    {
      "cell_type": "code",
      "metadata": {
        "colab": {
          "base_uri": "https://localhost:8080/",
          "height": 280
        },
        "id": "NFFKIJQH8glZ",
        "outputId": "36db9176-05d2-4762-d5ab-60a4dfc08980"
      },
      "source": [
        "sns.distplot(s)"
      ],
      "execution_count": 134,
      "outputs": [
        {
          "output_type": "execute_result",
          "data": {
            "text/plain": [
              "<matplotlib.axes._subplots.AxesSubplot at 0x7f19e3765c90>"
            ]
          },
          "metadata": {
            "tags": []
          },
          "execution_count": 134
        },
        {
          "output_type": "display_data",
          "data": {
            "image/png": "[encoded data removed]",
            "text/plain": [
              "<Figure size 432x288 with 1 Axes>"
            ]
          },
          "metadata": {
            "tags": [],
            "needs_background": "light"
          }
        }
      ]
    },
    {
      "cell_type": "code",
      "metadata": {
        "colab": {
          "base_uri": "https://localhost:8080/"
        },
        "id": "FeT-56XZ7m7h",
        "outputId": "e331347c-8b36-45d4-f6b1-d9798ff38ffd"
      },
      "source": [
        "print(\"SDR Evaluation using MU \\n\")\n",
        "eval(D,G_test,Ytest) ## mu \n",
        "print(\"\\n\")\n",
        "print(\"SDR Evaluation using Warm Start ISTA \\n\")\n",
        "\n",
        "eval(D,h_ws,Ytest)  ## warm start ISTA\n",
        "print(\"\\n\")\n",
        "\n",
        "print(\"SDR Evaluation using SGD on W and H \\n\")\n",
        "\n",
        "eval(d_new,s,Ytest) ## DU ISTA"
      ],
      "execution_count": 132,
      "outputs": [
        {
          "output_type": "stream",
          "text": [
            "SDR Evaluation using MU \n",
            "\n",
            "Reconstruction Step .... Done\n",
            "Speech SDR = 5.121826872724419\n",
            "Music SDR = 0.8193960391070122\n",
            "\n",
            "\n",
            "SDR Evaluation using Warm Start ISTA \n",
            "\n",
            "Reconstruction Step .... Done\n",
            "Speech SDR = 5.481261430480854\n",
            "Music SDR = 0.6680353657615469\n",
            "\n",
            "\n",
            "SDR Evaluation using SGD on W and H \n",
            "\n",
            "Reconstruction Step .... Done\n",
            "Speech SDR = 7.544101910637524\n",
            "Music SDR = 1.3718635050900332\n"
          ],
          "name": "stdout"
        }
      ]
    },
    {
      "cell_type": "code",
      "metadata": {
        "colab": {
          "base_uri": "https://localhost:8080/"
        },
        "id": "cROoKc7M3Aqn",
        "outputId": "02893ca3-52dc-4130-eb38-c96e2a254d98"
      },
      "source": [
        "eval(d_new,G_test,Ytest)"
      ],
      "execution_count": 107,
      "outputs": [
        {
          "output_type": "stream",
          "text": [
            "Reconstruction Step .... Done\n",
            "Speech SDR = 3.88776650811474\n",
            "Music SDR = 0.2579344180670355\n"
          ],
          "name": "stdout"
        }
      ]
    },
    {
      "cell_type": "code",
      "metadata": {
        "colab": {
          "base_uri": "https://localhost:8080/"
        },
        "id": "tzPFnHx32xXt",
        "outputId": "555dd7b8-61b1-4aa5-8ffd-fd575d7ce8eb"
      },
      "source": [
        "s.shape, d_new.shape"
      ],
      "execution_count": 105,
      "outputs": [
        {
          "output_type": "execute_result",
          "data": {
            "text/plain": [
              "((16, 190001), (257, 16))"
            ]
          },
          "metadata": {
            "tags": []
          },
          "execution_count": 105
        }
      ]
    },
    {
      "cell_type": "code",
      "metadata": {
        "colab": {
          "base_uri": "https://localhost:8080/"
        },
        "id": "3rWuNisK00ly",
        "outputId": "490bb09f-677a-4a17-fbbd-d236988d1d73"
      },
      "source": [
        "eval(d_new,G_test,Ytest) ## DU ISTA"
      ],
      "execution_count": 89,
      "outputs": [
        {
          "output_type": "stream",
          "text": [
            "Reconstruction Step .... Done\n",
            "Speech SDR = 6.355166719975738\n",
            "Music SDR = 0.8139672650248776\n"
          ],
          "name": "stdout"
        }
      ]
    },
    {
      "cell_type": "code",
      "metadata": {
        "colab": {
          "base_uri": "https://localhost:8080/"
        },
        "id": "cg5lxSd498eX",
        "outputId": "f5f8fda3-540f-40e2-9d47-24f49e6c7bfa"
      },
      "source": [
        "print(\"SDR Evaluation using MU \\n\")\n",
        "eval(D,G_test,Ytest) ## mu \n",
        "print(\"\\n\")\n",
        "print(\"SDR Evaluation using Warm Start ISTA \\n\")\n",
        "\n",
        "eval(D,h_ws,Ytest)  ## warm start ISTA\n",
        "print(\"\\n\")\n",
        "\n",
        "print(\"SDR Evaluation using Unfolded ISTA \\n\")\n",
        "\n",
        "eval(d_new,s[0],Ytest) ## DU ISTA"
      ],
      "execution_count": 139,
      "outputs": [
        {
          "output_type": "stream",
          "text": [
            "SDR Evaluation using MU \n",
            "\n",
            "Reconstruction Step .... Done\n",
            "Speech SDR = 5.244604236740347\n",
            "Music SDR = 0.8541149564844507\n",
            "\n",
            "\n",
            "SDR Evaluation using Warm Start ISTA \n",
            "\n",
            "Reconstruction Step .... Done\n",
            "Speech SDR = 5.752297919743787\n",
            "Music SDR = 0.7212212823140547\n",
            "\n",
            "\n",
            "SDR Evaluation using Unfolded ISTA \n",
            "\n",
            "Reconstruction Step .... Done\n",
            "Speech SDR = 5.016324300365502\n",
            "Music SDR = 0.4592417071328905\n"
          ],
          "name": "stdout"
        }
      ]
    },
    {
      "cell_type": "code",
      "metadata": {
        "id": "IXOY2nMDRoCv"
      },
      "source": [
        ""
      ],
      "execution_count": null,
      "outputs": []
    }
  ]
}