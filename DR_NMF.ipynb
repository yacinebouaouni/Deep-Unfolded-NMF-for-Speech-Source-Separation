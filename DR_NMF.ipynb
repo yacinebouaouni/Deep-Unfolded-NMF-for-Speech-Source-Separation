{
  "nbformat": 4,
  "nbformat_minor": 0,
  "metadata": {
    "colab": {
      "name": "DR-NMF.ipynb",
      "provenance": [],
      "collapsed_sections": [],
      "toc_visible": true
    },
    "kernelspec": {
      "display_name": "Python 3",
      "name": "python3"
    },
    "language_info": {
      "name": "python"
    }
  },
  "cells": [
    {
      "cell_type": "code",
      "metadata": {
        "colab": {
          "base_uri": "https://localhost:8080/",
          "height": 86
        },
        "id": "Mc8NsZqwwWiQ",
        "outputId": "3c1d8683-ddbe-4a6b-90a8-07e648a5a692"
      },
      "source": [
        "# Mount Google Drive\n",
        "from google.colab import drive # import drive from google colab\n",
        " \n",
        "ROOT = \"/content/drive\"     # default location for the drive\n",
        "print(ROOT)                 # print content of ROOT (Optional)\n",
        " \n",
        "drive.mount(ROOT)           # we mount the google drive at /content/drive\n",
        "%cd \"/content/drive/My Drive/Deep Unfolded NMF\"\n",
        "%pwd"
      ],
      "execution_count": 1,
      "outputs": [
        {
          "output_type": "stream",
          "text": [
            "/content/drive\n",
            "Mounted at /content/drive\n",
            "/content/drive/My Drive/Deep Unfolded NMF\n"
          ],
          "name": "stdout"
        },
        {
          "output_type": "execute_result",
          "data": {
            "application/vnd.google.colaboratory.intrinsic+json": {
              "type": "string"
            },
            "text/plain": [
              "'/content/drive/My Drive/Deep Unfolded NMF'"
            ]
          },
          "metadata": {
            "tags": []
          },
          "execution_count": 1
        }
      ]
    },
    {
      "cell_type": "code",
      "metadata": {
        "colab": {
          "base_uri": "https://localhost:8080/"
        },
        "id": "r2r72nk9HrbY",
        "outputId": "d55758e6-232c-4b2d-d19e-0354eb25bea7"
      },
      "source": [
        "!ls "
      ],
      "execution_count": null,
      "outputs": [
        {
          "output_type": "stream",
          "text": [
            "DR-NMF.ipynb  helpers2.py  __pycache__\tresults\n"
          ],
          "name": "stdout"
        }
      ]
    },
    {
      "cell_type": "code",
      "metadata": {
        "id": "PYxUhmqBwXk8"
      },
      "source": [
        "import numpy as np\n",
        "import os\n",
        "import matplotlib.pyplot as plt\n",
        "from scipy.signal import butter, lfilter, freqz\n",
        "\n",
        "from scipy.io.wavfile import read, write\n",
        "from scipy import signal\n",
        "from sklearn.decomposition import NMF\n",
        "from sklearn.preprocessing import MinMaxScaler\n",
        "\n",
        "from numpy import linalg as LA\n",
        "from numpy.linalg import inv\n",
        "from helpers2 import Reconstruct, Viz_Y,SMR,get_mixed_signal,SDR,butter_lowpass_filter, nmf\n",
        "import seaborn as sns\n",
        "import warnings\n",
        "import math\n",
        "from tqdm import tqdm\n",
        "warnings.simplefilter('ignore')"
      ],
      "execution_count": 2,
      "outputs": []
    },
    {
      "cell_type": "code",
      "metadata": {
        "colab": {
          "base_uri": "https://localhost:8080/"
        },
        "id": "idEcwxGxxkOd",
        "outputId": "37dac4a6-e910-419b-db58-ba8e134e2018"
      },
      "source": [
        "# Best 1-15 min\n",
        "\n",
        "start = 1 * 60 * 44100\n",
        "end = 20 * 60 * 44100 \n",
        "\n",
        "samplerate_s, data_speech = read(\"../PFE/DATA/Conversation.wav\")\n",
        "speech=data_speech[start:end,0]\n",
        "length=speech.shape[0]/samplerate_s\n",
        "print('Shape of the speech {} ... Length : {:.2f}s ... Sample rate : {}'.format(speech.shape[0],length,samplerate_s))\n",
        "\n",
        "start = 1 * 60 * 44100\n",
        "end = 5 * 60 * 44100 \n",
        "samplerate_m, data_music = read(\"../PFE/DATA/Bigmusic2.wav\")\n",
        "music=data_music[start:end,0]\n",
        "length=music.shape[0]/samplerate_m\n",
        "print('Shape of the music {} ... Length : {:.2f}s ... Sample rate : {}'.format(music.shape[0],length,samplerate_m))\n"
      ],
      "execution_count": 361,
      "outputs": [
        {
          "output_type": "stream",
          "text": [
            "Shape of the speech 50274000 ... Length : 1140.00s ... Sample rate : 44100\n",
            "Shape of the music 10584000 ... Length : 240.00s ... Sample rate : 44100\n"
          ],
          "name": "stdout"
        }
      ]
    },
    {
      "cell_type": "code",
      "metadata": {
        "colab": {
          "base_uri": "https://localhost:8080/"
        },
        "id": "YMZEZdLJxo15",
        "outputId": "2972319a-f8a7-490b-abcc-b904aa5917ea"
      },
      "source": [
        "fs = 16000\n",
        "\n",
        "rate = samplerate_s / fs\n",
        "\n",
        "\n",
        "start = 1 * 60 * 44100\n",
        "end = 20 * 60 * 44100\n",
        "\n",
        "\n",
        "speech_t=data_speech[start : end, 0]\n",
        "music_t = data_music[start : end, 0]\n",
        "\n",
        "\n",
        "speech_t = signal.resample(speech_t,int(speech_t.shape[0]/rate))\n",
        "music_t = signal.resample(music_t,int(music_t.shape[0]/rate))\n",
        "samplerate=int(samplerate_m/rate)\n",
        "length=music_t.shape[0]/samplerate\n",
        "\n",
        "print('Shape of the test {} ... Length : {:.2f}s ... Sample rate : {}'.format(music_t.shape[0],length,samplerate))\n",
        "\n",
        "speech = signal.resample(speech,int(speech.shape[0]/rate))\n",
        "music = signal.resample(music,int(music.shape[0]/rate))\n",
        "\n",
        "\n",
        "print('Downsampled rate = {}'.format(samplerate))\n",
        "\n",
        "speech = butter_lowpass_filter(speech,5000,fs)\n",
        "music = butter_lowpass_filter(music,5000,fs)\n",
        "\n",
        "music_t = butter_lowpass_filter(music_t,5000,fs)\n",
        "speech_t = butter_lowpass_filter(speech_t,5000,fs)"
      ],
      "execution_count": 362,
      "outputs": [
        {
          "output_type": "stream",
          "text": [
            "Shape of the test 18240000 ... Length : 1140.00s ... Sample rate : 16000\n",
            "Downsampled rate = 16000\n"
          ],
          "name": "stdout"
        }
      ]
    },
    {
      "cell_type": "markdown",
      "metadata": {
        "id": "Jbke3Fm4zEG5"
      },
      "source": [
        "## Training STFT :\n"
      ]
    },
    {
      "cell_type": "code",
      "metadata": {
        "id": "LHbUgVOAyDiz",
        "colab": {
          "base_uri": "https://localhost:8080/"
        },
        "outputId": "cf9c8ff6-802b-4d0c-80ce-8af7949431be"
      },
      "source": [
        "WINDOW = 'hamming'\n",
        "WINDOW_SIZE=480\n",
        "OVERLAP = 0.5 * WINDOW_SIZE\n",
        "NFFT=512\n",
        "\n",
        "f,t,Y= signal.stft(speech,samplerate,window=WINDOW,nperseg=WINDOW_SIZE,noverlap=OVERLAP,nfft=NFFT)\n",
        "Yabs_s=np.abs(Y)\n",
        "f,t,Y= signal.stft(music,samplerate,window=WINDOW,nperseg=WINDOW_SIZE,noverlap=OVERLAP,nfft=NFFT)\n",
        "Yabs_m=np.abs(Y)\n",
        "\n",
        "\n",
        "\n",
        "\n",
        "\n",
        "\n",
        "SMR_db = -5\n",
        "\n",
        "\n",
        "\n",
        "mix,speech_mix,music_mix=get_mixed_signal(speech_t,music_t,SMR_db)\n",
        "\n",
        "\n",
        "f,t,Ymix= signal.stft(mix,samplerate,window=WINDOW,nperseg=WINDOW_SIZE,noverlap=OVERLAP,nfft=NFFT)\n",
        "Yabs_mix=np.abs(Ymix)\n",
        "\n",
        "Yabs_mix[Yabs_mix==0]=0.00001\n",
        "\n"
      ],
      "execution_count": 363,
      "outputs": [
        {
          "output_type": "stream",
          "text": [
            "SMR = -5.00\n"
          ],
          "name": "stdout"
        }
      ]
    },
    {
      "cell_type": "markdown",
      "metadata": {
        "id": "gTyG9UYBzIto"
      },
      "source": [
        "## Test STFT :"
      ]
    },
    {
      "cell_type": "code",
      "metadata": {
        "colab": {
          "base_uri": "https://localhost:8080/"
        },
        "id": "Aa1jCmT4yHq_",
        "outputId": "bc7f5559-993d-48b9-c9d5-e162bc31a30b"
      },
      "source": [
        "fs = 16000\n",
        "\n",
        "rate = samplerate_s / fs\n",
        "\n",
        "\n",
        "start = 15 * 60 * 44100\n",
        "step = int(0.75 * 60 * 44100)\n",
        "\n",
        "test_s = np.array([])\n",
        "test_m = np.array([])\n",
        "\n",
        "for i in range(1):\n",
        "\n",
        "  test_s = np.hstack([test_s,data_speech[start+i*step:start+(i+1)*step,0]])\n",
        "  test_m = np.hstack([test_m,data_music[start+i*step:start+(i+1)*step,0]])\n",
        "\n",
        "\n",
        "test_s = signal.resample(test_s,int(test_s.shape[0]/rate))\n",
        "test_m = signal.resample(test_m,int(test_m.shape[0]/rate))\n",
        "samplerate=int(samplerate_m/rate)\n",
        "length=music_t.shape[0]/samplerate\n",
        "\n",
        "\n",
        "test_s = butter_lowpass_filter(test_s,5000,fs)\n",
        "test_m = butter_lowpass_filter(test_m,5000,fs)\n",
        "\n",
        "\n",
        "################################################################################\n",
        "SMR_db = -5\n",
        "test,speech_test,music_test=get_mixed_signal(test_s,test_m,SMR_db)\n",
        "\n",
        "\n",
        "f,t,Ytest= signal.stft(test,samplerate,window=WINDOW,nperseg=WINDOW_SIZE,noverlap=OVERLAP,nfft=NFFT)\n",
        "Yabs_test=np.abs(Ytest)\n",
        "\n",
        "Yabs_test[Yabs_test==0]=0.00001\n",
        "write(\"results/MixX.wav\", samplerate, test.astype(np.int16))\n"
      ],
      "execution_count": 364,
      "outputs": [
        {
          "output_type": "stream",
          "text": [
            "SMR = -5.00\n"
          ],
          "name": "stdout"
        }
      ]
    },
    {
      "cell_type": "markdown",
      "metadata": {
        "id": "IjWdkHsOdDZ6"
      },
      "source": [
        "# Train First NMF on Clean Speech :"
      ]
    },
    {
      "cell_type": "code",
      "metadata": {
        "id": "ohqeS3S86_Nw"
      },
      "source": [
        "def softmax(x):\n",
        "\n",
        "  e_x = np.exp(x)\n",
        "  return e_x / e_x.sum(axis=0)"
      ],
      "execution_count": 105,
      "outputs": []
    },
    {
      "cell_type": "code",
      "metadata": {
        "id": "jpDYwy1YdCgx"
      },
      "source": [
        "Nc = 64 #8\n",
        "Nm = 8\n",
        "\n",
        "model = NMF(n_components=Nc, init='random',alpha=0.2,beta_loss='frobenius',solver=\"mu\",max_iter=100, random_state=7)\n",
        "model.fit(np.transpose(Yabs_s))\n",
        "Dc = np.transpose(model.components_)\n",
        "#Dc=softmax(Dc)\n",
        "scaler = MinMaxScaler()\n",
        "Dc = scaler.fit_transform(Dc)\n"
      ],
      "execution_count": 371,
      "outputs": []
    },
    {
      "cell_type": "markdown",
      "metadata": {
        "id": "e8SH3ITBd_zy"
      },
      "source": [
        "# Train NMF on Noisy Speech :"
      ]
    },
    {
      "cell_type": "code",
      "metadata": {
        "colab": {
          "base_uri": "https://localhost:8080/"
        },
        "id": "FXGmjW-vCaiC",
        "outputId": "fba72243-06fc-471a-8927-f792eb1c9d37"
      },
      "source": [
        "D,H = nmf(Yabs_mix,Dc,Nm, lamb=0.2, maxit=100)\n",
        "\n",
        "scaler = MinMaxScaler()\n",
        "D=scaler.fit_transform(D)"
      ],
      "execution_count": 372,
      "outputs": [
        {
          "output_type": "stream",
          "text": [
            "\r  0%|          | 0/100 [00:00<?, ?it/s]"
          ],
          "name": "stderr"
        },
        {
          "output_type": "stream",
          "text": [
            "Shape of Dc (257, 64) Shape of Dn (257, 8)\n",
            "Dnorm shape (257, 72) and X shape (257, 76001) and H shape (72, 76001)\n"
          ],
          "name": "stdout"
        },
        {
          "output_type": "stream",
          "text": [
            "100%|██████████| 100/100 [00:49<00:00,  2.00it/s]\n"
          ],
          "name": "stderr"
        }
      ]
    },
    {
      "cell_type": "code",
      "metadata": {
        "id": "EO03rIO16mvV"
      },
      "source": [
        "np.save('Dictionary.npy',D)"
      ],
      "execution_count": 108,
      "outputs": []
    },
    {
      "cell_type": "markdown",
      "metadata": {
        "id": "8dIwuar0T8Id"
      },
      "source": [
        "# Test NMF :"
      ]
    },
    {
      "cell_type": "code",
      "metadata": {
        "id": "15-p3FEJT5_3"
      },
      "source": [
        "model_test = NMF(n_components=Nc+Nm, init='random',alpha=0.2,beta_loss='frobenius',solver=\"mu\",max_iter=100, random_state=7)\n",
        "model_test.fit(np.transpose(Yabs_test))\n",
        "    \n",
        "model_test.components_= np.transpose(D)\n",
        "G_test=np.transpose(model_test.transform(np.transpose(Yabs_test)))\n"
      ],
      "execution_count": 373,
      "outputs": []
    },
    {
      "cell_type": "code",
      "metadata": {
        "colab": {
          "base_uri": "https://localhost:8080/"
        },
        "id": "s5O6S6ybgLuz",
        "outputId": "aaa6dd20-ee1a-41db-ca85-0cc1a060f247"
      },
      "source": [
        "Sources,Masks=Reconstruct(B=D,G=G_test,Ns=Dc.shape[1],Nm=Nm,Yabs=Ytest,p=0.5)\n",
        "\n",
        "print('Reconstruction Step .... Done')\n",
        "speech_est = Sources[0]\n",
        "music_est = Sources[1]\n",
        "\n",
        "_, speech_est =  signal.istft(speech_est,\n",
        "                    samplerate,\n",
        "                    window = WINDOW,\n",
        "                    nperseg=WINDOW_SIZE,\n",
        "                    noverlap=OVERLAP,\n",
        "                    nfft = NFFT)\n",
        "\n",
        "_, music_est =  signal.istft(music_est,\n",
        "                    samplerate,\n",
        "                    window = WINDOW,\n",
        "                    nperseg=WINDOW_SIZE,\n",
        "                    noverlap=OVERLAP,\n",
        "                    nfft = NFFT)\n",
        "\n",
        "sdr_speech = SDR(s_est=speech_est[:test_s.shape[0]],s=test_s)\n",
        "sdr_music = SDR(s_est=music_est[:test_m.shape[0]], s=test_m)\n",
        "\n",
        "print(f'Speech SDR = {sdr_speech}')\n",
        "print(f'Music SDR = {sdr_music}')"
      ],
      "execution_count": 374,
      "outputs": [
        {
          "output_type": "stream",
          "text": [
            "Reconstruction Step .... Done\n",
            "Speech SDR = 0.03182153147984898\n",
            "Music SDR = 0.9757254456530733\n"
          ],
          "name": "stdout"
        }
      ]
    },
    {
      "cell_type": "code",
      "metadata": {
        "id": "oxR2Y0L6bY7K"
      },
      "source": [
        "write(\"./results/SpeechX.wav\", samplerate, speech_est.astype(np.int16))\n",
        "write(\"./results/MusicX.wav\", samplerate, music_est.astype(np.int16))\n"
      ],
      "execution_count": 111,
      "outputs": []
    },
    {
      "cell_type": "code",
      "metadata": {
        "id": "ybGg34aG5ylW"
      },
      "source": [
        "def nmf_test(X, Dc, Nn, lamb=0.2, maxit=100):\n",
        "\n",
        "    Nc = Dc.shape[1]\n",
        "    H = np.random.rand(Nc+Nn, X.shape[1])\n",
        "\n",
        "    Dn = np.random.rand(X. shape[0], Nn)\n",
        "    print(f\"Shape of Dc {Dc.shape} Shape of Dn {Dn.shape}\")\n",
        "    D = np.hstack([Dc,Dn])\n",
        "    Dnorm = D / np.sum(D**2, axis=0)**(.5)\n",
        "\n",
        "    print(f'Dnorm shape {Dnorm.shape} and X shape {X.shape} and H shape {H.shape}')\n",
        "    for i in tqdm(range(maxit),position=0, leave=True):\n",
        "        H = H * (np.matmul(Dnorm.T, X)) / (np.matmul(np.matmul(Dnorm.T, Dnorm), H) + lamb)\n",
        "        \n",
        "    return Dnorm, H"
      ],
      "execution_count": 112,
      "outputs": []
    },
    {
      "cell_type": "markdown",
      "metadata": {
        "id": "ueuiTpahYIvY"
      },
      "source": [
        "# Warm Start ISTA :"
      ]
    },
    {
      "cell_type": "code",
      "metadata": {
        "id": "PP7P33YDMrjf"
      },
      "source": [
        "def WarmISTA(X, W, alpha, h0, K, lambd):\n",
        "\n",
        "  \"\"\"\n",
        "  X : Shape (F,T)\n",
        "  W : Shape (F,r)\n",
        "\n",
        "  \"\"\"\n",
        "  b = lambd/alpha\n",
        "  np.random.seed(7)\n",
        "  H = np.random.rand(W.shape[1],X.shape[1])\n",
        "  H[:,0] = h0.ravel()\n",
        "  for t in tqdm(np.arange(1,X.shape[1])):\n",
        "\n",
        "    H[:,t] = 0.8*H[:,t-1]+0.2*H[:,t-2]\n",
        "\n",
        "    for k in np.arange(0,K):\n",
        "\n",
        "      z = (np.identity(W.shape[1])-(1/alpha)*np.transpose(W)@W)@H[:,t] + (1/alpha)*np.transpose(W)@X[:,t]\n",
        "      H[:,t] = (z/np.abs(z))*np.maximum(np.abs(z)-b, np.zeros(z.shape[0]))\n",
        "\n",
        "  return H"
      ],
      "execution_count": 344,
      "outputs": []
    },
    {
      "cell_type": "code",
      "metadata": {
        "colab": {
          "base_uri": "https://localhost:8080/"
        },
        "id": "0bk-GKG5tvFK",
        "outputId": "d0af88da-d6fc-473e-dd2f-190df4227d2c"
      },
      "source": [
        "h0 = np.random.rand(D.shape[1],1)\n",
        "alpha = 500\n",
        "Htest=WarmISTA(Yabs_test, D, alpha=alpha, h0=h0, K=2, lambd=10)\n",
        "scaler = MinMaxScaler()\n",
        "Htest=scaler.fit_transform(Htest)"
      ],
      "execution_count": 369,
      "outputs": [
        {
          "output_type": "stream",
          "text": [
            "100%|██████████| 3000/3000 [00:00<00:00, 3318.54it/s]\n"
          ],
          "name": "stderr"
        }
      ]
    },
    {
      "cell_type": "code",
      "metadata": {
        "id": "eaDl4Sucy2MN"
      },
      "source": [
        "plt.figure(figsize=(20,5))\n",
        "sns.distplot(Htest)\n",
        "sns.distplot(G_test)"
      ],
      "execution_count": null,
      "outputs": []
    },
    {
      "cell_type": "code",
      "metadata": {
        "colab": {
          "base_uri": "https://localhost:8080/"
        },
        "id": "WpOF6tDs84Tp",
        "outputId": "18ff2eb4-cfbc-4877-8db1-c9f7f4798ca3"
      },
      "source": [
        "Sources,Masks=Reconstruct(B=D,G=Htest,Ns=Dc.shape[1],Nm=Nm,Yabs=Ytest,p=0.5)\n",
        "\n",
        "print('Reconstruction Step .... Done')\n",
        "speech_est = Sources[0]\n",
        "music_est = Sources[1]\n",
        "\n",
        "_, speech_est =  signal.istft(speech_est,\n",
        "                    samplerate,\n",
        "                    window = WINDOW,\n",
        "                    nperseg=WINDOW_SIZE,\n",
        "                    noverlap=OVERLAP,\n",
        "                    nfft = NFFT)\n",
        "\n",
        "_, music_est =  signal.istft(music_est,\n",
        "                    samplerate,\n",
        "                    window = WINDOW,\n",
        "                    nperseg=WINDOW_SIZE,\n",
        "                    noverlap=OVERLAP,\n",
        "                    nfft = NFFT)\n",
        "\n",
        "sdr_speech = SDR(s_est=speech_est[:test_s.shape[0]],s=test_s)\n",
        "sdr_music = SDR(s_est=music_est[:test_m.shape[0]], s=test_m)\n",
        "\n",
        "print(f'Speech SDR = {sdr_speech}')\n",
        "print(f'Music SDR = {sdr_music}')"
      ],
      "execution_count": 370,
      "outputs": [
        {
          "output_type": "stream",
          "text": [
            "Reconstruction Step .... Done\n",
            "Speech SDR = 0.2427898270801607\n",
            "Music SDR = 2.1257673128047507\n"
          ],
          "name": "stdout"
        }
      ]
    },
    {
      "cell_type": "code",
      "metadata": {
        "id": "tNbliwqUPFON"
      },
      "source": [
        "write(\"./results/SpeechX.wav\", samplerate, speech_est.astype(np.int16))\n",
        "write(\"./results/MusicX.wav\", samplerate, music_est.astype(np.int16))\n"
      ],
      "execution_count": 360,
      "outputs": []
    }
  ]
}