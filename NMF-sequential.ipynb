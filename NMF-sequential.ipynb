{
 "cells": [
  {
   "cell_type": "code",
   "execution_count": 2,
   "metadata": {
    "colab": {
     "base_uri": "https://localhost:8080/",
     "height": 86
    },
    "id": "Mc8NsZqwwWiQ",
    "outputId": "2eef9e66-67b0-455d-e299-cc26b77d3973"
   },
   "outputs": [
    {
     "name": "stdout",
     "output_type": "stream",
     "text": [
      "/content/drive\n",
      "Drive already mounted at /content/drive; to attempt to forcibly remount, call drive.mount(\"/content/drive\", force_remount=True).\n",
      "/content/drive/My Drive/Deep Unfolded NMF\n"
     ]
    },
    {
     "data": {
      "application/vnd.google.colaboratory.intrinsic+json": {
       "type": "string"
      },
      "text/plain": [
       "'/content/drive/My Drive/Deep Unfolded NMF'"
      ]
     },
     "execution_count": 2,
     "metadata": {
      "tags": []
     },
     "output_type": "execute_result"
    }
   ],
   "source": [
    "# Mount Google Drive\n",
    "from google.colab import drive # import drive from google colab\n",
    " \n",
    "ROOT = \"/content/drive\"     # default location for the drive\n",
    "print(ROOT)                 # print content of ROOT (Optional)\n",
    " \n",
    "drive.mount(ROOT)           # we mount the google drive at /content/drive\n",
    "%cd \"/content/drive/My Drive/Deep Unfolded NMF\"\n",
    "%pwd"
   ]
  },
  {
   "cell_type": "markdown",
   "metadata": {},
   "source": [
    "## This Notebook Gave in SMR=0 SDR=2.57 and 2.45"
   ]
  },
  {
   "cell_type": "code",
   "execution_count": 4,
   "metadata": {
    "colab": {
     "base_uri": "https://localhost:8080/"
    },
    "id": "r2r72nk9HrbY",
    "outputId": "2e08d244-e283-4751-9585-cfd34fbcf23a"
   },
   "outputs": [
    {
     "name": "stdout",
     "output_type": "stream",
     "text": [
      "DR-NMF.ipynb  helpers2.py\n"
     ]
    }
   ],
   "source": [
    "!ls "
   ]
  },
  {
   "cell_type": "code",
   "execution_count": 3,
   "metadata": {
    "id": "PYxUhmqBwXk8"
   },
   "outputs": [],
   "source": [
    "import numpy as np\n",
    "import os\n",
    "import matplotlib.pyplot as plt\n",
    "from scipy.signal import butter, lfilter, freqz\n",
    "\n",
    "from scipy.io.wavfile import read, write\n",
    "from scipy import signal\n",
    "from sklearn.decomposition import NMF\n",
    "from sklearn.preprocessing import MinMaxScaler\n",
    "\n",
    "from numpy import linalg as LA\n",
    "from numpy.linalg import inv\n",
    "from helpers2 import Reconstruct, Viz_Y,SMR,get_mixed_signal,SDR,ReconstructSoft,butter_lowpass_filter\n",
    "import seaborn as sns\n",
    "import warnings\n",
    "import math\n",
    "from tqdm import tqdm\n",
    "warnings.simplefilter('ignore')"
   ]
  },
  {
   "cell_type": "code",
   "execution_count": 4,
   "metadata": {
    "colab": {
     "base_uri": "https://localhost:8080/"
    },
    "id": "idEcwxGxxkOd",
    "outputId": "cdd697b6-329d-4dbf-ffe4-bdce19327f38"
   },
   "outputs": [
    {
     "name": "stdout",
     "output_type": "stream",
     "text": [
      "Shape of the speech 50274000 ... Length : 1140.00s ... Sample rate : 44100\n",
      "Shape of the music 10584000 ... Length : 240.00s ... Sample rate : 44100\n"
     ]
    }
   ],
   "source": [
    "# Best 1-20 min\n",
    "\n",
    "start = 1 * 60 * 44100\n",
    "end = 20 * 60 * 44100 \n",
    "\n",
    "samplerate_s, data_speech = read(\"../PFE/DATA/Conversation.wav\")\n",
    "speech=data_speech[start:end,0]\n",
    "length=speech.shape[0]/samplerate_s\n",
    "print('Shape of the speech {} ... Length : {:.2f}s ... Sample rate : {}'.format(speech.shape[0],length,samplerate_s))\n",
    "\n",
    "start = 1 * 60 * 44100\n",
    "end = 5 * 60 * 44100 \n",
    "samplerate_m, data_music = read(\"../PFE/DATA/Bigmusic2.wav\")\n",
    "music=data_music[start:end,0]\n",
    "length=music.shape[0]/samplerate_m\n",
    "print('Shape of the music {} ... Length : {:.2f}s ... Sample rate : {}'.format(music.shape[0],length,samplerate_m))\n"
   ]
  },
  {
   "cell_type": "code",
   "execution_count": 5,
   "metadata": {
    "colab": {
     "base_uri": "https://localhost:8080/"
    },
    "id": "YMZEZdLJxo15",
    "outputId": "ada85dc4-c3ee-4939-904f-c848344728ad"
   },
   "outputs": [
    {
     "name": "stdout",
     "output_type": "stream",
     "text": [
      "Shape of the test 18240000 ... Length : 1140.00s ... Sample rate : 16000\n",
      "Downsampled rate = 16000\n"
     ]
    }
   ],
   "source": [
    "fs = 16000\n",
    "\n",
    "rate = samplerate_s / fs\n",
    "\n",
    "\n",
    "start = 1 * 60 * 44100\n",
    "end = 20 * 60 * 44100\n",
    "\n",
    "\n",
    "speech_t=data_speech[start : end, 0]\n",
    "music_t = data_music[start : end, 0]\n",
    "\n",
    "\n",
    "speech_t = signal.resample(speech_t,int(speech_t.shape[0]/rate))\n",
    "music_t = signal.resample(music_t,int(music_t.shape[0]/rate))\n",
    "samplerate=int(samplerate_m/rate)\n",
    "length=music_t.shape[0]/samplerate\n",
    "\n",
    "print('Shape of the test {} ... Length : {:.2f}s ... Sample rate : {}'.format(music_t.shape[0],length,samplerate))\n",
    "\n",
    "speech = signal.resample(speech,int(speech.shape[0]/rate))\n",
    "music = signal.resample(music,int(music.shape[0]/rate))\n",
    "\n",
    "\n",
    "print('Downsampled rate = {}'.format(samplerate))\n",
    "\n",
    "speech = butter_lowpass_filter(speech,5000,fs)\n",
    "music = butter_lowpass_filter(music,5000,fs)\n",
    "\n",
    "music_t = butter_lowpass_filter(music_t,5000,fs)\n",
    "speech_t = butter_lowpass_filter(speech_t,5000,fs)"
   ]
  },
  {
   "cell_type": "markdown",
   "metadata": {
    "id": "Jbke3Fm4zEG5"
   },
   "source": [
    "## Training STFT :\n"
   ]
  },
  {
   "cell_type": "code",
   "execution_count": 6,
   "metadata": {
    "colab": {
     "base_uri": "https://localhost:8080/"
    },
    "id": "LHbUgVOAyDiz",
    "outputId": "530f67fd-6650-4346-c1e9-d3b3625bc294"
   },
   "outputs": [
    {
     "name": "stdout",
     "output_type": "stream",
     "text": [
      "SMR = 0.00\n"
     ]
    }
   ],
   "source": [
    "WINDOW = 'hamming'\n",
    "WINDOW_SIZE=480\n",
    "OVERLAP = 0.8 * WINDOW_SIZE\n",
    "NFFT=512\n",
    "\n",
    "f,t,Y= signal.stft(speech,samplerate,window=WINDOW,nperseg=WINDOW_SIZE,noverlap=OVERLAP,nfft=NFFT)\n",
    "Yabs_s=np.abs(Y)\n",
    "f,t,Y= signal.stft(music,samplerate,window=WINDOW,nperseg=WINDOW_SIZE,noverlap=OVERLAP,nfft=NFFT)\n",
    "Yabs_m=np.abs(Y)\n",
    "\n",
    "\n",
    "\n",
    "\n",
    "\n",
    "\n",
    "\n",
    "SMR_db = 0\n",
    "mix,speech_mix,music_mix=get_mixed_signal(speech_t,music_t,SMR_db)\n",
    "\n",
    "\n",
    "f,t,Ymix= signal.stft(mix,samplerate,window=WINDOW,nperseg=WINDOW_SIZE,noverlap=OVERLAP,nfft=NFFT)\n",
    "Yabs_mix=np.abs(Ymix)\n",
    "\n",
    "Yabs_mix[Yabs_mix==0]=0.00001\n",
    "write(\"results/MixX.wav\", samplerate, mix.astype(np.int16))\n",
    "\n"
   ]
  },
  {
   "cell_type": "markdown",
   "metadata": {
    "id": "gTyG9UYBzIto"
   },
   "source": [
    "## Test STFT :"
   ]
  },
  {
   "cell_type": "code",
   "execution_count": 7,
   "metadata": {
    "colab": {
     "base_uri": "https://localhost:8080/"
    },
    "id": "Aa1jCmT4yHq_",
    "outputId": "ac9fafd3-54ba-4c9c-c715-d3620dd180eb"
   },
   "outputs": [
    {
     "name": "stdout",
     "output_type": "stream",
     "text": [
      "SMR = -0.00\n"
     ]
    }
   ],
   "source": [
    "fs = 16000\n",
    "\n",
    "rate = samplerate_s / fs\n",
    "\n",
    "\n",
    "start = 15 * 60 * 44100\n",
    "step = int(0.5 * 60 * 44100)\n",
    "\n",
    "test_s = np.array([])\n",
    "test_m = np.array([])\n",
    "\n",
    "for i in range(1):\n",
    "\n",
    "  test_s = np.hstack([test_s,data_speech[start+i*step:start+(i+1)*step,0]])\n",
    "  test_m = np.hstack([test_m,data_music[start+i*step:start+(i+1)*step,0]])\n",
    "\n",
    "\n",
    "test_s = signal.resample(test_s,int(test_s.shape[0]/rate))\n",
    "test_m = signal.resample(test_m,int(test_m.shape[0]/rate))\n",
    "samplerate=int(samplerate_m/rate)\n",
    "length=music_t.shape[0]/samplerate\n",
    "\n",
    "\n",
    "test_s = butter_lowpass_filter(test_s,5000,fs)\n",
    "test_m = butter_lowpass_filter(test_m,5000,fs)\n",
    "\n",
    "\n",
    "################################################################################\n",
    "SMR_db = 0\n",
    "test,speech_test,music_test=get_mixed_signal(test_s,test_m,SMR_db)\n",
    "\n",
    "\n",
    "f,t,Ytest= signal.stft(test,samplerate,window=WINDOW,nperseg=WINDOW_SIZE,noverlap=OVERLAP,nfft=NFFT)\n",
    "Yabs_test=np.abs(Ytest)\n",
    "\n",
    "Yabs_test[Yabs_test==0]=0.00001\n"
   ]
  },
  {
   "cell_type": "code",
   "execution_count": 54,
   "metadata": {
    "colab": {
     "base_uri": "https://localhost:8080/"
    },
    "id": "aZMUPLG1jPnU",
    "outputId": "53715a7a-7871-4dd2-cc0d-e5d21ca5b51b"
   },
   "outputs": [
    {
     "data": {
      "text/plain": [
       "(4800000,)"
      ]
     },
     "execution_count": 54,
     "metadata": {
      "tags": []
     },
     "output_type": "execute_result"
    }
   ],
   "source": [
    "test.shape"
   ]
  },
  {
   "cell_type": "markdown",
   "metadata": {
    "id": "1OS4yJx4US5Q"
   },
   "source": []
  },
  {
   "cell_type": "markdown",
   "metadata": {
    "id": "IjWdkHsOdDZ6"
   },
   "source": [
    "# Train First NMF on Clean Speech :"
   ]
  },
  {
   "cell_type": "code",
   "execution_count": 288,
   "metadata": {
    "id": "ohqeS3S86_Nw"
   },
   "outputs": [],
   "source": [
    "def softmax(x):\n",
    "\n",
    "  e_x = np.exp(x)\n",
    "  return e_x / e_x.sum(axis=0)"
   ]
  },
  {
   "cell_type": "code",
   "execution_count": 13,
   "metadata": {
    "id": "jpDYwy1YdCgx"
   },
   "outputs": [],
   "source": [
    "Nc = 8 #8\n",
    "Nm = 8\n",
    "\n",
    "model = NMF(n_components=Nc, init='random',alpha=0.0,beta_loss='frobenius',solver=\"mu\",max_iter=100, random_state=7)\n",
    "model.fit(np.transpose(Yabs_s))\n",
    "Dc = np.transpose(model.components_)\n",
    "#Dc=softmax(Dc)\n",
    "scaler = MinMaxScaler()\n",
    "Dc = scaler.fit_transform(Dc)\n"
   ]
  },
  {
   "cell_type": "code",
   "execution_count": 300,
   "metadata": {
    "colab": {
     "base_uri": "https://localhost:8080/"
    },
    "id": "ciUiFMDTK2yp",
    "outputId": "a998eeee-8894-4f4c-b157-5f86b5f03e91"
   },
   "outputs": [
    {
     "data": {
      "text/plain": [
       "216548.88619941662"
      ]
     },
     "execution_count": 300,
     "metadata": {
      "tags": []
     },
     "output_type": "execute_result"
    }
   ],
   "source": [
    "model.reconstruction_err_"
   ]
  },
  {
   "cell_type": "markdown",
   "metadata": {
    "id": "e8SH3ITBd_zy"
   },
   "source": [
    "# Train NMF on Noisy Speech :"
   ]
  },
  {
   "cell_type": "code",
   "execution_count": 14,
   "metadata": {
    "id": "LwXFaFPLzvpt"
   },
   "outputs": [],
   "source": [
    "def nmf(X, Dc, Nn, lamb=0.1, maxit=100):\n",
    "\n",
    "    Nc = Dc.shape[1]\n",
    "    H = np.random.rand(Nc+Nn, X.shape[1])\n",
    "\n",
    "    Dn = np.random.rand(X. shape[0], Nn)\n",
    "    print(f\"Shape of Dc {Dc.shape} Shape of Dn {Dn.shape}\")\n",
    "    D = np.hstack([Dc,Dn])\n",
    "    Dnorm = D / np.sum(D**2, axis=0)**(.5)\n",
    "\n",
    "    print(f'Dnorm shape {Dnorm.shape} and X shape {X.shape} and H shape {H.shape}')\n",
    "    hist=[]\n",
    "    for i in tqdm.tqdm(maxit):\n",
    "        H = H * (np.matmul(Dnorm.T, X)) / (np.matmul(np.matmul(Dnorm.T, Dnorm), H) + lamb)\n",
    "        D[:,Dc.shape[1]:] = (Dnorm * (np.matmul(X, H.T) + Dnorm * (np.matmul(np.ones((X.shape[0], X.shape[0])), np.matmul(Dnorm, np.matmul(H, H.T)) * Dnorm))) / (np.matmul(Dnorm, np.matmul(H, H.T)) + Dnorm * (np.matmul(np.ones((X.shape[0], X.shape[0])), np.matmul(X, H.T) * Dnorm))))[:,Dc.shape[1]:]\n",
    "        Dnorm = D / np.sum(D**2, axis=0)**(.5)\n",
    "        hist.append(LA.norm(X-np.matmul(Dnorm,H)))\n",
    "    #Dnorm[:,Dc.shape[1]:] = softmax(Dnorm[:,Dc.shape[1]:])\n",
    "    return Dnorm, H,hist"
   ]
  },
  {
   "cell_type": "code",
   "execution_count": 15,
   "metadata": {
    "colab": {
     "base_uri": "https://localhost:8080/"
    },
    "id": "FXGmjW-vCaiC",
    "outputId": "3704c471-7d03-4058-fb8c-c8d62e62376d"
   },
   "outputs": [
    {
     "name": "stdout",
     "output_type": "stream",
     "text": [
      "Shape of Dc (257, 8) Shape of Dn (257, 8)\n",
      "Dnorm shape (257, 16) and X shape (257, 190001) and H shape (16, 190001)\n"
     ]
    }
   ],
   "source": [
    "D,H,hist = nmf(Yabs_mix,Dc,Nm)\n",
    "\n",
    "scaler = MinMaxScaler()\n",
    "D=scaler.fit_transform(D)"
   ]
  },
  {
   "cell_type": "markdown",
   "metadata": {
    "id": "8dIwuar0T8Id"
   },
   "source": [
    "# Test NMF :"
   ]
  },
  {
   "cell_type": "code",
   "execution_count": 16,
   "metadata": {
    "id": "15-p3FEJT5_3"
   },
   "outputs": [],
   "source": [
    "model_test = NMF(n_components=Nc+Nm, init='nndsvd',alpha=0.1,beta_loss='frobenius',solver=\"mu\",max_iter=100, random_state=7)\n",
    "model_test.fit(np.transpose(Yabs_test))\n",
    "    \n",
    "model_test.components_= np.transpose(D)\n",
    "G_test=np.transpose(model_test.transform(np.transpose(Yabs_test)))"
   ]
  },
  {
   "cell_type": "code",
   "execution_count": 17,
   "metadata": {
    "colab": {
     "base_uri": "https://localhost:8080/"
    },
    "id": "s5O6S6ybgLuz",
    "outputId": "718b7e0e-1971-4fe3-937b-870e6b104a38"
   },
   "outputs": [
    {
     "name": "stdout",
     "output_type": "stream",
     "text": [
      "Reconstruction Step .... Done\n",
      "Speech SDR = 2.5721198978779314\n",
      "Music SDR = 2.457712416849758\n"
     ]
    }
   ],
   "source": [
    "Sources,Masks=Reconstruct(B=D,G=G_test,Ns=Dc.shape[1],Nm=Nm,Yabs=Ytest,p=0.5)\n",
    "\n",
    "print('Reconstruction Step .... Done')\n",
    "speech_est = Sources[0]\n",
    "music_est = Sources[1]\n",
    "\n",
    "_, speech_est =  signal.istft(speech_est,\n",
    "                    samplerate,\n",
    "                    window = WINDOW,\n",
    "                    nperseg=WINDOW_SIZE,\n",
    "                    noverlap=OVERLAP,\n",
    "                    nfft = NFFT)\n",
    "\n",
    "_, music_est =  signal.istft(music_est,\n",
    "                    samplerate,\n",
    "                    window = WINDOW,\n",
    "                    nperseg=WINDOW_SIZE,\n",
    "                    noverlap=OVERLAP,\n",
    "                    nfft = NFFT)\n",
    "\n",
    "sdr_speech = SDR(s_est=speech_est,s=test_s)\n",
    "sdr_music = SDR(s_est=music_est, s=test_m)\n",
    "\n",
    "print(f'Speech SDR = {sdr_speech}')\n",
    "print(f'Music SDR = {sdr_music}')"
   ]
  },
  {
   "cell_type": "code",
   "execution_count": 37,
   "metadata": {
    "id": "oxR2Y0L6bY7K"
   },
   "outputs": [],
   "source": [
    "write(\"./results/SpeechX.wav\", samplerate, speech_est.astype(np.int16))\n",
    "write(\"./results/MusicX.wav\", samplerate, music_est.astype(np.int16))\n"
   ]
  },
  {
   "cell_type": "code",
   "execution_count": null,
   "metadata": {
    "id": "iZCUnMdShJX1"
   },
   "outputs": [],
   "source": []
  }
 ],
 "metadata": {
  "colab": {
   "collapsed_sections": [],
   "name": "DR-NMF.ipynb",
   "provenance": [],
   "toc_visible": true
  },
  "kernelspec": {
   "display_name": "Python 3",
   "language": "python",
   "name": "python3"
  },
  "language_info": {
   "codemirror_mode": {
    "name": "ipython",
    "version": 3
   },
   "file_extension": ".py",
   "mimetype": "text/x-python",
   "name": "python",
   "nbconvert_exporter": "python",
   "pygments_lexer": "ipython3",
   "version": "3.7.1"
  }
 },
 "nbformat": 4,
 "nbformat_minor": 1
}
