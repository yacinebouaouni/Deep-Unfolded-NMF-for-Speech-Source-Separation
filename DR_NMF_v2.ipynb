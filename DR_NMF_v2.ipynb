{
  "nbformat": 4,
  "nbformat_minor": 0,
  "metadata": {
    "colab": {
      "name": "DR-NMF.ipynb",
      "provenance": [],
      "collapsed_sections": [],
      "toc_visible": true
    },
    "kernelspec": {
      "display_name": "Python 3",
      "name": "python3"
    },
    "language_info": {
      "name": "python"
    }
  },
  "cells": [
    {
      "cell_type": "code",
      "metadata": {
        "colab": {
          "base_uri": "https://localhost:8080/",
          "height": 86
        },
        "id": "Mc8NsZqwwWiQ",
        "outputId": "f26b7703-9817-4c10-9775-89967cea882f"
      },
      "source": [
        "# Mount Google Drive\n",
        "from google.colab import drive # import drive from google colab\n",
        " \n",
        "ROOT = \"/content/drive\"     # default location for the drive\n",
        "print(ROOT)                 # print content of ROOT (Optional)\n",
        " \n",
        "drive.mount(ROOT)           # we mount the google drive at /content/drive\n",
        "%cd \"/content/drive/My Drive/Deep Unfolded NMF\"\n",
        "%pwd"
      ],
      "execution_count": 2,
      "outputs": [
        {
          "output_type": "stream",
          "text": [
            "/content/drive\n",
            "Mounted at /content/drive\n",
            "/content/drive/My Drive/Deep Unfolded NMF\n"
          ],
          "name": "stdout"
        },
        {
          "output_type": "execute_result",
          "data": {
            "application/vnd.google.colaboratory.intrinsic+json": {
              "type": "string"
            },
            "text/plain": [
              "'/content/drive/My Drive/Deep Unfolded NMF'"
            ]
          },
          "metadata": {
            "tags": []
          },
          "execution_count": 2
        }
      ]
    },
    {
      "cell_type": "code",
      "metadata": {
        "id": "PYxUhmqBwXk8"
      },
      "source": [
        "import numpy as np\n",
        "import os\n",
        "import matplotlib.pyplot as plt\n",
        "from scipy.signal import butter, lfilter, freqz\n",
        "\n",
        "from scipy.io.wavfile import read, write\n",
        "from scipy import signal\n",
        "from sklearn.decomposition import NMF\n",
        "from sklearn.preprocessing import MinMaxScaler\n",
        "\n",
        "from numpy import linalg as LA\n",
        "from numpy.linalg import inv\n",
        "from helpers2 import Reconstruct, Viz_Y,SMR,get_mixed_signal,SDR,butter_lowpass_filter, nmf\n",
        "import seaborn as sns\n",
        "import warnings\n",
        "import math\n",
        "from tqdm import tqdm\n",
        "\n",
        "import torch\n",
        "from torch import Tensor, transpose,abs, zeros, maximum, matmul, eye\n",
        "from torch.optim import SGD\n",
        "from torch.nn import MSELoss,ReLU\n",
        "\n",
        "\n",
        "np.random.seed(7)\n",
        "\n",
        "warnings.simplefilter('ignore')"
      ],
      "execution_count": 3,
      "outputs": []
    },
    {
      "cell_type": "code",
      "metadata": {
        "colab": {
          "base_uri": "https://localhost:8080/"
        },
        "id": "idEcwxGxxkOd",
        "outputId": "03f03d9d-8223-45f6-927d-07aaa817101c"
      },
      "source": [
        "# Best 1-15 min\n",
        "\n",
        "start = 1 * 60 * 44100\n",
        "end = 20 * 60 * 44100 \n",
        "\n",
        "samplerate_s, data_speech = read(\"../PFE/DATA/Conversation.wav\")\n",
        "speech=data_speech[start:end,0]\n",
        "length=speech.shape[0]/samplerate_s\n",
        "print('Shape of the speech {} ... Length : {:.2f}s ... Sample rate : {}'.format(speech.shape[0],length,samplerate_s))\n",
        "\n",
        "start = 1 * 60 * 44100\n",
        "end = 5 * 60 * 44100 \n",
        "samplerate_m, data_music = read(\"../PFE/DATA/Bigmusic2.wav\")\n",
        "music=data_music[start:end,0]\n",
        "length=music.shape[0]/samplerate_m\n",
        "print('Shape of the music {} ... Length : {:.2f}s ... Sample rate : {}'.format(music.shape[0],length,samplerate_m))\n"
      ],
      "execution_count": 4,
      "outputs": [
        {
          "output_type": "stream",
          "text": [
            "Shape of the speech 50274000 ... Length : 1140.00s ... Sample rate : 44100\n",
            "Shape of the music 10584000 ... Length : 240.00s ... Sample rate : 44100\n"
          ],
          "name": "stdout"
        }
      ]
    },
    {
      "cell_type": "code",
      "metadata": {
        "colab": {
          "base_uri": "https://localhost:8080/"
        },
        "id": "YMZEZdLJxo15",
        "outputId": "0b13ac6d-793f-4481-f6db-5cab7af58d95"
      },
      "source": [
        "fs = 16000\n",
        "\n",
        "rate = samplerate_s / fs\n",
        "\n",
        "\n",
        "start = 1 * 60 * 44100\n",
        "end = 20 * 60 * 44100\n",
        "\n",
        "\n",
        "speech_t=data_speech[start : end, 0]\n",
        "music_t = data_music[start : end, 0]\n",
        "\n",
        "\n",
        "speech_t = signal.resample(speech_t,int(speech_t.shape[0]/rate))\n",
        "music_t = signal.resample(music_t,int(music_t.shape[0]/rate))\n",
        "samplerate=int(samplerate_m/rate)\n",
        "length=music_t.shape[0]/samplerate\n",
        "\n",
        "print('Shape of the test {} ... Length : {:.2f}s ... Sample rate : {}'.format(music_t.shape[0],length,samplerate))\n",
        "\n",
        "speech = signal.resample(speech,int(speech.shape[0]/rate))\n",
        "music = signal.resample(music,int(music.shape[0]/rate))\n",
        "\n",
        "\n",
        "print('Downsampled rate = {}'.format(samplerate))\n",
        "\n",
        "speech = butter_lowpass_filter(speech,5000,fs)\n",
        "music = butter_lowpass_filter(music,5000,fs)\n",
        "\n",
        "music_t = butter_lowpass_filter(music_t,5000,fs)\n",
        "speech_t = butter_lowpass_filter(speech_t,5000,fs)"
      ],
      "execution_count": 5,
      "outputs": [
        {
          "output_type": "stream",
          "text": [
            "Shape of the test 18240000 ... Length : 1140.00s ... Sample rate : 16000\n",
            "Downsampled rate = 16000\n"
          ],
          "name": "stdout"
        }
      ]
    },
    {
      "cell_type": "markdown",
      "metadata": {
        "id": "Jbke3Fm4zEG5"
      },
      "source": [
        "## 1.Training STFT :\n"
      ]
    },
    {
      "cell_type": "code",
      "metadata": {
        "colab": {
          "base_uri": "https://localhost:8080/"
        },
        "id": "LHbUgVOAyDiz",
        "outputId": "06eba5f6-adf0-4327-8463-81bef6b989af"
      },
      "source": [
        "WINDOW = 'hamming'\n",
        "WINDOW_SIZE=480\n",
        "OVERLAP = 0.8 * WINDOW_SIZE\n",
        "NFFT=512\n",
        "\n",
        "f,t,Y= signal.stft(speech,samplerate,window=WINDOW,nperseg=WINDOW_SIZE,noverlap=OVERLAP,nfft=NFFT)\n",
        "Yabs_s=np.abs(Y)\n",
        "f,t,Y= signal.stft(music,samplerate,window=WINDOW,nperseg=WINDOW_SIZE,noverlap=OVERLAP,nfft=NFFT)\n",
        "Yabs_m=np.abs(Y)\n",
        "\n",
        "\n",
        "\n",
        "\n",
        "\n",
        "\n",
        "SMR_db = 0\n",
        "\n",
        "\n",
        "\n",
        "mix,speech_mix,music_mix=get_mixed_signal(speech_t,music_t,SMR_db)\n",
        "\n",
        "\n",
        "f,t,Ymix= signal.stft(mix,samplerate,window=WINDOW,nperseg=WINDOW_SIZE,noverlap=OVERLAP,nfft=NFFT)\n",
        "Yabs_mix=np.abs(Ymix)\n",
        "\n",
        "Yabs_mix[Yabs_mix==0]=0.00001\n",
        "\n"
      ],
      "execution_count": 6,
      "outputs": [
        {
          "output_type": "stream",
          "text": [
            "SMR = 0.00\n"
          ],
          "name": "stdout"
        }
      ]
    },
    {
      "cell_type": "markdown",
      "metadata": {
        "id": "gTyG9UYBzIto"
      },
      "source": [
        "## 2.Test STFT :"
      ]
    },
    {
      "cell_type": "code",
      "metadata": {
        "colab": {
          "base_uri": "https://localhost:8080/"
        },
        "id": "Aa1jCmT4yHq_",
        "outputId": "9c2524ae-eb88-4db4-94dd-20aea6ecbe9a"
      },
      "source": [
        "fs = 16000\n",
        "\n",
        "rate = samplerate_s / fs\n",
        "\n",
        "\n",
        "start = 15 * 60 * 44100\n",
        "step = int(0.05 * 60 * 44100)\n",
        "\n",
        "test_s = np.array([])\n",
        "test_m = np.array([])\n",
        "\n",
        "for i in range(1):\n",
        "\n",
        "  test_s = np.hstack([test_s,data_speech[start+i*step:start+(i+1)*step,0]])\n",
        "  test_m = np.hstack([test_m,data_music[start+i*step:start+(i+1)*step,0]])\n",
        "\n",
        "\n",
        "test_s = signal.resample(test_s,int(test_s.shape[0]/rate))\n",
        "test_m = signal.resample(test_m,int(test_m.shape[0]/rate))\n",
        "samplerate=int(samplerate_m/rate)\n",
        "length=music_t.shape[0]/samplerate\n",
        "\n",
        "\n",
        "test_s = butter_lowpass_filter(test_s,5000,fs)\n",
        "test_m = butter_lowpass_filter(test_m,5000,fs)\n",
        "\n",
        "\n",
        "################################################################################\n",
        "SMR_db = 0\n",
        "test,speech_test,music_test=get_mixed_signal(test_s,test_m,SMR_db)\n",
        "\n",
        "\n",
        "f,t,Ytest= signal.stft(test,samplerate,window=WINDOW,nperseg=WINDOW_SIZE,noverlap=OVERLAP,nfft=NFFT)\n",
        "Yabs_test=np.abs(Ytest)\n",
        "\n",
        "f,t,Ytest_true= signal.stft(speech_test,samplerate,window=WINDOW,nperseg=WINDOW_SIZE,noverlap=OVERLAP,nfft=NFFT)\n",
        "Yabs_true=np.abs(Ytest_true)\n",
        "\n",
        "Yabs_true[Yabs_true==0]=0.00001\n",
        "Yabs_test[Yabs_test==0]=0.00001\n",
        "write(\"results/MixX.wav\", samplerate, test.astype(np.int16))\n"
      ],
      "execution_count": 42,
      "outputs": [
        {
          "output_type": "stream",
          "text": [
            "SMR = -0.00\n"
          ],
          "name": "stdout"
        }
      ]
    },
    {
      "cell_type": "markdown",
      "metadata": {
        "id": "IjWdkHsOdDZ6"
      },
      "source": [
        "# 3.Train First NMF on Clean Speech :"
      ]
    },
    {
      "cell_type": "code",
      "metadata": {
        "id": "ohqeS3S86_Nw"
      },
      "source": [
        "def softmax(x):\n",
        "\n",
        "  e_x = np.exp(x)\n",
        "  return e_x / e_x.sum(axis=0)"
      ],
      "execution_count": null,
      "outputs": []
    },
    {
      "cell_type": "code",
      "metadata": {
        "id": "jpDYwy1YdCgx"
      },
      "source": [
        "Nc = 8 #8\n",
        "Nm = 8\n",
        "\n",
        "model = NMF(n_components=Nc, init='random',alpha=0.2,beta_loss='frobenius',solver=\"mu\",max_iter=100, random_state=7)\n",
        "model.fit(np.transpose(Yabs_s))\n",
        "Dc = np.transpose(model.components_)\n",
        "#Dc=softmax(Dc)\n",
        "scaler = MinMaxScaler()\n",
        "Dc = scaler.fit_transform(Dc)\n"
      ],
      "execution_count": null,
      "outputs": []
    },
    {
      "cell_type": "markdown",
      "metadata": {
        "id": "e8SH3ITBd_zy"
      },
      "source": [
        "# 4.Train NMF on Noisy Speech :"
      ]
    },
    {
      "cell_type": "code",
      "metadata": {
        "colab": {
          "base_uri": "https://localhost:8080/"
        },
        "id": "FXGmjW-vCaiC",
        "outputId": "a199bdf8-9e17-49fb-f522-79c5cf196cfe"
      },
      "source": [
        "D,H = nmf(Yabs_mix,Dc,Nm, lamb=0.2, maxit=100)\n",
        "\n",
        "scaler = MinMaxScaler()\n",
        "D=scaler.fit_transform(D)"
      ],
      "execution_count": null,
      "outputs": [
        {
          "output_type": "stream",
          "text": [
            "\r  0%|          | 0/100 [00:00<?, ?it/s]"
          ],
          "name": "stderr"
        },
        {
          "output_type": "stream",
          "text": [
            "Shape of Dc (257, 8) Shape of Dn (257, 8)\n",
            "Dnorm shape (257, 16) and X shape (257, 190001) and H shape (16, 190001)\n"
          ],
          "name": "stdout"
        },
        {
          "output_type": "stream",
          "text": [
            "100%|██████████| 100/100 [00:50<00:00,  1.98it/s]\n"
          ],
          "name": "stderr"
        }
      ]
    },
    {
      "cell_type": "code",
      "metadata": {
        "id": "EO03rIO16mvV"
      },
      "source": [
        "np.save('Dictionary.npy',D)"
      ],
      "execution_count": null,
      "outputs": []
    },
    {
      "cell_type": "markdown",
      "metadata": {
        "id": "8dIwuar0T8Id"
      },
      "source": [
        "# 5.Test NMF (Classic NMF with mu) :"
      ]
    },
    {
      "cell_type": "code",
      "metadata": {
        "id": "gYoAUZ1kqs_s"
      },
      "source": [
        "D = np.load('Dictionary.npy')\n",
        "\n",
        "Nc = 8 #8\n",
        "Nm = 8"
      ],
      "execution_count": 9,
      "outputs": []
    },
    {
      "cell_type": "code",
      "metadata": {
        "id": "15-p3FEJT5_3"
      },
      "source": [
        "model_test = NMF(n_components=Nc+Nm, init='random',alpha=0.2,beta_loss='frobenius',solver=\"mu\",max_iter=100, random_state=7)\n",
        "model_test.fit(np.transpose(Yabs_test))\n",
        "    \n",
        "model_test.components_= np.transpose(D)\n",
        "G_test=np.transpose(model_test.transform(np.transpose(Yabs_test)))"
      ],
      "execution_count": 10,
      "outputs": []
    },
    {
      "cell_type": "code",
      "metadata": {
        "colab": {
          "base_uri": "https://localhost:8080/"
        },
        "id": "s5O6S6ybgLuz",
        "outputId": "2421353f-db86-4a8a-ae50-d48ccf16a24b"
      },
      "source": [
        "Sources,Masks=Reconstruct(B=D,G=G_test,Ns=Nc,Nm=Nm,Yabs=Ytest,p=0.5)\n",
        "\n",
        "print('Reconstruction Step .... Done')\n",
        "speech_est = Sources[0]\n",
        "music_est = Sources[1]\n",
        "\n",
        "_, speech_est =  signal.istft(speech_est,\n",
        "                    samplerate,\n",
        "                    window = WINDOW,\n",
        "                    nperseg=WINDOW_SIZE,\n",
        "                    noverlap=OVERLAP,\n",
        "                    nfft = NFFT)\n",
        "\n",
        "_, music_est =  signal.istft(music_est,\n",
        "                    samplerate,\n",
        "                    window = WINDOW,\n",
        "                    nperseg=WINDOW_SIZE,\n",
        "                    noverlap=OVERLAP,\n",
        "                    nfft = NFFT)\n",
        "\n",
        "sdr_speech = SDR(s_est=speech_est[:test_s.shape[0]],s=test_s)\n",
        "sdr_music = SDR(s_est=music_est[:test_m.shape[0]], s=test_m)\n",
        "\n",
        "print(f'Speech SDR = {sdr_speech}')\n",
        "print(f'Music SDR = {sdr_music}')"
      ],
      "execution_count": 11,
      "outputs": [
        {
          "output_type": "stream",
          "text": [
            "Reconstruction Step .... Done\n",
            "Speech SDR = 2.9617157134299084\n",
            "Music SDR = 2.6736880182942118\n"
          ],
          "name": "stdout"
        }
      ]
    },
    {
      "cell_type": "code",
      "metadata": {
        "id": "oxR2Y0L6bY7K"
      },
      "source": [
        "write(\"./results/SpeechX.wav\", samplerate, speech_est.astype(np.int16))\n",
        "write(\"./results/MusicX.wav\", samplerate, music_est.astype(np.int16))\n"
      ],
      "execution_count": null,
      "outputs": []
    },
    {
      "cell_type": "markdown",
      "metadata": {
        "id": "ueuiTpahYIvY"
      },
      "source": [
        "# 6.Warm Start ISTA :"
      ]
    },
    {
      "cell_type": "code",
      "metadata": {
        "id": "PP7P33YDMrjf"
      },
      "source": [
        "def WarmISTA(X, W, alpha, h0, K, lambd,a):\n",
        "\n",
        "  \"\"\"\n",
        "  X : Shape (F,T)\n",
        "  W : Shape (F,r)\n",
        "\n",
        "  \"\"\"\n",
        "  b = lambd/alpha\n",
        "  np.random.seed(7)\n",
        "  H = np.random.rand(W.shape[1],X.shape[1])\n",
        "  H[:,0] = h0.ravel()\n",
        "  for t in tqdm(np.arange(3,X.shape[1])):\n",
        "    H[:,t] = a[0]*H[:,t-1]+a[1]*H[:,t-2]+a[2]*H[:,t-3]\n",
        "\n",
        "    for k in np.arange(0,K):\n",
        "\n",
        "      z = (np.identity(W.shape[1])-(1/alpha)*np.transpose(W)@W)@H[:,t] + (1/alpha)*np.transpose(W)@X[:,t]\n",
        "      H[:,t] = np.maximum(np.abs(z)-b, np.zeros(z.shape[0]))\n",
        "\n",
        "  return H"
      ],
      "execution_count": 12,
      "outputs": []
    },
    {
      "cell_type": "code",
      "metadata": {
        "colab": {
          "base_uri": "https://localhost:8080/"
        },
        "id": "0bk-GKG5tvFK",
        "outputId": "b66e394d-8ee1-4725-90b3-9bf24c688dd2"
      },
      "source": [
        "h0 = np.random.rand(D.shape[1],1)\n",
        "alpha = 100\n",
        "alphas = [0.4, 0.3, 0.3]\n",
        "#alphas = [1, 0, 0]\n",
        "\n",
        "Htest=WarmISTA(Yabs_test, D, alpha=alpha, h0=h0, K=3, lambd=0.2, a=alphas)\n",
        "scaler = MinMaxScaler()\n",
        "Htest=scaler.fit_transform(Htest)"
      ],
      "execution_count": 21,
      "outputs": [
        {
          "output_type": "stream",
          "text": [
            "100%|██████████| 998/998 [00:00<00:00, 6192.24it/s]\n"
          ],
          "name": "stderr"
        }
      ]
    },
    {
      "cell_type": "code",
      "metadata": {
        "colab": {
          "base_uri": "https://localhost:8080/"
        },
        "id": "6qfs2I478oAx",
        "outputId": "8118281f-f6d1-42ae-eae9-f2ab2b851492"
      },
      "source": [
        "Sources,Masks=Reconstruct(B=D,G=Htest,Ns=Nc,Nm=Nm,Yabs=Ytest,p=0.5)\n",
        "\n",
        "print('Reconstruction Step .... Done')\n",
        "speech_est = Sources[0]\n",
        "music_est = Sources[1]\n",
        "\n",
        "_, speech_est =  signal.istft(speech_est,\n",
        "                    samplerate,\n",
        "                    window = WINDOW,\n",
        "                    nperseg=WINDOW_SIZE,\n",
        "                    noverlap=OVERLAP,\n",
        "                    nfft = NFFT)\n",
        "\n",
        "_, music_est =  signal.istft(music_est,\n",
        "                    samplerate,\n",
        "                    window = WINDOW,\n",
        "                    nperseg=WINDOW_SIZE,\n",
        "                    noverlap=OVERLAP,\n",
        "                    nfft = NFFT)\n",
        "\n",
        "sdr_speech = SDR(s_est=speech_est[:test_s.shape[0]],s=test_s)\n",
        "sdr_music = SDR(s_est=music_est[:test_m.shape[0]], s=test_m)\n",
        "\n",
        "print(f'Speech SDR = {sdr_speech}')\n",
        "print(f'Music SDR = {sdr_music}')"
      ],
      "execution_count": 22,
      "outputs": [
        {
          "output_type": "stream",
          "text": [
            "Reconstruction Step .... Done\n",
            "Speech SDR = 2.8027804756892944\n",
            "Music SDR = 2.7047455791315405\n"
          ],
          "name": "stdout"
        }
      ]
    },
    {
      "cell_type": "markdown",
      "metadata": {
        "id": "jK9Bk5f3_ZEx"
      },
      "source": [
        "# 7.Unfolded Warm Start ISTA (Loop Version) Doesnt work:\n"
      ]
    },
    {
      "cell_type": "code",
      "metadata": {
        "id": "xs65SxqKU0t5"
      },
      "source": [
        "def WarmISTA(X, W, alpha, h0, K, lambd):\n",
        "\n",
        "  \"\"\"\n",
        "  X : Shape (F,T)\n",
        "  W : Shape (F,r)\n",
        "\n",
        "  \"\"\"\n",
        "  b = []\n",
        "  H = []\n",
        "  z= []\n",
        "\n",
        "  I = eye(W[0].shape[1], dtype=torch.float64)\n",
        "\n",
        "  for k in range(K):\n",
        "    H.append(torch.tensor(np.random.rand(W[0].shape[1],X.shape[1])))\n",
        "    b.append(Tensor([lambd/alpha[k].item()]))\n",
        "    z.append(torch.tensor(np.zeros((W[0].shape[1],1))))\n",
        "\n",
        "  H[0][:,0] = h0.clone().ravel()\n",
        "\n",
        "\n",
        "  for t in tqdm(np.arange(1,X.shape[1])):\n",
        "\n",
        "    H[0][:,t] = H[K-1][:,t-1]\n",
        "\n",
        "    for k in np.arange(0,K):\n",
        "\n",
        "      z[k] = matmul(I-(1/alpha[k])*matmul(W[k].clone().t(),W[k]),H[k][:,t]) + (1/alpha[k])*matmul(W[k].clone().t(),X[:,t])\n",
        "      H[k][:,t] = maximum(abs(z[k])-b[k], zeros(z[k].shape[0]))\n",
        "\n",
        "  return H"
      ],
      "execution_count": null,
      "outputs": []
    },
    {
      "cell_type": "code",
      "metadata": {
        "id": "QcGOpgnQYjtf"
      },
      "source": [
        "EPOCHS = 10\n",
        "\n",
        "for e in range(EPOCHS):\n",
        "\n",
        "\n",
        "      H = WarmISTA(X,W_L,alpha_L,h0_L,K=2,lambd=0.2)\n",
        "      print(f'Shape of H = {H[0].shape}')\n",
        "      loss = loss(X,W_L[K-1],H[K-1],Y,Ns=Nc)\n",
        "      optimizer.zero_grad()\n",
        "\n",
        "      loss.backward()\n",
        "      optimizer.step()\n",
        "\n",
        "      print('epoch {} ... Loss = {:.2f}'.format(e,loss))\n",
        "\n"
      ],
      "execution_count": null,
      "outputs": []
    },
    {
      "cell_type": "markdown",
      "metadata": {
        "id": "tntyudwtJk_3"
      },
      "source": [
        "# 8.Unfolded Warm Start ISTA (Cell version) "
      ]
    },
    {
      "cell_type": "code",
      "metadata": {
        "id": "yY9L2SOhK2ig"
      },
      "source": [
        "D = np.load('Dictionary.npy') #Pretrained dictionary\n",
        "\n",
        "X = Tensor(Yabs_test).float() #input tensor\n",
        "Y = Tensor(Yabs_true).float() # output tensor (clean speech)\n",
        "F = D.shape[0]\n",
        "r = D.shape[1]\n",
        "T = X.shape[1]\n",
        "K = 3\n",
        "\n",
        "a=8 # initialization of alphas.\n",
        "\n",
        "\n",
        "\n",
        "\"\"\"\n",
        "Initializing the list of K weights using the pretrained dictionary of the NMF D = [Ds Dn].\n",
        "Initializing K alphas with the value 8.\n",
        "\"\"\"\n",
        "W_L = []\n",
        "alpha_L = []\n",
        "\n",
        "for k in range(K):\n",
        "\n",
        "  W_L.append(Tensor(D).float())\n",
        "  alpha_L.append(a)\n",
        "\n",
        "alpha_L = Tensor(alpha_L).float()\n",
        "alpha_L.requires_grad = True\n",
        "\n",
        "\n",
        "\n",
        "\"\"\"\n",
        "Initializing h0 with random values\n",
        "\"\"\"\n",
        "h0_L = Tensor(np.random.rand(r,1)).float()\n",
        "h0_L.requires_grad=True\n",
        "\n",
        "\n",
        "## Set require grad true\n",
        "for k in range(K):\n",
        "\n",
        "  W_L[k].requires_grad = True\n",
        "\n",
        "  if ((W_L[k].requires_grad==False) | (alpha_L[k].requires_grad==False)):\n",
        "\n",
        "    print(\" For value k = {} ... gradient is off\")\n",
        "\n",
        "\n",
        "\n",
        "\n",
        "\"\"\"\n",
        "Create a list of Gains H for each layer k.\n",
        "\"\"\"\n",
        "H=[]\n",
        "H.append(torch.tensor(np.random.rand(D.shape[1],X.shape[1])).float())\n",
        "H.append(torch.tensor(np.random.rand(D.shape[1],X.shape[1])).float())\n",
        "H.append(torch.tensor(np.random.rand(D.shape[1],X.shape[1])).float())"
      ],
      "execution_count": null,
      "outputs": []
    },
    {
      "cell_type": "code",
      "metadata": {
        "id": "qVhz4apWMh41"
      },
      "source": [
        "\"\"\"\n",
        "Parameters list of the optimizer.\n",
        "\"\"\"\n",
        "params = W_L+[alpha_L]+[h0_L]\n",
        "optimizer = SGD(params,lr=0.1)"
      ],
      "execution_count": null,
      "outputs": []
    },
    {
      "cell_type": "code",
      "metadata": {
        "id": "DFpsfgnScX7W"
      },
      "source": [
        "def unfoldcell(X_t, H_t, W, alpha, lambd):\n",
        "    \"\"\"\n",
        "    Cell that represents one layer (k) of unfolded ISTA returns the gain at time stamp t and layer k that will be used as H_t of the next layer.\n",
        "    X_t : one input timestamp\n",
        "    H_t : gain timestamp t. If k=0 the input should be H[K-1][:,t-1] else if k>0 the output of this cell will be the input of the next cell.\n",
        "    W : W[k] weights of layer k.\n",
        "    alpha : scalar tensor alpha[k] of layer k\n",
        "    lambd : sparsity.\n",
        "    \"\"\"\n",
        "    I = eye(W.shape[1], dtype=torch.float32)\n",
        "    b = lambd/alpha.clone().item()\n",
        "\n",
        "    h_tk = ReLU()(matmul(I-(1/alpha)*matmul(W.clone().t(),W),H_t) + (1/alpha)*matmul(W.clone().t(),X_t)-b)\n",
        "\n",
        "    return h_tk\n",
        "\n",
        "\n",
        "def Criteria(X, W, H, Y, Ns ,l):\n",
        "\n",
        "  M = matmul(W[:,:Ns],H[:Ns])/(matmul(W[:,:Ns],H[:Ns]) + matmul(W[:,Ns:],H[Ns:]))\n",
        "  \n",
        "  loss = torch.norm(Y-M*X)\n",
        "  #+ l*torch.minimum(W,Tensor([0])).min().item()**2\n",
        "\n",
        "  return loss"
      ],
      "execution_count": 27,
      "outputs": []
    },
    {
      "cell_type": "code",
      "metadata": {
        "colab": {
          "base_uri": "https://localhost:8080/"
        },
        "id": "idwdCRWEGZjd",
        "outputId": "5bfe7bc2-ba84-4769-fdd8-3ad48c5d5f7f"
      },
      "source": [
        "\"\"\"\n",
        "Comments in this cell are errors that we must check.\n",
        "\"\"\"\n",
        "\n",
        "#H[0][:,0]=h0_L.clone().ravel()\n",
        "K=3\n",
        "L=0.2\n",
        "EPOCHS = 50\n",
        "epoch_loss=[]\n",
        "\n",
        "for e in range(EPOCHS):\n",
        "  loss_e = 0\n",
        "  for t in np.arange(1,X.shape[1]):\n",
        "\n",
        "    h_t0=unfoldcell(X[:,t], H[K-1][:,t-1],W_L[0],alpha_L[0],L)\n",
        "    h_t1=unfoldcell(X[:,t], h_t0,W_L[1],alpha_L[1],L)\n",
        "    h_t2=unfoldcell(X[:,t], h_t0,W_L[2],alpha_L[2],L)\n",
        "\n",
        "    #H[0][:,t]=h_t0.ravel()\n",
        "    #H[1][:,t]=h_t1.ravel()\n",
        "    #H[2][:,t]=h_t2.ravel()\n",
        "\n",
        "    loss = Criteria(X[:,t],W_L[K-1],H[K-1][:,t],Y[:,t],Ns=Nc,l=0.000001)\n",
        "    optimizer.zero_grad()\n",
        "\n",
        "    loss.backward(retain_graph=True)\n",
        "    optimizer.step()\n",
        "\n",
        "    loss_e += loss.item()\n",
        "  print(f'Epoch {e} ... Loss = {loss_e}')\n",
        "  epoch_loss.append(loss_e)"
      ],
      "execution_count": 140,
      "outputs": [
        {
          "output_type": "stream",
          "text": [
            "Epoch 0 ... Loss = 245372.0725631714\n",
            "Epoch 1 ... Loss = 245334.47021484375\n",
            "Epoch 2 ... Loss = 245297.46082305908\n",
            "Epoch 3 ... Loss = 245261.01425170898\n",
            "Epoch 4 ... Loss = 245225.10931015015\n",
            "Epoch 5 ... Loss = 245189.71173477173\n",
            "Epoch 6 ... Loss = 245154.79441070557\n",
            "Epoch 7 ... Loss = 245120.3444595337\n",
            "Epoch 8 ... Loss = 245086.32744979858\n",
            "Epoch 9 ... Loss = 245052.7250099182\n",
            "Epoch 10 ... Loss = 245019.52285385132\n",
            "Epoch 11 ... Loss = 244986.68662261963\n",
            "Epoch 12 ... Loss = 244954.20977783203\n",
            "Epoch 13 ... Loss = 244922.06296157837\n",
            "Epoch 14 ... Loss = 244890.24171066284\n",
            "Epoch 15 ... Loss = 244858.70998382568\n",
            "Epoch 16 ... Loss = 244827.46924972534\n",
            "Epoch 17 ... Loss = 244796.49227142334\n",
            "Epoch 18 ... Loss = 244765.77128219604\n",
            "Epoch 19 ... Loss = 244735.27867889404\n",
            "Epoch 20 ... Loss = 244705.01434707642\n",
            "Epoch 21 ... Loss = 244674.96612548828\n",
            "Epoch 22 ... Loss = 244645.11307907104\n",
            "Epoch 23 ... Loss = 244615.45419692993\n",
            "Epoch 24 ... Loss = 244585.97731018066\n",
            "Epoch 25 ... Loss = 244556.69089126587\n",
            "Epoch 26 ... Loss = 244527.57835388184\n",
            "Epoch 27 ... Loss = 244498.65656661987\n",
            "Epoch 28 ... Loss = 244469.93614578247\n",
            "Epoch 29 ... Loss = 244441.43697738647\n",
            "Epoch 30 ... Loss = 244413.18970489502\n",
            "Epoch 31 ... Loss = 244385.22714996338\n",
            "Epoch 32 ... Loss = 244357.60290145874\n",
            "Epoch 33 ... Loss = 244330.3758277893\n",
            "Epoch 34 ... Loss = 244303.59997558594\n",
            "Epoch 35 ... Loss = 244277.30130004883\n",
            "Epoch 36 ... Loss = 244251.48189926147\n",
            "Epoch 37 ... Loss = 244226.09534072876\n",
            "Epoch 38 ... Loss = 244201.06552124023\n",
            "Epoch 39 ... Loss = 244176.30197525024\n",
            "Epoch 40 ... Loss = 244151.74153518677\n",
            "Epoch 41 ... Loss = 244127.35256576538\n",
            "Epoch 42 ... Loss = 244103.12279510498\n",
            "Epoch 43 ... Loss = 244079.05657196045\n",
            "Epoch 44 ... Loss = 244055.1573524475\n",
            "Epoch 45 ... Loss = 244031.42290878296\n",
            "Epoch 46 ... Loss = 244007.8521347046\n",
            "Epoch 47 ... Loss = 243984.45279693604\n",
            "Epoch 48 ... Loss = 243961.20999908447\n",
            "Epoch 49 ... Loss = 243938.13730239868\n"
          ],
          "name": "stdout"
        }
      ]
    },
    {
      "cell_type": "code",
      "metadata": {
        "colab": {
          "base_uri": "https://localhost:8080/",
          "height": 286
        },
        "id": "5shimrp878DK",
        "outputId": "22568cd8-209b-4cb6-e20b-111a294ce690"
      },
      "source": [
        "plt.plot(epoch_loss[1:])"
      ],
      "execution_count": 141,
      "outputs": [
        {
          "output_type": "execute_result",
          "data": {
            "text/plain": [
              "[<matplotlib.lines.Line2D at 0x7f4017e88890>]"
            ]
          },
          "metadata": {
            "tags": []
          },
          "execution_count": 141
        },
        {
          "output_type": "display_data",
          "data": {
            "image/png": "[encoded data removed]",
            "text/plain": [
              "<Figure size 432x288 with 1 Axes>"
            ]
          },
          "metadata": {
            "tags": [],
            "needs_background": "light"
          }
        }
      ]
    },
    {
      "cell_type": "code",
      "metadata": {
        "id": "cqSEUPR09D-d"
      },
      "source": [
        "\"\"\"\n",
        "Get the numpy array of weights and gains of the last layer K \n",
        "\"\"\"\n",
        "Weights = W_L[K-1].clone().detach().numpy()\n",
        "gains = H[K-1].clone().detach().numpy()\n",
        "\n",
        "scaler = MinMaxScaler()\n",
        "Weights = scaler.fit_transform(Weights)\n",
        "#gains = scaler.fit_transform(gains)"
      ],
      "execution_count": 142,
      "outputs": []
    },
    {
      "cell_type": "code",
      "metadata": {
        "colab": {
          "base_uri": "https://localhost:8080/"
        },
        "id": "adKiAgHL8-Gq",
        "outputId": "f9d2d076-8c35-4649-99e4-2341652a7338"
      },
      "source": [
        "\"\"\"\n",
        "Reconstruction step \n",
        "\"\"\"\n",
        "Sources,Masks=Reconstruct(B=Weights,G=gains,Ns=Nc,Nm=Nm,Yabs=Ytest,p=0.5)\n",
        "\n",
        "print('Reconstruction Step .... Done')\n",
        "speech_est = Sources[0]\n",
        "music_est = Sources[1]\n",
        "\n",
        "_, speech_est =  signal.istft(speech_est,\n",
        "                    samplerate,\n",
        "                    window = WINDOW,\n",
        "                    nperseg=WINDOW_SIZE,\n",
        "                    noverlap=OVERLAP,\n",
        "                    nfft = NFFT)\n",
        "\n",
        "_, music_est =  signal.istft(music_est,\n",
        "                    samplerate,\n",
        "                    window = WINDOW,\n",
        "                    nperseg=WINDOW_SIZE,\n",
        "                    noverlap=OVERLAP,\n",
        "                    nfft = NFFT)\n",
        "\n",
        "sdr_speech = SDR(s_est=speech_est[:test_s.shape[0]],s=test_s)\n",
        "sdr_music = SDR(s_est=music_est[:test_m.shape[0]], s=test_m)\n",
        "\n",
        "print(f'Speech SDR = {sdr_speech}')\n",
        "print(f'Music SDR = {sdr_music}')"
      ],
      "execution_count": 143,
      "outputs": [
        {
          "output_type": "stream",
          "text": [
            "Reconstruction Step .... Done\n",
            "Speech SDR = 1.4307246422025264\n",
            "Music SDR = 0.523367192873283\n"
          ],
          "name": "stdout"
        }
      ]
    },
    {
      "cell_type": "code",
      "metadata": {
        "colab": {
          "base_uri": "https://localhost:8080/"
        },
        "id": "KPfhNJqkI1CP",
        "outputId": "9476afdf-7b98-4705-8de3-4aa81673c8d1"
      },
      "source": [
        "print(f'Min of Gains = {gains.min()} and Min of Weights = {Weights.min()}')\n",
        "sns.distplot(Weights)\n",
        "sns.distplot(gains)"
      ],
      "execution_count": 139,
      "outputs": [
        {
          "output_type": "stream",
          "text": [
            "Min of Gains = 2.2913254724699073e-05 and Min of Weights = 0.0\n"
          ],
          "name": "stdout"
        }
      ]
    }
  ]
}