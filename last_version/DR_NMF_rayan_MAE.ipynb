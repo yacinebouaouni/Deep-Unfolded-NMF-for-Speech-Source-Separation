{
  "nbformat": 4,
  "nbformat_minor": 0,
  "metadata": {
    "colab": {
      "name": "DR_NMF_rayan_MAE.ipynb",
      "provenance": [],
      "collapsed_sections": []
    },
    "kernelspec": {
      "display_name": "Python 3",
      "language": "python",
      "name": "python3"
    },
    "language_info": {
      "codemirror_mode": {
        "name": "ipython",
        "version": 3
      },
      "file_extension": ".py",
      "mimetype": "text/x-python",
      "name": "python",
      "nbconvert_exporter": "python",
      "pygments_lexer": "ipython3",
      "version": "3.7.1"
    },
    "accelerator": "GPU"
  },
  "cells": [
    {
      "cell_type": "code",
      "metadata": {
        "colab": {
          "base_uri": "https://localhost:8080/"
        },
        "id": "Mc8NsZqwwWiQ",
        "outputId": "7b888b0d-cf35-471d-c271-81cf6ddc37d7"
      },
      "source": [
        "# Mount Google Drive\n",
        "from google.colab import drive # import drive from google colab\n",
        " \n",
        "ROOT = \"/content/drive\"     # default location for the drive\n",
        "print(ROOT)                 # print content of ROOT (Optional)\n",
        " \n",
        "drive.mount(ROOT)           # we mount the google drive at /content/drive\n"
      ],
      "execution_count": 46,
      "outputs": [
        {
          "output_type": "stream",
          "text": [
            "/content/drive\n",
            "Drive already mounted at /content/drive; to attempt to forcibly remount, call drive.mount(\"/content/drive\", force_remount=True).\n"
          ],
          "name": "stdout"
        }
      ]
    },
    {
      "cell_type": "markdown",
      "metadata": {
        "id": "qLvpBa0ZwyQy"
      },
      "source": [
        "## This Notebook Gave in SMR=0 SDR=2.57 and 2.45"
      ]
    },
    {
      "cell_type": "code",
      "metadata": {
        "id": "r2r72nk9HrbY",
        "colab": {
          "base_uri": "https://localhost:8080/"
        },
        "outputId": "14d5eae5-cf00-44ce-d794-0b49c3761060"
      },
      "source": [
        "!apt install octave\n",
        "!apt install liboctave-dev  # development files\n",
        "!pip3 install oct2py\n",
        "from oct2py import Oct2Py\n",
        "oc = Oct2Py()\n",
        "script = '''\n",
        "  function [SDR,SIR,SAR,perm]=bss_eval_sources(se,s)\n",
        "%%% Errors %%%\n",
        "if nargin<2, error('Not enough input arguments.'); end\n",
        "[nsrc,nsampl]=size(se);\n",
        "[nsrc2,nsampl2]=size(s);\n",
        "if nsrc2~=nsrc, error('The number of estimated sources and reference sources must be equal.'); end\n",
        "if nsampl2~=nsampl, error('The estimated sources and reference sources must have the same duration.'); end\n",
        "\n",
        "%%% Performance criteria %%%\n",
        "% Computation of the criteria for all possible pair matches\n",
        "SDR=zeros(nsrc,nsrc);\n",
        "SIR=zeros(nsrc,nsrc);\n",
        "SAR=zeros(nsrc,nsrc);\n",
        "for jest=1:nsrc,\n",
        "    for jtrue=1:nsrc,\n",
        "        [s_true,e_spat,e_interf,e_artif]=bss_decomp_mtifilt(se(jest,:),s,jtrue,512);\n",
        "        [SDR(jest,jtrue),SIR(jest,jtrue),SAR(jest,jtrue)]=bss_source_crit(s_true,e_spat,e_interf,e_artif);\n",
        "    end\n",
        "end\n",
        "% Selection of the best ordering\n",
        "perm=perms(1:nsrc);\n",
        "nperm=size(perm,1);\n",
        "meanSIR=zeros(nperm,1);\n",
        "for p=1:nperm,\n",
        "    meanSIR(p)=mean(SIR((0:nsrc-1)*nsrc+perm(p,:)));\n",
        "end\n",
        "[meanSIR,popt]=max(meanSIR);\n",
        "perm=perm(popt,:).';\n",
        "SDR=SDR((0:nsrc-1).'*nsrc+perm);\n",
        "SIR=SIR((0:nsrc-1).'*nsrc+perm);\n",
        "SAR=SAR((0:nsrc-1).'*nsrc+perm);\n",
        "\n",
        "return;\n",
        "\n",
        "\n",
        "function [s_true,e_spat,e_interf,e_artif]=bss_decomp_mtifilt(se,s,j,flen)\n",
        "\n",
        "if nargin<4, error('Not enough input arguments.'); end\n",
        "[nchan2,nsampl2]=size(se);\n",
        "[nsrc,nsampl,nchan]=size(s);\n",
        "if nchan2~=nchan, error('The number of channels of the true source images and the estimated source image must be equal.'); end\n",
        "if nsampl2~=nsampl, error('The duration of the true source images and the estimated source image must be equal.'); end\n",
        "\n",
        "%%% Decomposition %%%\n",
        "% True source image\n",
        "s_true=[reshape(s(j,:,:),nsampl,nchan).',zeros(nchan,flen-1)];\n",
        "% Spatial (or filtering) distortion\n",
        "e_spat=project(se,s(j,:,:),flen)-s_true;\n",
        "% Interference\n",
        "e_interf=project(se,s,flen)-s_true-e_spat;\n",
        "% Artifacts\n",
        "e_artif=[se,zeros(nchan,flen-1)]-s_true-e_spat-e_interf;\n",
        "\n",
        "return;\n",
        "\n",
        "\n",
        "function sproj=project(se,s,flen)\n",
        "\n",
        "% SPROJ Least-squares projection of each channel of se on the subspace\n",
        "% spanned by delayed versions of the channels of s, with delays between 0\n",
        "% and flen-1\n",
        "\n",
        "[nsrc,nsampl,nchan]=size(s);\n",
        "s=reshape(permute(s,[3 1 2]),nchan*nsrc,nsampl);\n",
        "\n",
        "%%% Computing coefficients of least squares problem via FFT %%%\n",
        "% Zero padding and FFT of input data\n",
        "s=[s,zeros(nchan*nsrc,flen-1)];\n",
        "se=[se,zeros(nchan,flen-1)];\n",
        "fftlen=2^nextpow2(nsampl+flen-1);\n",
        "sf=fft(s,fftlen,2);\n",
        "sef=fft(se,fftlen,2);\n",
        "% Inner products between delayed versions of s\n",
        "G=zeros(nchan*nsrc*flen);\n",
        "for k1=0:nchan*nsrc-1,\n",
        "    for k2=0:k1,\n",
        "        ssf=sf(k1+1,:).*conj(sf(k2+1,:));\n",
        "        ssf=real(ifft(ssf));\n",
        "        ss=toeplitz(ssf([1 fftlen:-1:fftlen-flen+2]),ssf(1:flen));\n",
        "        G(k1*flen+1:k1*flen+flen,k2*flen+1:k2*flen+flen)=ss;\n",
        "        G(k2*flen+1:k2*flen+flen,k1*flen+1:k1*flen+flen)=ss.';\n",
        "    end\n",
        "end\n",
        "% Inner products between se and delayed versions of s\n",
        "D=zeros(nchan*nsrc*flen,nchan);\n",
        "for k=0:nchan*nsrc-1,\n",
        "    for i=1:nchan,\n",
        "        ssef=sf(k+1,:).*conj(sef(i,:));\n",
        "        ssef=real(ifft(ssef,[],2));\n",
        "        D(k*flen+1:k*flen+flen,i)=ssef(:,[1 fftlen:-1:fftlen-flen+2]).';\n",
        "    end\n",
        "end\n",
        "\n",
        "%%% Computing projection %%%\n",
        "% Distortion filters\n",
        "C=G\\D;\n",
        "C=reshape(C,flen,nchan*nsrc,nchan);\n",
        "% Filtering\n",
        "sproj=zeros(nchan,nsampl+flen-1);\n",
        "for k=1:nchan*nsrc,\n",
        "    for i=1:nchan,\n",
        "        sproj(i,:)=sproj(i,:)+fftfilt(C(:,k,i).',s(k,:));\n",
        "    end\n",
        "end\n",
        "\n",
        "return;\n",
        "\n",
        "\n",
        "\n",
        "function [SDR,SIR,SAR]=bss_source_crit(s_true,e_spat,e_interf,e_artif)\n",
        "\n",
        "\n",
        "if nargin<4, error('Not enough input arguments.'); end\n",
        "[nchant,nsamplt]=size(s_true);\n",
        "[nchans,nsampls]=size(e_spat);\n",
        "[nchani,nsampli]=size(e_interf);\n",
        "[nchana,nsampla]=size(e_artif);\n",
        "if ~((nchant==nchans)&&(nchant==nchani)&&(nchant==nchana)), error('All the components must have the same number of channels.'); end\n",
        "if ~((nsamplt==nsampls)&&(nsamplt==nsampli)&&(nsamplt==nsampla)), error('All the components must have the same duration.'); end\n",
        "\n",
        "%%% Energy ratios %%%\n",
        "s_filt=s_true+e_spat;\n",
        "% SDR\n",
        "SDR=10*log10(sum(sum(s_filt.^2))/sum(sum((e_interf+e_artif).^2)))\n",
        "% SIR\n",
        "SIR=10*log10(sum(sum(s_filt.^2))/sum(sum(e_interf.^2)));\n",
        "% SA\n",
        "SAR=10*log10(sum(sum((s_filt+e_interf).^2))/sum(sum(e_artif.^2)));\n",
        "return;\n",
        "\n",
        "         '''\n",
        "\n",
        "with open(\"myScript.m\",\"w+\") as f:\n",
        "    f.write(script)"
      ],
      "execution_count": 47,
      "outputs": [
        {
          "output_type": "stream",
          "text": [
            "Reading package lists... Done\n",
            "Building dependency tree       \n",
            "Reading state information... Done\n",
            "octave is already the newest version (4.2.2-1ubuntu1).\n",
            "0 upgraded, 0 newly installed, 0 to remove and 39 not upgraded.\n",
            "Reading package lists... Done\n",
            "Building dependency tree       \n",
            "Reading state information... Done\n",
            "liboctave-dev is already the newest version (4.2.2-1ubuntu1).\n",
            "0 upgraded, 0 newly installed, 0 to remove and 39 not upgraded.\n",
            "Requirement already satisfied: oct2py in /usr/local/lib/python3.7/dist-packages (5.2.0)\n",
            "Requirement already satisfied: numpy>=1.12 in /usr/local/lib/python3.7/dist-packages (from oct2py) (1.19.5)\n",
            "Requirement already satisfied: octave-kernel>=0.31.0 in /usr/local/lib/python3.7/dist-packages (from oct2py) (0.32.0)\n",
            "Requirement already satisfied: scipy>=0.17 in /usr/local/lib/python3.7/dist-packages (from oct2py) (1.4.1)\n",
            "Requirement already satisfied: metakernel>=0.24.0 in /usr/local/lib/python3.7/dist-packages (from octave-kernel>=0.31.0->oct2py) (0.27.5)\n",
            "Requirement already satisfied: jupyter-client>=4.3.0 in /usr/local/lib/python3.7/dist-packages (from octave-kernel>=0.31.0->oct2py) (5.3.5)\n",
            "Requirement already satisfied: ipykernel in /usr/local/lib/python3.7/dist-packages (from octave-kernel>=0.31.0->oct2py) (4.10.1)\n",
            "Requirement already satisfied: pexpect>=4.2 in /usr/local/lib/python3.7/dist-packages (from metakernel>=0.24.0->octave-kernel>=0.31.0->oct2py) (4.8.0)\n",
            "Requirement already satisfied: traitlets in /usr/local/lib/python3.7/dist-packages (from jupyter-client>=4.3.0->octave-kernel>=0.31.0->oct2py) (5.0.5)\n",
            "Requirement already satisfied: python-dateutil>=2.1 in /usr/local/lib/python3.7/dist-packages (from jupyter-client>=4.3.0->octave-kernel>=0.31.0->oct2py) (2.8.1)\n",
            "Requirement already satisfied: pyzmq>=13 in /usr/local/lib/python3.7/dist-packages (from jupyter-client>=4.3.0->octave-kernel>=0.31.0->oct2py) (22.1.0)\n",
            "Requirement already satisfied: jupyter-core>=4.6.0 in /usr/local/lib/python3.7/dist-packages (from jupyter-client>=4.3.0->octave-kernel>=0.31.0->oct2py) (4.7.1)\n",
            "Requirement already satisfied: tornado>=4.1 in /usr/local/lib/python3.7/dist-packages (from jupyter-client>=4.3.0->octave-kernel>=0.31.0->oct2py) (5.1.1)\n",
            "Requirement already satisfied: ipython>=4.0.0 in /usr/local/lib/python3.7/dist-packages (from ipykernel->octave-kernel>=0.31.0->oct2py) (5.5.0)\n",
            "Requirement already satisfied: ptyprocess>=0.5 in /usr/local/lib/python3.7/dist-packages (from pexpect>=4.2->metakernel>=0.24.0->octave-kernel>=0.31.0->oct2py) (0.7.0)\n",
            "Requirement already satisfied: ipython-genutils in /usr/local/lib/python3.7/dist-packages (from traitlets->jupyter-client>=4.3.0->octave-kernel>=0.31.0->oct2py) (0.2.0)\n",
            "Requirement already satisfied: six>=1.5 in /usr/local/lib/python3.7/dist-packages (from python-dateutil>=2.1->jupyter-client>=4.3.0->octave-kernel>=0.31.0->oct2py) (1.15.0)\n",
            "Requirement already satisfied: decorator in /usr/local/lib/python3.7/dist-packages (from ipython>=4.0.0->ipykernel->octave-kernel>=0.31.0->oct2py) (4.4.2)\n",
            "Requirement already satisfied: pygments in /usr/local/lib/python3.7/dist-packages (from ipython>=4.0.0->ipykernel->octave-kernel>=0.31.0->oct2py) (2.6.1)\n",
            "Requirement already satisfied: simplegeneric>0.8 in /usr/local/lib/python3.7/dist-packages (from ipython>=4.0.0->ipykernel->octave-kernel>=0.31.0->oct2py) (0.8.1)\n",
            "Requirement already satisfied: pickleshare in /usr/local/lib/python3.7/dist-packages (from ipython>=4.0.0->ipykernel->octave-kernel>=0.31.0->oct2py) (0.7.5)\n",
            "Requirement already satisfied: setuptools>=18.5 in /usr/local/lib/python3.7/dist-packages (from ipython>=4.0.0->ipykernel->octave-kernel>=0.31.0->oct2py) (57.0.0)\n",
            "Requirement already satisfied: prompt-toolkit<2.0.0,>=1.0.4 in /usr/local/lib/python3.7/dist-packages (from ipython>=4.0.0->ipykernel->octave-kernel>=0.31.0->oct2py) (1.0.18)\n",
            "Requirement already satisfied: wcwidth in /usr/local/lib/python3.7/dist-packages (from prompt-toolkit<2.0.0,>=1.0.4->ipython>=4.0.0->ipykernel->octave-kernel>=0.31.0->oct2py) (0.2.5)\n"
          ],
          "name": "stdout"
        }
      ]
    },
    {
      "cell_type": "code",
      "metadata": {
        "id": "PYxUhmqBwXk8"
      },
      "source": [
        "import numpy as np\n",
        "import os\n",
        "import matplotlib.pyplot as plt\n",
        "from scipy.signal import butter, lfilter, freqz\n",
        "\n",
        "from scipy.io.wavfile import read, write\n",
        "from scipy import signal\n",
        "from sklearn.decomposition import NMF\n",
        "from sklearn.preprocessing import MinMaxScaler\n",
        "\n",
        "from numpy import linalg as LA\n",
        "from numpy.linalg import inv\n",
        "from helpers2 import Reconstruct, Viz_Y,SMR,get_mixed_signal,SDR,ReconstructSoft,butter_lowpass_filter\n",
        "import seaborn as sns\n",
        "import warnings\n",
        "import math\n",
        "from tqdm import tqdm\n",
        "warnings.simplefilter('ignore')"
      ],
      "execution_count": 48,
      "outputs": []
    },
    {
      "cell_type": "code",
      "metadata": {
        "id": "bBZYKWbuNBY6"
      },
      "source": [
        "def Reconstruct(B,G,Ns,Nm,Yabs,p):\n",
        "    \n",
        "    numerators=[]\n",
        "    B1=B[:,:Ns]\n",
        "    B2=B[:,Ns:]\n",
        "    G1=G[:Ns,:]\n",
        "    G2=G[Ns:,:]\n",
        "    \n",
        "    \n",
        "    numerators.append(np.power(np.matmul(B1,G1),p))\n",
        "    numerators.append(np.power(np.matmul(B2,G2),p))\n",
        "\n",
        "    denominator = np.power(np.matmul(B1,G1),p)+np.power(np.matmul(B2,G2),p)\n",
        "  \n",
        "    \n",
        "\n",
        "    Sources=[]\n",
        "    Masks=[]\n",
        "    for i in range(2):\n",
        "\n",
        "        Sources.append(np.multiply(numerators[i]/denominator,Yabs))\n",
        "        Masks.append(numerators[i]/denominator)\n",
        "\n",
        "    #print('Source shape = {}'.format(Sources[0].shape))\n",
        "    \n",
        "    return Sources,Masks\n",
        "\n",
        "\n",
        "\n",
        "\n",
        "def SMR(speech, music):\n",
        "    \n",
        "    \"\"\"\n",
        "    Function that takes music and speech signals.\n",
        "    returns SMR in db\n",
        "    \"\"\"\n",
        "    speech_power = LA.norm(speech,2)\n",
        "    music_power = LA.norm(music,2)\n",
        "    SMR_db=10*np.log10(speech_power/music_power)\n",
        "    print('SMR = {:.2f}'.format(SMR_db))\n",
        "    \n",
        "    return SMR_db\n",
        "\n",
        "def SDR(s_est, s):\n",
        "    \"\"\"\n",
        "    Function that takes original and estimated spectrogram\n",
        "    returns SDR in DB\n",
        "    \"\"\"\n",
        "    \n",
        "    signal_power = LA.norm(s,2)\n",
        "    distorsion_power = LA.norm(s_est - s,2) \n",
        "    SDR_db=10*np.log10(signal_power/distorsion_power)\n",
        "    \n",
        "    return SDR_db"
      ],
      "execution_count": 49,
      "outputs": []
    },
    {
      "cell_type": "code",
      "metadata": {
        "id": "a6Svl3le9k5j"
      },
      "source": [
        "from helpers2 import *"
      ],
      "execution_count": 50,
      "outputs": []
    },
    {
      "cell_type": "code",
      "metadata": {
        "colab": {
          "base_uri": "https://localhost:8080/"
        },
        "id": "idEcwxGxxkOd",
        "outputId": "d98bd409-4e71-4685-dcb6-fe1e48dbc1e6"
      },
      "source": [
        "# Best 1-20 min\n",
        "\n",
        "start = 1 * 60 * 44100\n",
        "end = 20 * 60 * 44100 \n",
        "\n",
        "samplerate_s, data_speech = read(\"/content/drive/MyDrive/Conversation.wav\")\n",
        "speech=data_speech[start:end,0]\n",
        "length=speech.shape[0]/samplerate_s\n",
        "print('Shape of the speech {} ... Length : {:.2f}s ... Sample rate : {}'.format(speech.shape[0],length,samplerate_s))\n",
        "\n",
        "start = 1 * 60 * 44100\n",
        "end = 20 * 60 * 44100 \n",
        "samplerate_m, data_music = read(\"/content/drive/MyDrive/music.wav\")\n",
        "music=data_music[start:end,0]\n",
        "length=music.shape[0]/samplerate_m\n",
        "print('Shape of the music {} ... Length : {:.2f}s ... Sample rate : {}'.format(music.shape[0],length,samplerate_m))\n"
      ],
      "execution_count": 51,
      "outputs": [
        {
          "output_type": "stream",
          "text": [
            "Shape of the speech 50274000 ... Length : 1140.00s ... Sample rate : 44100\n",
            "Shape of the music 50274000 ... Length : 1140.00s ... Sample rate : 44100\n"
          ],
          "name": "stdout"
        }
      ]
    },
    {
      "cell_type": "code",
      "metadata": {
        "colab": {
          "base_uri": "https://localhost:8080/"
        },
        "id": "YMZEZdLJxo15",
        "outputId": "029d8a8d-0c05-4069-a78c-aae757e7bd9c"
      },
      "source": [
        "fs = 16000\n",
        "\n",
        "rate = samplerate_s / fs\n",
        "\n",
        "\n",
        "start = 1 * 60 * 44100\n",
        "end = 20 * 60 * 44100\n",
        "\n",
        "\n",
        "speech_t=data_speech[start : end, 0]\n",
        "music_t = data_music[start : end, 0]\n",
        "\n",
        "\n",
        "speech_t = signal.resample(speech_t,int(speech_t.shape[0]/rate))\n",
        "music_t = signal.resample(music_t,int(music_t.shape[0]/rate))\n",
        "samplerate=int(samplerate_m/rate)\n",
        "length=music_t.shape[0]/samplerate\n",
        "\n",
        "print('Shape of the test {} ... Length : {:.2f}s ... Sample rate : {}'.format(music_t.shape[0],length,samplerate))\n",
        "\n",
        "speech = signal.resample(speech,int(speech.shape[0]/rate))\n",
        "music = signal.resample(music,int(music.shape[0]/rate))\n",
        "\n",
        "\n",
        "print('Downsampled rate = {}'.format(samplerate))\n",
        "\n",
        "speech = butter_lowpass_filter(speech,5000,fs)\n",
        "music = butter_lowpass_filter(music,5000,fs)\n",
        "\n",
        "music_t = butter_lowpass_filter(music_t,5000,fs)\n",
        "speech_t = butter_lowpass_filter(speech_t,5000,fs)"
      ],
      "execution_count": 52,
      "outputs": [
        {
          "output_type": "stream",
          "text": [
            "Shape of the test 18240000 ... Length : 1140.00s ... Sample rate : 16000\n",
            "Downsampled rate = 16000\n"
          ],
          "name": "stdout"
        }
      ]
    },
    {
      "cell_type": "markdown",
      "metadata": {
        "id": "Jbke3Fm4zEG5"
      },
      "source": [
        "## Training STFT :\n"
      ]
    },
    {
      "cell_type": "code",
      "metadata": {
        "colab": {
          "base_uri": "https://localhost:8080/"
        },
        "id": "LHbUgVOAyDiz",
        "outputId": "f14efdcd-c9ae-4d1c-e9c1-bd0ceec062bf"
      },
      "source": [
        "WINDOW = 'hamming'\n",
        "WINDOW_SIZE=480\n",
        "OVERLAP = 0.6 * WINDOW_SIZE\n",
        "NFFT=512\n",
        "\n",
        "f,t,Y= signal.stft(speech,samplerate,window=WINDOW,nperseg=WINDOW_SIZE,noverlap=OVERLAP,nfft=NFFT)\n",
        "Yabs_s=np.abs(Y)\n",
        "f,t,Y= signal.stft(music,samplerate,window=WINDOW,nperseg=WINDOW_SIZE,noverlap=OVERLAP,nfft=NFFT)\n",
        "Yabs_m=np.abs(Y)\n",
        "\n",
        "\n",
        "\n",
        "SMR_db = -5\n",
        "mix,speech_mix,music_mix=get_mixed_signal(speech_t,music_t,SMR_db)\n",
        "\n",
        "\n",
        "f,t,Ymix= signal.stft(mix,samplerate,window=WINDOW,nperseg=WINDOW_SIZE,noverlap=OVERLAP,nfft=NFFT)\n",
        "Yabs_mix=np.abs(Ymix)\n",
        "\n",
        "Yabs_mix[Yabs_mix==0]=0.00001\n",
        "write(\"/MixX.wav\", samplerate, mix.astype(np.int16))\n",
        "\n"
      ],
      "execution_count": 53,
      "outputs": [
        {
          "output_type": "stream",
          "text": [
            "SMR = -5.00\n"
          ],
          "name": "stdout"
        }
      ]
    },
    {
      "cell_type": "markdown",
      "metadata": {
        "id": "gTyG9UYBzIto"
      },
      "source": [
        "## Test STFT :"
      ]
    },
    {
      "cell_type": "code",
      "metadata": {
        "colab": {
          "base_uri": "https://localhost:8080/"
        },
        "id": "Aa1jCmT4yHq_",
        "outputId": "cf1e30ad-b980-4cc9-926e-d0beaf3ce260"
      },
      "source": [
        "fs = 16000\n",
        "\n",
        "rate = samplerate_s / fs\n",
        "\n",
        "\n",
        "start = 24 * 60 * 44100\n",
        "step = int(0.5 * 60 * 44100)\n",
        "\n",
        "test_s = np.array([])\n",
        "test_m = np.array([])\n",
        "\n",
        "for i in range(1):\n",
        "\n",
        "  test_s = np.hstack([test_s,data_speech[start+i*step:start+(i+1)*step,0]])\n",
        "  test_m = np.hstack([test_m,data_music[start+i*step:start+(i+1)*step,0]])\n",
        "\n",
        "\n",
        "test_s = signal.resample(test_s,int(test_s.shape[0]/rate))\n",
        "test_m = signal.resample(test_m,int(test_m.shape[0]/rate))\n",
        "samplerate=int(samplerate_m/rate)\n",
        "length=music_t.shape[0]/samplerate\n",
        "\n",
        "\n",
        "test_s = butter_lowpass_filter(test_s,5000,fs)\n",
        "test_m = butter_lowpass_filter(test_m,5000,fs)\n",
        "\n",
        "\n",
        "################################################################################\n",
        "SMR_db = 5\n",
        "test,speech_test,music_test=get_mixed_signal(test_s,test_m,SMR_db)\n",
        "\n",
        "\n",
        "f,t,Ytest= signal.stft(test,samplerate,window=WINDOW,nperseg=WINDOW_SIZE,noverlap=OVERLAP,nfft=NFFT)\n",
        "Yabs_test=np.abs(Ytest)\n",
        "\n",
        "Yabs_test[Yabs_test==0]=0.00001\n"
      ],
      "execution_count": 363,
      "outputs": [
        {
          "output_type": "stream",
          "text": [
            "SMR = 5.00\n"
          ],
          "name": "stdout"
        }
      ]
    },
    {
      "cell_type": "markdown",
      "metadata": {
        "id": "IjWdkHsOdDZ6"
      },
      "source": [
        "# Train First NMF on Clean Speech :"
      ]
    },
    {
      "cell_type": "code",
      "metadata": {
        "id": "ohqeS3S86_Nw"
      },
      "source": [
        "def softmax(x):\n",
        "\n",
        "  e_x = np.exp(x)\n",
        "  return e_x / e_x.sum(axis=0)"
      ],
      "execution_count": 284,
      "outputs": []
    },
    {
      "cell_type": "code",
      "metadata": {
        "id": "jpDYwy1YdCgx"
      },
      "source": [
        "Nc = 16\n",
        "Nm = 48\n",
        "\n",
        "model = NMF(n_components=Nc, init='nndsvd',alpha=0.0,beta_loss='frobenius',solver=\"mu\",max_iter=200, random_state=7)\n",
        "model.fit(np.transpose(Yabs_s))\n",
        "Dc = np.transpose(model.components_)\n",
        "scaler = MinMaxScaler()\n",
        "Dc = scaler.fit_transform(Dc)\n"
      ],
      "execution_count": 56,
      "outputs": []
    },
    {
      "cell_type": "markdown",
      "metadata": {
        "id": "e8SH3ITBd_zy"
      },
      "source": [
        "# Train NMF on Noisy Speech :"
      ]
    },
    {
      "cell_type": "code",
      "metadata": {
        "id": "LwXFaFPLzvpt"
      },
      "source": [
        "def nmf(X, Dc, Nn, lamb=0.1, maxit=100):\n",
        "\n",
        "    Nc = Dc.shape[1]\n",
        "    H = np.random.rand(Nc+Nn, X.shape[1])\n",
        "\n",
        "    Dn = np.random.rand(X. shape[0], Nn)\n",
        "    print(f\"Shape of Dc {Dc.shape} Shape of Dn {Dn.shape}\")\n",
        "    D = np.hstack([Dc,Dn])\n",
        "    Dnorm = D / np.sum(D**2, axis=0)**(.5)\n",
        "\n",
        "    print(f'Dnorm shape {Dnorm.shape} and X shape {X.shape} and H shape {H.shape}')\n",
        "    hist=[]\n",
        "    for i in range(maxit):\n",
        "        H = H * (np.matmul(Dnorm.T, X)) / (np.matmul(np.matmul(Dnorm.T, Dnorm), H) + lamb)\n",
        "        D[:,Dc.shape[1]:] = (Dnorm * (np.matmul(X, H.T) + Dnorm * (np.matmul(np.ones((X.shape[0], X.shape[0])), np.matmul(Dnorm, np.matmul(H, H.T)) * Dnorm))) / (np.matmul(Dnorm, np.matmul(H, H.T)) + Dnorm * (np.matmul(np.ones((X.shape[0], X.shape[0])), np.matmul(X, H.T) * Dnorm))))[:,Dc.shape[1]:]\n",
        "        Dnorm = D / np.sum(D**2, axis=0)**(.5)\n",
        "        hist.append(LA.norm(X-np.matmul(Dnorm,H)))\n",
        "    #Dnorm[:,Dc.shape[1]:] = softmax(Dnorm[:,Dc.shape[1]:])\n",
        "    return Dnorm, H,hist"
      ],
      "execution_count": 57,
      "outputs": []
    },
    {
      "cell_type": "code",
      "metadata": {
        "id": "FXGmjW-vCaiC",
        "colab": {
          "base_uri": "https://localhost:8080/"
        },
        "outputId": "dde856a7-3d55-49f9-be84-b41170f842b5"
      },
      "source": [
        "D,H,hist = nmf(Yabs_mix,Dc,Nm)\n",
        "\n",
        "scaler = MinMaxScaler()\n",
        "D =  scaler.fit_transform(D)\n"
      ],
      "execution_count": 58,
      "outputs": [
        {
          "output_type": "stream",
          "text": [
            "Shape of Dc (257, 16) Shape of Dn (257, 48)\n",
            "Dnorm shape (257, 64) and X shape (257, 95001) and H shape (64, 95001)\n"
          ],
          "name": "stdout"
        }
      ]
    },
    {
      "cell_type": "markdown",
      "metadata": {
        "id": "8dIwuar0T8Id"
      },
      "source": [
        "# Test NMF :"
      ]
    },
    {
      "cell_type": "code",
      "metadata": {
        "id": "15-p3FEJT5_3"
      },
      "source": [
        "model_test = NMF(n_components=Nc+Nm, init='nndsvd',alpha=100,beta_loss='frobenius',solver=\"mu\",max_iter=200, random_state=7)\n",
        "model_test.fit(np.transpose(Yabs_test))\n",
        "    \n",
        "model_test.components_= np.transpose(D)\n",
        "G_test=np.transpose(model_test.transform(np.transpose(Yabs_test)))"
      ],
      "execution_count": 59,
      "outputs": []
    },
    {
      "cell_type": "code",
      "metadata": {
        "id": "iZCUnMdShJX1"
      },
      "source": [
        "from tqdm import tqdm\n",
        "\n",
        "\n",
        "\n",
        "def soft(z,a,l=0.02):\n",
        "  h = np.maximum(np.abs(z)-l/a,np.zeros(z.shape[0]))\n",
        "  return h\n",
        "  \n",
        "def warm_start_ISTA(x,W,n_components,a,K,l=0.02):\n",
        "\n",
        "  np.random.seed(seed=7)\n",
        "  h = np.random.rand(W.shape[1] , x.shape[1])\n",
        "  T = x.shape[1]\n",
        "\n",
        "  for t_ in tqdm(range(1,T)):\n",
        "    h[:,t_] = h[:,t_-1]\n",
        "\n",
        "    for _ in range(1,K):\n",
        "      z = (np.identity(n_components) - (1/a)*(np.transpose(W)@W))@h[:,t_] + \\\n",
        "          (1/a)*np.transpose(W)@x[:,t_]\n",
        "\n",
        "      h[:,t_] = soft(z,a,l)\n",
        "  return h "
      ],
      "execution_count": 286,
      "outputs": []
    },
    {
      "cell_type": "code",
      "metadata": {
        "id": "KJA1YaV8_CPV"
      },
      "source": [
        "def eval(D,G_test,Ytest):\n",
        "  Sources,Masks=Reconstruct(B=D,G=G_test,Yabs=Ytest,p=mask_p,Ns=ns,Nm=nm)\n",
        "\n",
        "  print('Reconstruction Step .... Done')\n",
        "  speech_est = Sources[0]\n",
        "  music_est = Sources[1]\n",
        "\n",
        "  _, speech_est =  signal.istft(speech_est,\n",
        "                      samplerate,\n",
        "                      window = WINDOW,\n",
        "                      nperseg=WINDOW_SIZE,\n",
        "                      noverlap=OVERLAP,\n",
        "                      nfft = NFFT)\n",
        "\n",
        "  _, music_est =  signal.istft(music_est,\n",
        "                      samplerate,\n",
        "                      window = WINDOW,\n",
        "                      nperseg=WINDOW_SIZE,\n",
        "                      noverlap=OVERLAP,\n",
        "                      nfft = NFFT)\n",
        " \n",
        "\n",
        "  sdr_speech = SDR(s_est=speech_est,s=test_s)\n",
        "  sdr_music = SDR(s_est=music_est, s=test_m)\n",
        "  print(\"smr equal = {}\".format(SMR_db))\n",
        "\n",
        "  with open(\"myScript.m\",\"w+\") as f:\n",
        "    f.write(script)\n",
        "  print(\"Speech SDR \\n\")\n",
        "  oc.myScript(speech_est ,test_s)\n",
        "  print(\"MUSIC SDR \\n\")\n",
        "  oc.myScript(music_est ,test_m)"
      ],
      "execution_count": 287,
      "outputs": []
    },
    {
      "cell_type": "code",
      "metadata": {
        "id": "qq19mZCEE1DV"
      },
      "source": [
        "S =np.transpose(scaler.fit_transform(np.transpose(D)))\n"
      ],
      "execution_count": 324,
      "outputs": []
    },
    {
      "cell_type": "code",
      "metadata": {
        "colab": {
          "base_uri": "https://localhost:8080/"
        },
        "id": "hrLg2CNKJpGP",
        "outputId": "f568262c-cf53-4e98-96e3-7c91efe6618c"
      },
      "source": [
        "h_ws = warm_start_ISTA(Yabs_test,S,48+16,\n",
        "                    10000000,\n",
        "                    5,l=0)\n",
        "\n",
        "mask_p = 0.5\n",
        "ns = 16\n",
        "nm = 48\n",
        "eval(S,h_ws,Ytest)"
      ],
      "execution_count": 379,
      "outputs": [
        {
          "output_type": "stream",
          "text": [
            "100%|██████████| 2500/2500 [00:01<00:00, 1383.96it/s]\n"
          ],
          "name": "stderr"
        },
        {
          "output_type": "stream",
          "text": [
            "Reconstruction Step .... Done\n",
            "smr equal = 5\n",
            "Speech SDR \n",
            "\n",
            "warning: function name 'bss_eval_sources' does not agree with function filename '/content/myScript.m'\n",
            "SDR =  10.436\n",
            "warning: division by zero\n",
            "MUSIC SDR \n",
            "\n",
            "SDR = -9.3511\n",
            "warning: division by zero\n"
          ],
          "name": "stdout"
        }
      ]
    },
    {
      "cell_type": "code",
      "metadata": {
        "id": "l6bfpshVWNy5"
      },
      "source": [
        "mask_p = 0.5\n",
        "eval(D,G_test,Ytest)"
      ],
      "execution_count": null,
      "outputs": []
    },
    {
      "cell_type": "code",
      "metadata": {
        "id": "ozbW9qjL1DDE"
      },
      "source": [
        "eval(D,G_test,Ytest) ,eval(D,h_ws,Ytest)"
      ],
      "execution_count": null,
      "outputs": []
    },
    {
      "cell_type": "markdown",
      "metadata": {
        "id": "HgX9C70xVaZk"
      },
      "source": [
        "# Unfolded ISTA"
      ]
    },
    {
      "cell_type": "code",
      "metadata": {
        "colab": {
          "base_uri": "https://localhost:8080/"
        },
        "id": "jq9GyGhvPJhG",
        "outputId": "c92e1b8a-5885-4251-f7de-29dbaa829273"
      },
      "source": [
        "print(torch.cuda.is_available())\n",
        "\n",
        "device = torch.device(\"cuda:0\" if torch.cuda.is_available() else \"cpu\")\n",
        "print(device)"
      ],
      "execution_count": 65,
      "outputs": [
        {
          "output_type": "stream",
          "text": [
            "True\n",
            "cuda:0\n"
          ],
          "name": "stdout"
        }
      ]
    },
    {
      "cell_type": "code",
      "metadata": {
        "id": "yeOhWKfJaQfV"
      },
      "source": [
        "import torch"
      ],
      "execution_count": 66,
      "outputs": []
    },
    {
      "cell_type": "code",
      "metadata": {
        "colab": {
          "base_uri": "https://localhost:8080/"
        },
        "id": "S6Gw9Nq6uFbZ",
        "outputId": "d22c3703-6f5c-40b1-a91f-549ce4942fe0"
      },
      "source": [
        "!unrar x -Y \"/content/drive/MyDrive/NMF.rar\" "
      ],
      "execution_count": 81,
      "outputs": [
        {
          "output_type": "stream",
          "text": [
            "\n",
            "UNRAR 5.50 freeware      Copyright (c) 1993-2017 Alexander Roshal\n",
            "\n",
            "\n",
            "Extracting from /content/drive/MyDrive/NMF.rar\n",
            "\n",
            "Creating    NMF                                                       OK\n",
            "Extracting  NMF/B1616.npy                                                \b\b\b\b  2%\b\b\b\b\b  OK \n",
            "Extracting  NMF/B1632.npy                                                \b\b\b\b  6%\b\b\b\b\b  OK \n",
            "Extracting  NMF/B1648.npy                                                \b\b\b\b 12%\b\b\b\b\b  OK \n",
            "Extracting  NMF/B2424.npy                                                \b\b\b\b 16%\b\b\b\b\b  OK \n",
            "Extracting  NMF/B2432.npy                                                \b\b\b\b 20%\b\b\b\b\b  OK \n",
            "Extracting  NMF/B3216.npy                                                \b\b\b\b 24%\b\b\b\b\b  OK \n",
            "Extracting  NMF/B3232.npy                                                \b\b\b\b 29%\b\b\b\b\b  OK \n",
            "Extracting  NMF/B3232comp.npy                                            \b\b\b\b 34%\b\b\b\b\b  OK \n",
            "Extracting  NMF/B3248.npy                                                \b\b\b\b 41%\b\b\b\b\b  OK \n",
            "Extracting  NMF/B3264.npy                                                \b\b\b\b 48%\b\b\b\b\b  OK \n",
            "Extracting  NMF/B4864.npy                                                \b\b\b\b 57%\b\b\b\b\b  OK \n",
            "Extracting  NMF/B6464.npy                                                \b\b\b\b 67%\b\b\b\b\b  OK \n",
            "Extracting  NMF/Bmusic.npy                                               \b\b\b\b 69%\b\b\b\b\b  OK \n",
            "Extracting  NMF/Bmusic16.npy                                             \b\b\b\b 70%\b\b\b\b\b  OK \n",
            "Extracting  NMF/Bmusic24.npy                                             \b\b\b\b 72%\b\b\b\b\b  OK \n",
            "Extracting  NMF/Bmusic32.npy                                             \b\b\b\b 75%\b\b\b\b\b  OK \n",
            "Extracting  NMF/Bmusic48.npy                                             \b\b\b\b 79%\b\b\b\b\b  OK \n",
            "Extracting  NMF/Bmusic64.npy                                             \b\b\b\b 85%\b\b\b\b\b  OK \n",
            "Extracting  NMF/Bspeech.npy                                              \b\b\b\b 86%\b\b\b\b\b  OK \n",
            "Extracting  NMF/Bspeech16.npy                                            \b\b\b\b 88%\b\b\b\b\b  OK \n",
            "Extracting  NMF/Bspeech24.npy                                            \b\b\b\b 89%\b\b\b\b\b  OK \n",
            "Extracting  NMF/Bspeech32.npy                                            \b\b\b\b 92%\b\b\b\b\b  OK \n",
            "Extracting  NMF/Bspeech48.npy                                            \b\b\b\b 95%\b\b\b\b\b  OK \n",
            "Extracting  NMF/Bspeech64.npy                                            \b\b\b\b 99%\b\b\b\b\b  OK \n",
            "All OK\n"
          ],
          "name": "stdout"
        }
      ]
    },
    {
      "cell_type": "code",
      "metadata": {
        "id": "Xj3-fu-RuIvQ"
      },
      "source": [
        "D = np.concatenate([np.load(\"NMF/Bspeech16.npy\" ),np.load(\"NMF/Bmusic48.npy\" )],axis=1)"
      ],
      "execution_count": 175,
      "outputs": []
    },
    {
      "cell_type": "code",
      "metadata": {
        "colab": {
          "base_uri": "https://localhost:8080/"
        },
        "id": "ZJkoPuQ1D2pu",
        "outputId": "25e485f8-8f46-4d04-93a1-3d4034aa91ff"
      },
      "source": [
        "fs = 16000\n",
        "\n",
        "rate = samplerate_s / fs\n",
        "\n",
        "\n",
        "start = 24 * 60 * 44100\n",
        "step = int(0.5 * 60 * 44100)\n",
        "\n",
        "test_s = np.array([])\n",
        "test_m = np.array([])\n",
        "\n",
        "for i in range(1):\n",
        "\n",
        "  test_s = np.hstack([test_s,data_speech[start+i*step:start+(i+1)*step,0]])\n",
        "  test_m = np.hstack([test_m,data_music[start+i*step:start+(i+1)*step,0]])\n",
        "\n",
        "\n",
        "test_s = signal.resample(test_s,int(test_s.shape[0]/rate))\n",
        "test_m = signal.resample(test_m,int(test_m.shape[0]/rate))\n",
        "samplerate=int(samplerate_m/rate)\n",
        "length=music_t.shape[0]/samplerate\n",
        "\n",
        "\n",
        "test_s = butter_lowpass_filter(test_s,5000,fs)\n",
        "test_m = butter_lowpass_filter(test_m,5000,fs)\n",
        "\n",
        "\n",
        "################################################################################\n",
        "SMR_db = -5\n",
        "test,speech_test,music_test=get_mixed_signal(test_s,test_m,SMR_db)\n",
        "\n",
        "\n",
        "f,t,Ytest= signal.stft(test,samplerate,window=WINDOW,nperseg=WINDOW_SIZE,noverlap=OVERLAP,nfft=NFFT)\n",
        "Yabs_test=np.abs(Ytest)\n",
        "\n",
        "Yabs_test[Yabs_test==0]=0.00001\n"
      ],
      "execution_count": 272,
      "outputs": [
        {
          "output_type": "stream",
          "text": [
            "SMR = -5.00\n"
          ],
          "name": "stdout"
        }
      ]
    },
    {
      "cell_type": "code",
      "metadata": {
        "colab": {
          "base_uri": "https://localhost:8080/"
        },
        "id": "JM2YYmYwswiC",
        "outputId": "90a9d27f-ec62-4a31-9520-273a493c6eb8"
      },
      "source": [
        "Sources,Masks=Reconstruct(B=D,G=G_test,Ns=Dc.shape[1],Nm=Nm,Yabs=Ytest,p=2)\n",
        "M = Masks[0]\n",
        "f,t,Y= signal.stft(test_s,samplerate,window=WINDOW,nperseg=WINDOW_SIZE,noverlap=OVERLAP,nfft=NFFT)\n",
        "Y_clean=np.abs(Y)\n",
        "Y_clean[Y_clean==0]=0.00001\n",
        "\n",
        "X = Yabs_test\n",
        "X_cmplx = Ytest\n",
        "W =scaler.fit_transform(D)\n",
        "alpha = 100\n",
        "K = 3\n",
        "lambd = 0.01\n",
        "torch.autograd.set_detect_anomaly(False)\n"
      ],
      "execution_count": 273,
      "outputs": [
        {
          "output_type": "execute_result",
          "data": {
            "text/plain": [
              "<torch.autograd.anomaly_mode.set_detect_anomaly at 0x7fd001246a10>"
            ]
          },
          "metadata": {
            "tags": []
          },
          "execution_count": 273
        }
      ]
    },
    {
      "cell_type": "code",
      "metadata": {
        "id": "WkKWVJbDDBc3"
      },
      "source": [
        "def eval_dnn_2(D,G_test,Ytest,p):\n",
        "  d = p\n",
        "  Sources,Masks=Reconstruct(B=D,G=G_test,Ns=16,Nm=48,Yabs=Ytest,p=d)\n",
        "\n",
        "  print('Reconstruction Step .... Done')\n",
        "  speech_est = Sources[0]\n",
        "  music_est = Sources[1]\n",
        "\n",
        "  _, speech_est =  signal.istft(speech_est,\n",
        "                      samplerate,\n",
        "                      window = WINDOW,\n",
        "                      nperseg=WINDOW_SIZE,\n",
        "                      noverlap=OVERLAP,\n",
        "                      nfft = NFFT)\n",
        "\n",
        "  _, music_est =  signal.istft(music_est,\n",
        "                      samplerate,\n",
        "                      window = WINDOW,\n",
        "                      nperseg=WINDOW_SIZE,\n",
        "                      noverlap=OVERLAP,\n",
        "                      nfft = NFFT)\n",
        "\n",
        "  with open(\"myScript.m\",\"w+\") as f:\n",
        "    f.write(script)\n",
        "  print(\"DNN Results \\n\")\n",
        "  speech_sdr = oc.myScript(speech_est ,test_s);\n",
        "  music_sdr = oc.myScript(music_est ,test_m);\n",
        "\n",
        "  return speech_sdr,music_sdr"
      ],
      "execution_count": 274,
      "outputs": []
    },
    {
      "cell_type": "code",
      "metadata": {
        "id": "1jZybwIcwHVT"
      },
      "source": [
        "def speech_mask(B,G,Ns,p):\n",
        "    B1=B[:,:Ns]\n",
        "    B2=B[:,Ns:]\n",
        "    G1=G[:Ns,:]\n",
        "    G2=G[Ns:,:]\n",
        "    \n",
        "    \n",
        "    numerator = torch.pow(torch.matmul(B1,G1),p)\n",
        "\n",
        "    denominator = torch.pow(torch.matmul(B1,G1),p)+torch.pow(torch.matmul(B2,G2),p)\n",
        "  \n",
        "\n",
        "    mask_speech = numerator/(denominator+0.00001)\n",
        "\n",
        "    \n",
        "    return mask_speech\n",
        "\n",
        "\n",
        "def sigmoid(x):\n",
        "  return torch.nn.Sigmoid()(x)\n",
        "\n",
        "def soft(z,a,l=0.02):\n",
        "  h = torch.maximum(torch.abs(z)-l/a,torch.zeros(z.shape[0]).to(device))\n",
        "  return h\n",
        "\n",
        "\n",
        "def error(X,M,Y):\n",
        "\n",
        "  return torch.nn.L1Loss()(Y,M*X)\n",
        "\n",
        "def Unfolded_ISTA(X, W, alpha, K, lambd,epochs,learning_rate):\n",
        "  loss_e = 0\n",
        "  train_hist = np.zeros(epochs)\n",
        "  epoch_loss = []\n",
        "  sdr_speech= []\n",
        "  sdr_music= []\n",
        "  torch.manual_seed(7)\n",
        "  X = torch.from_numpy(X).float().to(device)\n",
        "  W = torch.from_numpy(W).float().to(device)\n",
        "  W = torch.tile(W, (K,1,1)).to(device)\n",
        "  alpha_list = list(torch.tile(torch.tensor([alpha]).float(),(K,)))\n",
        "  H = torch.rand(W.shape[2],X.shape[1]).to(device)\n",
        "  H = torch.tile(H, (K,1,1)).to(device)\n",
        "  H_clone = H.clone().to(device)\n",
        "  Y = torch.from_numpy(Y_clean).float().to(device)\n",
        "  W1 = W[0]\n",
        "  W2 = W[1]\n",
        "  W3 = W[2]\n",
        "  W4 = W[3]\n",
        "  W5 = W[4]\n",
        "  W1.requires_grad = True\n",
        "  W2.requires_grad = True\n",
        "  W3.requires_grad = True\n",
        "  W4.requires_grad = True\n",
        "  W5.requires_grad = True\n",
        "\n",
        "  params =  [W1] + [W2]  + [W3] + [W4] + [W5]\n",
        "  sgd = torch.optim.SGD(params,lr=learning_rate)\n",
        "  for e in range(epochs):\n",
        "    for t in tqdm(np.arange(1,X.shape[1]),position=0, leave=True):\n",
        "      \n",
        "      for k in range(1,K):\n",
        "        if k ==1:\n",
        "          z = (torch.eye(64).to(device) - (1/alpha_list[k])*(W[k-1].t()@W[k-1]))@H[K-1,:,t-1] + (1/alpha_list[k])*W[k-1].t()@X[:,t]\n",
        "\n",
        "          H[k,:,t] = soft(z,alpha,lambd)\n",
        "        elif k > 1:\n",
        "          z = (torch.eye(64).to(device) - (1/alpha_list[k])*(W[k-1].t()@W[k-1]))@H[k-1,:,t] + (1/alpha_list[k])*W[k-1].t()@X[:,t]\n",
        "\n",
        "          H[k,:,t] = soft(z,alpha,lambd)\n",
        "\n",
        "        H[k] = torch.maximum(H[k],torch.tensor([0]).to(device))\n",
        "\n",
        "      sgd.zero_grad()      \n",
        "\n",
        "\n",
        "      \n",
        "      mask = speech_mask(torch.maximum(W5,torch.tensor([0]).to(device)),H[K-1],16,2)\n",
        "      #print(mask)\n",
        "      loss = error(X[:,t],mask[:,t],Y[:,t])\n",
        "      #print(\"\\n\",loss)\n",
        "      train_hist[e] = loss.item()\n",
        "      loss.backward()\n",
        "\n",
        "      sgd.step()\n",
        "    print(f'Epoch {e} ... Loss = {loss.item()}')\n",
        "    d = torch.maximum(W5,torch.tensor([0]).to(device)).cpu().detach().numpy()#torch.nn.Sigmoid()(W2).cpu().detach().numpy()\n",
        "    d[d == 0] = 0.000001\n",
        "    h = H.cpu().detach().numpy()\n",
        "    h[h == 0] = 0.000001\n",
        "    speech,music = eval_dnn_2(d,h[K-1],Ytest,mask_p+1)\n",
        "    sdr_speech.append(speech)\n",
        "    sdr_music.append(music)\n",
        "  return d, h[k-1],train_hist,sdr_speech,sdr_music\n"
      ],
      "execution_count": 278,
      "outputs": []
    },
    {
      "cell_type": "code",
      "metadata": {
        "colab": {
          "base_uri": "https://localhost:8080/",
          "height": 1000
        },
        "id": "rg55I7wfBP7o",
        "outputId": "44988211-c83a-4e4f-8020-793bd4b823f5"
      },
      "source": [
        "mask_p  = 2\n",
        "for a in [50]:\n",
        "  d,h,train_hist,sdr_speech_,sdr_music_ = Unfolded_ISTA(X, W, a, 5, 0,epochs=20,learning_rate= 0.005)\n",
        "  print(\"finish\")"
      ],
      "execution_count": 279,
      "outputs": [
        {
          "output_type": "stream",
          "text": [
            "100%|██████████| 2500/2500 [00:06<00:00, 360.83it/s]\n"
          ],
          "name": "stderr"
        },
        {
          "output_type": "stream",
          "text": [
            "Epoch 0 ... Loss = 54.53267288208008\n",
            "Reconstruction Step .... Done\n",
            "DNN Results \n",
            "\n",
            "warning: function name 'bss_eval_sources' does not agree with function filename '/content/myScript.m'\n",
            "SDR =  2.2969\n",
            "warning: division by zero\n",
            "SDR =  12.302\n",
            "warning: division by zero\n"
          ],
          "name": "stdout"
        },
        {
          "output_type": "stream",
          "text": [
            "100%|██████████| 2500/2500 [00:06<00:00, 363.75it/s]\n"
          ],
          "name": "stderr"
        },
        {
          "output_type": "stream",
          "text": [
            "Epoch 1 ... Loss = 53.75046157836914\n",
            "Reconstruction Step .... Done\n",
            "DNN Results \n",
            "\n",
            "warning: function name 'bss_eval_sources' does not agree with function filename '/content/myScript.m'\n",
            "SDR =  2.9717\n",
            "warning: division by zero\n",
            "SDR =  12.635\n",
            "warning: division by zero\n"
          ],
          "name": "stdout"
        },
        {
          "output_type": "stream",
          "text": [
            "100%|██████████| 2500/2500 [00:06<00:00, 359.73it/s]\n"
          ],
          "name": "stderr"
        },
        {
          "output_type": "stream",
          "text": [
            "Epoch 2 ... Loss = 53.153263092041016\n",
            "Reconstruction Step .... Done\n",
            "DNN Results \n",
            "\n",
            "warning: function name 'bss_eval_sources' does not agree with function filename '/content/myScript.m'\n",
            "SDR =  3.2767\n",
            "warning: division by zero\n",
            "SDR =  12.895\n",
            "warning: division by zero\n"
          ],
          "name": "stdout"
        },
        {
          "output_type": "stream",
          "text": [
            "100%|██████████| 2500/2500 [00:06<00:00, 364.87it/s]\n"
          ],
          "name": "stderr"
        },
        {
          "output_type": "stream",
          "text": [
            "Epoch 3 ... Loss = 52.783226013183594\n",
            "Reconstruction Step .... Done\n",
            "DNN Results \n",
            "\n",
            "warning: function name 'bss_eval_sources' does not agree with function filename '/content/myScript.m'\n",
            "SDR =  3.5787\n",
            "warning: division by zero\n",
            "SDR =  13.138\n",
            "warning: division by zero\n"
          ],
          "name": "stdout"
        },
        {
          "output_type": "stream",
          "text": [
            "100%|██████████| 2500/2500 [00:06<00:00, 362.97it/s]\n"
          ],
          "name": "stderr"
        },
        {
          "output_type": "stream",
          "text": [
            "Epoch 4 ... Loss = 52.559661865234375\n",
            "Reconstruction Step .... Done\n",
            "DNN Results \n",
            "\n",
            "warning: function name 'bss_eval_sources' does not agree with function filename '/content/myScript.m'\n",
            "SDR =  3.8691\n",
            "warning: division by zero\n",
            "SDR =  13.340\n",
            "warning: division by zero\n"
          ],
          "name": "stdout"
        },
        {
          "output_type": "stream",
          "text": [
            "100%|██████████| 2500/2500 [00:06<00:00, 365.57it/s]\n"
          ],
          "name": "stderr"
        },
        {
          "output_type": "stream",
          "text": [
            "Epoch 5 ... Loss = 52.4412841796875\n",
            "Reconstruction Step .... Done\n",
            "DNN Results \n",
            "\n",
            "warning: function name 'bss_eval_sources' does not agree with function filename '/content/myScript.m'\n",
            "SDR =  4.0648\n",
            "warning: division by zero\n",
            "SDR =  13.572\n",
            "warning: division by zero\n"
          ],
          "name": "stdout"
        },
        {
          "output_type": "stream",
          "text": [
            "100%|██████████| 2500/2500 [00:06<00:00, 366.48it/s]\n"
          ],
          "name": "stderr"
        },
        {
          "output_type": "stream",
          "text": [
            "Epoch 6 ... Loss = 52.36884689331055\n",
            "Reconstruction Step .... Done\n",
            "DNN Results \n",
            "\n",
            "warning: function name 'bss_eval_sources' does not agree with function filename '/content/myScript.m'\n",
            "SDR =  4.1551\n",
            "warning: division by zero\n",
            "SDR =  13.690\n",
            "warning: division by zero\n"
          ],
          "name": "stdout"
        },
        {
          "output_type": "stream",
          "text": [
            "100%|██████████| 2500/2500 [00:06<00:00, 366.10it/s]\n"
          ],
          "name": "stderr"
        },
        {
          "output_type": "stream",
          "text": [
            "Epoch 7 ... Loss = 52.306854248046875\n",
            "Reconstruction Step .... Done\n",
            "DNN Results \n",
            "\n",
            "warning: function name 'bss_eval_sources' does not agree with function filename '/content/myScript.m'\n",
            "SDR =  4.1003\n",
            "warning: division by zero\n",
            "SDR =  13.742\n",
            "warning: division by zero\n"
          ],
          "name": "stdout"
        },
        {
          "output_type": "stream",
          "text": [
            "100%|██████████| 2500/2500 [00:06<00:00, 360.54it/s]\n"
          ],
          "name": "stderr"
        },
        {
          "output_type": "stream",
          "text": [
            "Epoch 8 ... Loss = 52.24629211425781\n",
            "Reconstruction Step .... Done\n",
            "DNN Results \n",
            "\n",
            "warning: function name 'bss_eval_sources' does not agree with function filename '/content/myScript.m'\n",
            "SDR =  4.0572\n",
            "warning: division by zero\n",
            "SDR =  13.795\n",
            "warning: division by zero\n"
          ],
          "name": "stdout"
        },
        {
          "output_type": "stream",
          "text": [
            "100%|██████████| 2500/2500 [00:06<00:00, 364.19it/s]\n"
          ],
          "name": "stderr"
        },
        {
          "output_type": "stream",
          "text": [
            "Epoch 9 ... Loss = 52.2668342590332\n",
            "Reconstruction Step .... Done\n",
            "DNN Results \n",
            "\n",
            "warning: function name 'bss_eval_sources' does not agree with function filename '/content/myScript.m'\n",
            "SDR =  3.9693\n",
            "warning: division by zero\n",
            "SDR =  13.811\n",
            "warning: division by zero\n"
          ],
          "name": "stdout"
        },
        {
          "output_type": "stream",
          "text": [
            "100%|██████████| 2500/2500 [00:06<00:00, 358.80it/s]\n"
          ],
          "name": "stderr"
        },
        {
          "output_type": "stream",
          "text": [
            "Epoch 10 ... Loss = 52.27647018432617\n",
            "Reconstruction Step .... Done\n",
            "DNN Results \n",
            "\n",
            "warning: function name 'bss_eval_sources' does not agree with function filename '/content/myScript.m'\n",
            "SDR =  3.9105\n",
            "warning: division by zero\n",
            "SDR =  13.843\n",
            "warning: division by zero\n"
          ],
          "name": "stdout"
        },
        {
          "output_type": "stream",
          "text": [
            " 39%|███▉      | 973/2500 [00:02<00:04, 352.26it/s]\n"
          ],
          "name": "stderr"
        },
        {
          "output_type": "error",
          "ename": "KeyboardInterrupt",
          "evalue": "ignored",
          "traceback": [
            "\u001b[0;31m---------------------------------------------------------------------------\u001b[0m",
            "\u001b[0;31mKeyboardInterrupt\u001b[0m                         Traceback (most recent call last)",
            "\u001b[0;32m<ipython-input-279-65f88357e1ba>\u001b[0m in \u001b[0;36m<module>\u001b[0;34m()\u001b[0m\n\u001b[1;32m      1\u001b[0m \u001b[0mmask_p\u001b[0m  \u001b[0;34m=\u001b[0m \u001b[0;36m2\u001b[0m\u001b[0;34m\u001b[0m\u001b[0;34m\u001b[0m\u001b[0m\n\u001b[1;32m      2\u001b[0m \u001b[0;32mfor\u001b[0m \u001b[0ma\u001b[0m \u001b[0;32min\u001b[0m \u001b[0;34m[\u001b[0m\u001b[0;36m50\u001b[0m\u001b[0;34m]\u001b[0m\u001b[0;34m:\u001b[0m\u001b[0;34m\u001b[0m\u001b[0;34m\u001b[0m\u001b[0m\n\u001b[0;32m----> 3\u001b[0;31m   \u001b[0md\u001b[0m\u001b[0;34m,\u001b[0m\u001b[0mh\u001b[0m\u001b[0;34m,\u001b[0m\u001b[0mtrain_hist\u001b[0m\u001b[0;34m,\u001b[0m\u001b[0msdr_speech_\u001b[0m\u001b[0;34m,\u001b[0m\u001b[0msdr_music_\u001b[0m \u001b[0;34m=\u001b[0m \u001b[0mUnfolded_ISTA\u001b[0m\u001b[0;34m(\u001b[0m\u001b[0mX\u001b[0m\u001b[0;34m,\u001b[0m \u001b[0mW\u001b[0m\u001b[0;34m,\u001b[0m \u001b[0ma\u001b[0m\u001b[0;34m,\u001b[0m \u001b[0;36m5\u001b[0m\u001b[0;34m,\u001b[0m \u001b[0;36m0\u001b[0m\u001b[0;34m,\u001b[0m\u001b[0mepochs\u001b[0m\u001b[0;34m=\u001b[0m\u001b[0;36m20\u001b[0m\u001b[0;34m,\u001b[0m\u001b[0mlearning_rate\u001b[0m\u001b[0;34m=\u001b[0m \u001b[0;36m0.005\u001b[0m\u001b[0;34m)\u001b[0m\u001b[0;34m\u001b[0m\u001b[0;34m\u001b[0m\u001b[0m\n\u001b[0m\u001b[1;32m      4\u001b[0m   \u001b[0mprint\u001b[0m\u001b[0;34m(\u001b[0m\u001b[0;34m\"finish\"\u001b[0m\u001b[0;34m)\u001b[0m\u001b[0;34m\u001b[0m\u001b[0;34m\u001b[0m\u001b[0m\n",
            "\u001b[0;32m<ipython-input-278-962f590929ae>\u001b[0m in \u001b[0;36mUnfolded_ISTA\u001b[0;34m(X, W, alpha, K, lambd, epochs, learning_rate)\u001b[0m\n\u001b[1;32m     81\u001b[0m       \u001b[0;31m#print(\"\\n\",loss)\u001b[0m\u001b[0;34m\u001b[0m\u001b[0;34m\u001b[0m\u001b[0;34m\u001b[0m\u001b[0m\n\u001b[1;32m     82\u001b[0m       \u001b[0mtrain_hist\u001b[0m\u001b[0;34m[\u001b[0m\u001b[0me\u001b[0m\u001b[0;34m]\u001b[0m \u001b[0;34m=\u001b[0m \u001b[0mloss\u001b[0m\u001b[0;34m.\u001b[0m\u001b[0mitem\u001b[0m\u001b[0;34m(\u001b[0m\u001b[0;34m)\u001b[0m\u001b[0;34m\u001b[0m\u001b[0;34m\u001b[0m\u001b[0m\n\u001b[0;32m---> 83\u001b[0;31m       \u001b[0mloss\u001b[0m\u001b[0;34m.\u001b[0m\u001b[0mbackward\u001b[0m\u001b[0;34m(\u001b[0m\u001b[0;34m)\u001b[0m\u001b[0;34m\u001b[0m\u001b[0;34m\u001b[0m\u001b[0m\n\u001b[0m\u001b[1;32m     84\u001b[0m \u001b[0;34m\u001b[0m\u001b[0m\n\u001b[1;32m     85\u001b[0m       \u001b[0msgd\u001b[0m\u001b[0;34m.\u001b[0m\u001b[0mstep\u001b[0m\u001b[0;34m(\u001b[0m\u001b[0;34m)\u001b[0m\u001b[0;34m\u001b[0m\u001b[0;34m\u001b[0m\u001b[0m\n",
            "\u001b[0;32m/usr/local/lib/python3.7/dist-packages/torch/_tensor.py\u001b[0m in \u001b[0;36mbackward\u001b[0;34m(self, gradient, retain_graph, create_graph, inputs)\u001b[0m\n\u001b[1;32m    253\u001b[0m                 \u001b[0mcreate_graph\u001b[0m\u001b[0;34m=\u001b[0m\u001b[0mcreate_graph\u001b[0m\u001b[0;34m,\u001b[0m\u001b[0;34m\u001b[0m\u001b[0;34m\u001b[0m\u001b[0m\n\u001b[1;32m    254\u001b[0m                 inputs=inputs)\n\u001b[0;32m--> 255\u001b[0;31m         \u001b[0mtorch\u001b[0m\u001b[0;34m.\u001b[0m\u001b[0mautograd\u001b[0m\u001b[0;34m.\u001b[0m\u001b[0mbackward\u001b[0m\u001b[0;34m(\u001b[0m\u001b[0mself\u001b[0m\u001b[0;34m,\u001b[0m \u001b[0mgradient\u001b[0m\u001b[0;34m,\u001b[0m \u001b[0mretain_graph\u001b[0m\u001b[0;34m,\u001b[0m \u001b[0mcreate_graph\u001b[0m\u001b[0;34m,\u001b[0m \u001b[0minputs\u001b[0m\u001b[0;34m=\u001b[0m\u001b[0minputs\u001b[0m\u001b[0;34m)\u001b[0m\u001b[0;34m\u001b[0m\u001b[0;34m\u001b[0m\u001b[0m\n\u001b[0m\u001b[1;32m    256\u001b[0m \u001b[0;34m\u001b[0m\u001b[0m\n\u001b[1;32m    257\u001b[0m     \u001b[0;32mdef\u001b[0m \u001b[0mregister_hook\u001b[0m\u001b[0;34m(\u001b[0m\u001b[0mself\u001b[0m\u001b[0;34m,\u001b[0m \u001b[0mhook\u001b[0m\u001b[0;34m)\u001b[0m\u001b[0;34m:\u001b[0m\u001b[0;34m\u001b[0m\u001b[0;34m\u001b[0m\u001b[0m\n",
            "\u001b[0;32m/usr/local/lib/python3.7/dist-packages/torch/autograd/__init__.py\u001b[0m in \u001b[0;36mbackward\u001b[0;34m(tensors, grad_tensors, retain_graph, create_graph, grad_variables, inputs)\u001b[0m\n\u001b[1;32m    147\u001b[0m     Variable._execution_engine.run_backward(\n\u001b[1;32m    148\u001b[0m         \u001b[0mtensors\u001b[0m\u001b[0;34m,\u001b[0m \u001b[0mgrad_tensors_\u001b[0m\u001b[0;34m,\u001b[0m \u001b[0mretain_graph\u001b[0m\u001b[0;34m,\u001b[0m \u001b[0mcreate_graph\u001b[0m\u001b[0;34m,\u001b[0m \u001b[0minputs\u001b[0m\u001b[0;34m,\u001b[0m\u001b[0;34m\u001b[0m\u001b[0;34m\u001b[0m\u001b[0m\n\u001b[0;32m--> 149\u001b[0;31m         allow_unreachable=True, accumulate_grad=True)  # allow_unreachable flag\n\u001b[0m\u001b[1;32m    150\u001b[0m \u001b[0;34m\u001b[0m\u001b[0m\n\u001b[1;32m    151\u001b[0m \u001b[0;34m\u001b[0m\u001b[0m\n",
            "\u001b[0;31mKeyboardInterrupt\u001b[0m: "
          ]
        }
      ]
    },
    {
      "cell_type": "code",
      "metadata": {
        "id": "j7tBsJmU-mXM",
        "colab": {
          "base_uri": "https://localhost:8080/"
        },
        "outputId": "bf7549ec-b607-4590-e925-9d2261159320"
      },
      "source": [
        "eval_dnn_2(d,h,Ytest,3)"
      ],
      "execution_count": 267,
      "outputs": [
        {
          "output_type": "stream",
          "text": [
            "Reconstruction Step .... Done\n",
            "DNN Results \n",
            "\n",
            "warning: function name 'bss_eval_sources' does not agree with function filename '/content/myScript.m'\n",
            "SDR =  7.9950\n",
            "warning: division by zero\n",
            "SDR =  7.0636\n",
            "warning: division by zero\n"
          ],
          "name": "stdout"
        },
        {
          "output_type": "execute_result",
          "data": {
            "text/plain": [
              "(7.995037172516319, 7.063577138710981)"
            ]
          },
          "metadata": {
            "tags": []
          },
          "execution_count": 267
        }
      ]
    },
    {
      "cell_type": "code",
      "metadata": {
        "colab": {
          "base_uri": "https://localhost:8080/"
        },
        "id": "LVZm-BNFyEB4",
        "outputId": "79d97860-0361-48e3-fdc5-92086e01fbca"
      },
      "source": [
        "sdr_speech_"
      ],
      "execution_count": 268,
      "outputs": [
        {
          "output_type": "execute_result",
          "data": {
            "text/plain": [
              "[6.342497236348114,\n",
              " 7.408783588809818,\n",
              " 7.911760926417247,\n",
              " 7.993962394492061,\n",
              " 8.047948671298094,\n",
              " 7.944005395623446,\n",
              " 8.066586997401101,\n",
              " 8.016634532765003,\n",
              " 8.100674969727715,\n",
              " 8.107569859716676,\n",
              " 8.11473964462759,\n",
              " 8.104407390518148,\n",
              " 8.105885401146102,\n",
              " 8.079206882397965,\n",
              " 8.072005333951031,\n",
              " 8.084756619604605,\n",
              " 8.084160610531136,\n",
              " 8.08760307134802,\n",
              " 8.089579888242287,\n",
              " 8.079307120595608]"
            ]
          },
          "metadata": {
            "tags": []
          },
          "execution_count": 268
        }
      ]
    },
    {
      "cell_type": "code",
      "metadata": {
        "id": "6XNBoyI2lyby"
      },
      "source": [
        "hist1 = train_hist\n",
        "hist2 = sdr_speech_\n",
        "hist3 = sdr_music_\n",
        "\n",
        "\n",
        "\n",
        "plt.style.use('seaborn-paper')\n",
        "\n",
        "fig,ax=plt.subplots(1,1,sharex=True,figsize=(15,8),dpi=400)\n",
        "ax2=ax.twinx()\n",
        "\n",
        "x1=ax.plot(hist2,'b',linewidth=2)\n",
        "x2=ax.plot(hist3,'g',linewidth=2)\n",
        "\n",
        "x3=ax2.plot(hist1,'r',linewidth=2)\n",
        "\n",
        "ax.set_ylabel('SDR ',fontsize=20)\n",
        "ax2.set_ylabel('SDR ',fontsize=20)\n",
        "ax2.set_ylabel('Loss',fontsize=20)\n",
        "\n",
        "\n",
        "ax.set_xlabel('Epochs',fontsize=20)\n",
        "\n",
        "\n",
        "ax.tick_params(axis='both', which='major', labelsize=12)\n",
        "ax2.tick_params(axis='both', which='major', labelsize=12)\n",
        "\n",
        "\n",
        "ax.grid(linestyle='--',linewidth=1)\n",
        "\"\"\"\n",
        "ax2.set_ylim(6.3, 7.1)\n",
        "ax.set_ylim(0, 0.4)\n",
        "\"\"\"\n",
        "\n",
        "ax.legend(x1+x2+x3,['SDR Speech','SDR Music','Loss'],loc=4, prop={'size': 16},bbox_to_anchor=(1.25, 0.88),fancybox=True, shadow=True,borderaxespad=0.1,title=' SMR = 0',title_fontsize=15)\n",
        "plt.savefig('/content/drive/MyDrive/ISTA_results/SMR_0',bbox_inches='tight')"
      ],
      "execution_count": null,
      "outputs": []
    },
    {
      "cell_type": "code",
      "metadata": {
        "id": "gPlnbSMsSwJl"
      },
      "source": [
        "!mkdir \"/content/drive/MyDrive/ISTA_results\""
      ],
      "execution_count": null,
      "outputs": []
    },
    {
      "cell_type": "code",
      "metadata": {
        "id": "XlLuHSe4NxqJ"
      },
      "source": [
        "def speech_mask(B,G,Ns,p):\n",
        "    B1=B[:,:Ns]\n",
        "    B2=B[:,Ns:]\n",
        "    G1=G[:Ns,:]\n",
        "    G2=G[Ns:,:]\n",
        "    \n",
        "    \n",
        "    numerator = torch.pow(torch.matmul(B1,G1),p)\n",
        "\n",
        "    denominator = torch.pow(torch.matmul(B1,G1),p)+torch.pow(torch.matmul(B2,G2),p)\n",
        "  \n",
        "\n",
        "    mask_speech = numerator/(denominator+0.00001)\n",
        "\n",
        "    \n",
        "    return mask_speech\n",
        "\n",
        "\n",
        "def sigmoid(x):\n",
        "  return torch.nn.Sigmoid()(x)\n",
        "\n",
        "def soft(z,a,l=0.02):\n",
        "  h = torch.maximum(torch.abs(z)-l/a,torch.zeros(z.shape[0]).to(device))\n",
        "  return h\n",
        "\n",
        "\n",
        "def error(X,M,Y):\n",
        "\n",
        "  return torch.nn.L1Loss()(Y,M*X)\n",
        "\n",
        "def Unfolded_ISTA(X, W, alpha, K, lambd,epochs,learning_rate):\n",
        "  loss_e = 0\n",
        "  train_hist = np.zeros(epochs)\n",
        "  epoch_loss = []\n",
        "  sdr_speech= []\n",
        "  sdr_music= []\n",
        "  torch.manual_seed(7)\n",
        "  X = torch.from_numpy(X).float().to(device)\n",
        "  W = torch.from_numpy(W).float().to(device)\n",
        "  W = torch.tile(W, (K,1,1)).to(device)\n",
        "  alpha_list = list(torch.tile(torch.tensor([alpha]).float(),(K,)))\n",
        "  H = torch.rand(W.shape[2],X.shape[1]).to(device)\n",
        "  H = torch.tile(H, (K,1,1)).to(device)\n",
        "  H_clone = H.clone().to(device)\n",
        "  Y = torch.from_numpy(Y_clean).float().to(device)\n",
        "  W1 = W[0]\n",
        "  W2 = W[1]\n",
        "  W3 = W[2]\n",
        " # W4 = W[3]\n",
        " # W5 = W[4]\n",
        "\n",
        "  W1.requires_grad = True\n",
        "  W2.requires_grad = True\n",
        "  W3.requires_grad = True\n",
        " # W4.requires_grad = True\n",
        " # W5.requires_grad = True\n",
        "\n",
        "  params =  [W1] + [W2] + [W3]  \n",
        "  sgd = torch.optim.SGD(params,lr=learning_rate)\n",
        "  for e in range(epochs):\n",
        "    for t in tqdm(np.arange(1,X.shape[1]),position=0, leave=True):\n",
        "      \n",
        "      for k in range(1,K):\n",
        "        if k ==1:\n",
        "          z = (torch.eye(64).to(device) - (1/alpha_list[k])*(W[k-1].t()@W[k-1]))@H[K-1,:,t-1] + (1/alpha_list[k])*W[k-1].t()@X[:,t]\n",
        "\n",
        "          H[k,:,t] = soft(z,alpha,lambd)\n",
        "        elif k > 1:\n",
        "          z = (torch.eye(64).to(device) - (1/alpha_list[k])*(W[k-1].t()@W[k-1]))@H[k-1,:,t] + (1/alpha_list[k])*W[k-1].t()@X[:,t]\n",
        "\n",
        "          H[k,:,t] = soft(z,alpha,lambd)\n",
        "\n",
        "        H[k] = torch.maximum(H[k],torch.tensor([0]).to(device))\n",
        "\n",
        "      sgd.zero_grad()      \n",
        "\n",
        "\n",
        "      \n",
        "      mask = speech_mask(torch.maximum(W3,torch.tensor([0]).to(device)),H[K-1],16,2)\n",
        "      #print(mask)\n",
        "      loss = error(X[:,t],mask[:,t],Y[:,t])\n",
        "      #print(\"\\n\",loss)\n",
        "      train_hist[e] = loss.item()\n",
        "      loss.backward()\n",
        "\n",
        "      sgd.step()\n",
        "    print(f'Epoch {e} ... Loss = {loss.item()}')\n",
        "    d = torch.maximum(W3,torch.tensor([0]).to(device)).cpu().detach().numpy()#torch.nn.Sigmoid()(W2).cpu().detach().numpy()\n",
        "    d[d == 0] = 0.000001\n",
        "    h = H.cpu().detach().numpy()\n",
        "    h[h == 0] = 0.000001\n",
        "    speech,music = eval_dnn_2(d,h[K-1],Ytest,2);\n",
        "    sdr_speech.append(speech)\n",
        "    sdr_music.append(music)\n",
        "  return d, h[k-1],train_hist,sdr_speech,sdr_music\n"
      ],
      "execution_count": null,
      "outputs": []
    },
    {
      "cell_type": "code",
      "metadata": {
        "colab": {
          "base_uri": "https://localhost:8080/",
          "height": 1000
        },
        "id": "UZJ4vFhRQ3E9",
        "outputId": "5c9b3b6f-3039-48f5-d45f-3bdd29348217"
      },
      "source": [
        "for a in [50]:\n",
        "  d,h,train_hist,sdr_speech_,sdr_music_ = Unfolded_ISTA(X, W, a, 3, 0.02,epochs=20,learning_rate= 0.005)\n",
        "  print(\"finish\")"
      ],
      "execution_count": null,
      "outputs": [
        {
          "output_type": "stream",
          "text": [
            "100%|██████████| 2500/2500 [00:04<00:00, 503.36it/s]\n"
          ],
          "name": "stderr"
        },
        {
          "output_type": "stream",
          "text": [
            "Epoch 0 ... Loss = 11.522324562072754\n",
            "Reconstruction Step .... Done\n",
            "DNN Results \n",
            "\n",
            "warning: function name 'bss_eval_sources' does not agree with function filename '/content/myScript.m'\n",
            "SDR =  7.1179\n",
            "warning: division by zero\n",
            "SDR =  4.1478\n",
            "warning: division by zero\n"
          ],
          "name": "stdout"
        },
        {
          "output_type": "stream",
          "text": [
            "100%|██████████| 2500/2500 [00:05<00:00, 492.21it/s]\n"
          ],
          "name": "stderr"
        },
        {
          "output_type": "stream",
          "text": [
            "Epoch 1 ... Loss = 8.572219848632812\n",
            "Reconstruction Step .... Done\n",
            "DNN Results \n",
            "\n",
            "warning: function name 'bss_eval_sources' does not agree with function filename '/content/myScript.m'\n",
            "SDR =  7.4079\n",
            "warning: division by zero\n",
            "SDR =  4.4143\n",
            "warning: division by zero\n"
          ],
          "name": "stdout"
        },
        {
          "output_type": "stream",
          "text": [
            "100%|██████████| 2500/2500 [00:05<00:00, 495.31it/s]\n"
          ],
          "name": "stderr"
        },
        {
          "output_type": "stream",
          "text": [
            "Epoch 2 ... Loss = 7.408426284790039\n",
            "Reconstruction Step .... Done\n",
            "DNN Results \n",
            "\n",
            "warning: function name 'bss_eval_sources' does not agree with function filename '/content/myScript.m'\n",
            "SDR =  7.5370\n",
            "warning: division by zero\n",
            "SDR =  5.1596\n",
            "warning: division by zero\n"
          ],
          "name": "stdout"
        },
        {
          "output_type": "stream",
          "text": [
            "100%|██████████| 2500/2500 [00:05<00:00, 487.45it/s]\n"
          ],
          "name": "stderr"
        },
        {
          "output_type": "stream",
          "text": [
            "Epoch 3 ... Loss = 6.969976902008057\n",
            "Reconstruction Step .... Done\n",
            "DNN Results \n",
            "\n",
            "warning: function name 'bss_eval_sources' does not agree with function filename '/content/myScript.m'\n",
            "SDR =  7.6345\n",
            "warning: division by zero\n",
            "SDR =  5.2467\n",
            "warning: division by zero\n"
          ],
          "name": "stdout"
        },
        {
          "output_type": "stream",
          "text": [
            "100%|██████████| 2500/2500 [00:05<00:00, 496.34it/s]\n"
          ],
          "name": "stderr"
        },
        {
          "output_type": "stream",
          "text": [
            "Epoch 4 ... Loss = 6.769251823425293\n",
            "Reconstruction Step .... Done\n",
            "DNN Results \n",
            "\n",
            "warning: function name 'bss_eval_sources' does not agree with function filename '/content/myScript.m'\n",
            "SDR =  7.7035\n",
            "warning: division by zero\n",
            "SDR =  5.3739\n",
            "warning: division by zero\n"
          ],
          "name": "stdout"
        },
        {
          "output_type": "stream",
          "text": [
            "100%|██████████| 2500/2500 [00:04<00:00, 501.28it/s]\n"
          ],
          "name": "stderr"
        },
        {
          "output_type": "stream",
          "text": [
            "Epoch 5 ... Loss = 6.554028034210205\n",
            "Reconstruction Step .... Done\n",
            "DNN Results \n",
            "\n",
            "warning: function name 'bss_eval_sources' does not agree with function filename '/content/myScript.m'\n",
            "SDR =  7.7254\n",
            "warning: division by zero\n",
            "SDR =  5.4228\n",
            "warning: division by zero\n"
          ],
          "name": "stdout"
        },
        {
          "output_type": "stream",
          "text": [
            "100%|██████████| 2500/2500 [00:05<00:00, 495.91it/s]\n"
          ],
          "name": "stderr"
        },
        {
          "output_type": "stream",
          "text": [
            "Epoch 6 ... Loss = 6.425950527191162\n",
            "Reconstruction Step .... Done\n",
            "DNN Results \n",
            "\n",
            "warning: function name 'bss_eval_sources' does not agree with function filename '/content/myScript.m'\n",
            "SDR =  7.7357\n",
            "warning: division by zero\n",
            "SDR =  5.4348\n",
            "warning: division by zero\n"
          ],
          "name": "stdout"
        },
        {
          "output_type": "stream",
          "text": [
            "100%|██████████| 2500/2500 [00:05<00:00, 491.90it/s]\n"
          ],
          "name": "stderr"
        },
        {
          "output_type": "stream",
          "text": [
            "Epoch 7 ... Loss = 6.312808513641357\n",
            "Reconstruction Step .... Done\n",
            "DNN Results \n",
            "\n",
            "warning: function name 'bss_eval_sources' does not agree with function filename '/content/myScript.m'\n",
            "SDR =  7.7566\n",
            "warning: division by zero\n",
            "SDR =  5.5380\n",
            "warning: division by zero\n"
          ],
          "name": "stdout"
        },
        {
          "output_type": "stream",
          "text": [
            "100%|██████████| 2500/2500 [00:05<00:00, 494.96it/s]\n"
          ],
          "name": "stderr"
        },
        {
          "output_type": "stream",
          "text": [
            "Epoch 8 ... Loss = 6.234522342681885\n",
            "Reconstruction Step .... Done\n",
            "DNN Results \n",
            "\n",
            "warning: function name 'bss_eval_sources' does not agree with function filename '/content/myScript.m'\n",
            "SDR =  7.7866\n",
            "warning: division by zero\n",
            "SDR =  5.5787\n",
            "warning: division by zero\n"
          ],
          "name": "stdout"
        },
        {
          "output_type": "stream",
          "text": [
            "100%|██████████| 2500/2500 [00:05<00:00, 479.82it/s]\n"
          ],
          "name": "stderr"
        },
        {
          "output_type": "stream",
          "text": [
            "Epoch 9 ... Loss = 6.209493160247803\n",
            "Reconstruction Step .... Done\n",
            "DNN Results \n",
            "\n",
            "warning: function name 'bss_eval_sources' does not agree with function filename '/content/myScript.m'\n",
            "SDR =  7.8045\n",
            "warning: division by zero\n",
            "SDR =  5.6300\n",
            "warning: division by zero\n"
          ],
          "name": "stdout"
        },
        {
          "output_type": "stream",
          "text": [
            "100%|██████████| 2500/2500 [00:05<00:00, 496.22it/s]\n"
          ],
          "name": "stderr"
        },
        {
          "output_type": "stream",
          "text": [
            "Epoch 10 ... Loss = 6.165719032287598\n",
            "Reconstruction Step .... Done\n",
            "DNN Results \n",
            "\n",
            "warning: function name 'bss_eval_sources' does not agree with function filename '/content/myScript.m'\n",
            "SDR =  7.8051\n",
            "warning: division by zero\n",
            "SDR =  5.6429\n",
            "warning: division by zero\n"
          ],
          "name": "stdout"
        },
        {
          "output_type": "stream",
          "text": [
            "100%|██████████| 2500/2500 [00:05<00:00, 492.39it/s]\n"
          ],
          "name": "stderr"
        },
        {
          "output_type": "stream",
          "text": [
            "Epoch 11 ... Loss = 6.1311492919921875\n",
            "Reconstruction Step .... Done\n",
            "DNN Results \n",
            "\n",
            "warning: function name 'bss_eval_sources' does not agree with function filename '/content/myScript.m'\n",
            "SDR =  7.8250\n",
            "warning: division by zero\n",
            "SDR =  5.6764\n",
            "warning: division by zero\n"
          ],
          "name": "stdout"
        },
        {
          "output_type": "stream",
          "text": [
            "100%|██████████| 2500/2500 [00:05<00:00, 494.74it/s]\n"
          ],
          "name": "stderr"
        },
        {
          "output_type": "stream",
          "text": [
            "Epoch 12 ... Loss = 6.115301609039307\n",
            "Reconstruction Step .... Done\n",
            "DNN Results \n",
            "\n",
            "warning: function name 'bss_eval_sources' does not agree with function filename '/content/myScript.m'\n",
            "SDR =  7.8301\n",
            "warning: division by zero\n",
            "SDR =  5.6760\n",
            "warning: division by zero\n"
          ],
          "name": "stdout"
        },
        {
          "output_type": "stream",
          "text": [
            "100%|██████████| 2500/2500 [00:05<00:00, 493.42it/s]\n"
          ],
          "name": "stderr"
        },
        {
          "output_type": "stream",
          "text": [
            "Epoch 13 ... Loss = 6.133864402770996\n",
            "Reconstruction Step .... Done\n",
            "DNN Results \n",
            "\n",
            "warning: function name 'bss_eval_sources' does not agree with function filename '/content/myScript.m'\n",
            "SDR =  7.8421\n",
            "warning: division by zero\n",
            "SDR =  5.7006\n",
            "warning: division by zero\n"
          ],
          "name": "stdout"
        },
        {
          "output_type": "stream",
          "text": [
            "100%|██████████| 2500/2500 [00:05<00:00, 493.19it/s]\n"
          ],
          "name": "stderr"
        },
        {
          "output_type": "stream",
          "text": [
            "Epoch 14 ... Loss = 6.128572940826416\n",
            "Reconstruction Step .... Done\n",
            "DNN Results \n",
            "\n",
            "warning: function name 'bss_eval_sources' does not agree with function filename '/content/myScript.m'\n",
            "SDR =  7.8487\n",
            "warning: division by zero\n",
            "SDR =  5.7132\n",
            "warning: division by zero\n"
          ],
          "name": "stdout"
        },
        {
          "output_type": "stream",
          "text": [
            "100%|██████████| 2500/2500 [00:05<00:00, 496.09it/s]\n"
          ],
          "name": "stderr"
        },
        {
          "output_type": "stream",
          "text": [
            "Epoch 15 ... Loss = 6.117512226104736\n",
            "Reconstruction Step .... Done\n",
            "DNN Results \n",
            "\n",
            "warning: function name 'bss_eval_sources' does not agree with function filename '/content/myScript.m'\n",
            "SDR =  7.8424\n",
            "warning: division by zero\n",
            "\n"
          ],
          "name": "stdout"
        },
        {
          "output_type": "stream",
          "text": [
            " 32%|███▏      | 795/2500 [00:01<00:03, 468.42it/s]\n"
          ],
          "name": "stderr"
        },
        {
          "output_type": "error",
          "ename": "KeyboardInterrupt",
          "evalue": "ignored",
          "traceback": [
            "\u001b[0;31m---------------------------------------------------------------------------\u001b[0m",
            "\u001b[0;31mKeyboardInterrupt\u001b[0m                         Traceback (most recent call last)",
            "\u001b[0;32m<ipython-input-301-2aa4492f4d4b>\u001b[0m in \u001b[0;36m<module>\u001b[0;34m()\u001b[0m\n\u001b[1;32m      1\u001b[0m \u001b[0;32mfor\u001b[0m \u001b[0ma\u001b[0m \u001b[0;32min\u001b[0m \u001b[0;34m[\u001b[0m\u001b[0;36m50\u001b[0m\u001b[0;34m]\u001b[0m\u001b[0;34m:\u001b[0m\u001b[0;34m\u001b[0m\u001b[0;34m\u001b[0m\u001b[0m\n\u001b[0;32m----> 2\u001b[0;31m   \u001b[0md\u001b[0m\u001b[0;34m,\u001b[0m\u001b[0mh\u001b[0m\u001b[0;34m,\u001b[0m\u001b[0mtrain_hist\u001b[0m\u001b[0;34m,\u001b[0m\u001b[0msdr_speech_\u001b[0m\u001b[0;34m,\u001b[0m\u001b[0msdr_music_\u001b[0m \u001b[0;34m=\u001b[0m \u001b[0mUnfolded_ISTA\u001b[0m\u001b[0;34m(\u001b[0m\u001b[0mX\u001b[0m\u001b[0;34m,\u001b[0m \u001b[0mW\u001b[0m\u001b[0;34m,\u001b[0m \u001b[0ma\u001b[0m\u001b[0;34m,\u001b[0m \u001b[0;36m3\u001b[0m\u001b[0;34m,\u001b[0m \u001b[0;36m0.02\u001b[0m\u001b[0;34m,\u001b[0m\u001b[0mepochs\u001b[0m\u001b[0;34m=\u001b[0m\u001b[0;36m20\u001b[0m\u001b[0;34m,\u001b[0m\u001b[0mlearning_rate\u001b[0m\u001b[0;34m=\u001b[0m \u001b[0;36m0.005\u001b[0m\u001b[0;34m)\u001b[0m\u001b[0;34m\u001b[0m\u001b[0;34m\u001b[0m\u001b[0m\n\u001b[0m\u001b[1;32m      3\u001b[0m   \u001b[0mprint\u001b[0m\u001b[0;34m(\u001b[0m\u001b[0;34m\"finish\"\u001b[0m\u001b[0;34m)\u001b[0m\u001b[0;34m\u001b[0m\u001b[0;34m\u001b[0m\u001b[0m\n",
            "\u001b[0;32m<ipython-input-300-c80c9ffdc10f>\u001b[0m in \u001b[0;36mUnfolded_ISTA\u001b[0;34m(X, W, alpha, K, lambd, epochs, learning_rate)\u001b[0m\n\u001b[1;32m     63\u001b[0m       \u001b[0;32mfor\u001b[0m \u001b[0mk\u001b[0m \u001b[0;32min\u001b[0m \u001b[0mrange\u001b[0m\u001b[0;34m(\u001b[0m\u001b[0;36m1\u001b[0m\u001b[0;34m,\u001b[0m\u001b[0mK\u001b[0m\u001b[0;34m)\u001b[0m\u001b[0;34m:\u001b[0m\u001b[0;34m\u001b[0m\u001b[0;34m\u001b[0m\u001b[0m\n\u001b[1;32m     64\u001b[0m         \u001b[0;32mif\u001b[0m \u001b[0mk\u001b[0m \u001b[0;34m==\u001b[0m\u001b[0;36m1\u001b[0m\u001b[0;34m:\u001b[0m\u001b[0;34m\u001b[0m\u001b[0;34m\u001b[0m\u001b[0m\n\u001b[0;32m---> 65\u001b[0;31m           \u001b[0mz\u001b[0m \u001b[0;34m=\u001b[0m \u001b[0;34m(\u001b[0m\u001b[0mtorch\u001b[0m\u001b[0;34m.\u001b[0m\u001b[0meye\u001b[0m\u001b[0;34m(\u001b[0m\u001b[0;36m64\u001b[0m\u001b[0;34m)\u001b[0m\u001b[0;34m.\u001b[0m\u001b[0mto\u001b[0m\u001b[0;34m(\u001b[0m\u001b[0mdevice\u001b[0m\u001b[0;34m)\u001b[0m \u001b[0;34m-\u001b[0m \u001b[0;34m(\u001b[0m\u001b[0;36m1\u001b[0m\u001b[0;34m/\u001b[0m\u001b[0malpha_list\u001b[0m\u001b[0;34m[\u001b[0m\u001b[0mk\u001b[0m\u001b[0;34m]\u001b[0m\u001b[0;34m)\u001b[0m\u001b[0;34m*\u001b[0m\u001b[0;34m(\u001b[0m\u001b[0mW\u001b[0m\u001b[0;34m[\u001b[0m\u001b[0mk\u001b[0m\u001b[0;34m-\u001b[0m\u001b[0;36m1\u001b[0m\u001b[0;34m]\u001b[0m\u001b[0;34m.\u001b[0m\u001b[0mt\u001b[0m\u001b[0;34m(\u001b[0m\u001b[0;34m)\u001b[0m\u001b[0;34m@\u001b[0m\u001b[0mW\u001b[0m\u001b[0;34m[\u001b[0m\u001b[0mk\u001b[0m\u001b[0;34m-\u001b[0m\u001b[0;36m1\u001b[0m\u001b[0;34m]\u001b[0m\u001b[0;34m)\u001b[0m\u001b[0;34m)\u001b[0m\u001b[0;34m@\u001b[0m\u001b[0mH\u001b[0m\u001b[0;34m[\u001b[0m\u001b[0mK\u001b[0m\u001b[0;34m-\u001b[0m\u001b[0;36m1\u001b[0m\u001b[0;34m,\u001b[0m\u001b[0;34m:\u001b[0m\u001b[0;34m,\u001b[0m\u001b[0mt\u001b[0m\u001b[0;34m-\u001b[0m\u001b[0;36m1\u001b[0m\u001b[0;34m]\u001b[0m \u001b[0;34m+\u001b[0m \u001b[0;34m(\u001b[0m\u001b[0;36m1\u001b[0m\u001b[0;34m/\u001b[0m\u001b[0malpha_list\u001b[0m\u001b[0;34m[\u001b[0m\u001b[0mk\u001b[0m\u001b[0;34m]\u001b[0m\u001b[0;34m)\u001b[0m\u001b[0;34m*\u001b[0m\u001b[0mW\u001b[0m\u001b[0;34m[\u001b[0m\u001b[0mk\u001b[0m\u001b[0;34m-\u001b[0m\u001b[0;36m1\u001b[0m\u001b[0;34m]\u001b[0m\u001b[0;34m.\u001b[0m\u001b[0mt\u001b[0m\u001b[0;34m(\u001b[0m\u001b[0;34m)\u001b[0m\u001b[0;34m@\u001b[0m\u001b[0mX\u001b[0m\u001b[0;34m[\u001b[0m\u001b[0;34m:\u001b[0m\u001b[0;34m,\u001b[0m\u001b[0mt\u001b[0m\u001b[0;34m]\u001b[0m\u001b[0;34m\u001b[0m\u001b[0;34m\u001b[0m\u001b[0m\n\u001b[0m\u001b[1;32m     66\u001b[0m \u001b[0;34m\u001b[0m\u001b[0m\n\u001b[1;32m     67\u001b[0m           \u001b[0mH\u001b[0m\u001b[0;34m[\u001b[0m\u001b[0mk\u001b[0m\u001b[0;34m,\u001b[0m\u001b[0;34m:\u001b[0m\u001b[0;34m,\u001b[0m\u001b[0mt\u001b[0m\u001b[0;34m]\u001b[0m \u001b[0;34m=\u001b[0m \u001b[0msoft\u001b[0m\u001b[0;34m(\u001b[0m\u001b[0mz\u001b[0m\u001b[0;34m,\u001b[0m\u001b[0malpha\u001b[0m\u001b[0;34m,\u001b[0m\u001b[0mlambd\u001b[0m\u001b[0;34m)\u001b[0m\u001b[0;34m\u001b[0m\u001b[0;34m\u001b[0m\u001b[0m\n",
            "\u001b[0;31mKeyboardInterrupt\u001b[0m: "
          ]
        }
      ]
    },
    {
      "cell_type": "code",
      "metadata": {
        "id": "OPNoXUidQ5qn"
      },
      "source": [
        ""
      ],
      "execution_count": null,
      "outputs": []
    }
  ]
}