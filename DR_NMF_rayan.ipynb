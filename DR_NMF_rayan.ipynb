{
  "nbformat": 4,
  "nbformat_minor": 0,
  "metadata": {
    "colab": {
      "name": "DR-NMF-rayan.ipynb",
      "provenance": [],
      "collapsed_sections": []
    },
    "kernelspec": {
      "display_name": "Python 3",
      "language": "python",
      "name": "python3"
    },
    "language_info": {
      "codemirror_mode": {
        "name": "ipython",
        "version": 3
      },
      "file_extension": ".py",
      "mimetype": "text/x-python",
      "name": "python",
      "nbconvert_exporter": "python",
      "pygments_lexer": "ipython3",
      "version": "3.7.1"
    }
  },
  "cells": [
    {
      "cell_type": "code",
      "metadata": {
        "colab": {
          "base_uri": "https://localhost:8080/"
        },
        "id": "Mc8NsZqwwWiQ",
        "outputId": "7b8b9dcb-07ea-4c54-ad2a-8c4c38efea68"
      },
      "source": [
        "# Mount Google Drive\n",
        "from google.colab import drive # import drive from google colab\n",
        " \n",
        "ROOT = \"/content/drive\"     # default location for the drive\n",
        "print(ROOT)                 # print content of ROOT (Optional)\n",
        " \n",
        "drive.mount(ROOT)           # we mount the google drive at /content/drive\n"
      ],
      "execution_count": 4,
      "outputs": [
        {
          "output_type": "stream",
          "text": [
            "/content/drive\n",
            "Drive already mounted at /content/drive; to attempt to forcibly remount, call drive.mount(\"/content/drive\", force_remount=True).\n"
          ],
          "name": "stdout"
        }
      ]
    },
    {
      "cell_type": "markdown",
      "metadata": {
        "id": "qLvpBa0ZwyQy"
      },
      "source": [
        "## This Notebook Gave in SMR=0 SDR=2.57 and 2.45"
      ]
    },
    {
      "cell_type": "code",
      "metadata": {
        "id": "r2r72nk9HrbY"
      },
      "source": [
        "#!touch helpers2.py"
      ],
      "execution_count": 5,
      "outputs": []
    },
    {
      "cell_type": "code",
      "metadata": {
        "id": "PYxUhmqBwXk8"
      },
      "source": [
        "import numpy as np\n",
        "import os\n",
        "import matplotlib.pyplot as plt\n",
        "from scipy.signal import butter, lfilter, freqz\n",
        "\n",
        "from scipy.io.wavfile import read, write\n",
        "from scipy import signal\n",
        "from sklearn.decomposition import NMF\n",
        "from sklearn.preprocessing import MinMaxScaler\n",
        "\n",
        "from numpy import linalg as LA\n",
        "from numpy.linalg import inv\n",
        "from helpers2 import Reconstruct, Viz_Y,SMR,get_mixed_signal,SDR,ReconstructSoft,butter_lowpass_filter\n",
        "import seaborn as sns\n",
        "import warnings\n",
        "import math\n",
        "from tqdm import tqdm\n",
        "warnings.simplefilter('ignore')"
      ],
      "execution_count": 6,
      "outputs": []
    },
    {
      "cell_type": "code",
      "metadata": {
        "id": "bBZYKWbuNBY6"
      },
      "source": [
        "def eval(D,G_test,Ytest):\n",
        "  Sources,Masks=Reconstruct(B=D,G=G_test,Ns=Dc.shape[1],Nm=Nm,Yabs=Ytest,p=0.5)\n",
        "\n",
        "  print('Reconstruction Step .... Done')\n",
        "  speech_est = Sources[0]\n",
        "  music_est = Sources[1]\n",
        "\n",
        "  _, speech_est =  signal.istft(speech_est,\n",
        "                      samplerate,\n",
        "                      window = WINDOW,\n",
        "                      nperseg=WINDOW_SIZE,\n",
        "                      noverlap=OVERLAP,\n",
        "                      nfft = NFFT)\n",
        "\n",
        "  _, music_est =  signal.istft(music_est,\n",
        "                      samplerate,\n",
        "                      window = WINDOW,\n",
        "                      nperseg=WINDOW_SIZE,\n",
        "                      noverlap=OVERLAP,\n",
        "                      nfft = NFFT)\n",
        "\n",
        "  sdr_speech = SDR(s_est=speech_est,s=test_s)\n",
        "  sdr_music = SDR(s_est=music_est, s=test_m)\n",
        "\n",
        "  print(f'Speech SDR = {sdr_speech}')\n",
        "  print(f'Music SDR = {sdr_music}')"
      ],
      "execution_count": 7,
      "outputs": []
    },
    {
      "cell_type": "code",
      "metadata": {
        "colab": {
          "base_uri": "https://localhost:8080/"
        },
        "id": "idEcwxGxxkOd",
        "outputId": "879e5fce-7d87-4b84-dc79-e67d6b7daa0e"
      },
      "source": [
        "# Best 1-20 min\n",
        "\n",
        "start = 1 * 60 * 44100\n",
        "end = 20 * 60 * 44100 \n",
        "\n",
        "samplerate_s, data_speech = read(\"/content/drive/MyDrive/Conversation.wav\")\n",
        "speech=data_speech[start:end,0]\n",
        "length=speech.shape[0]/samplerate_s\n",
        "print('Shape of the speech {} ... Length : {:.2f}s ... Sample rate : {}'.format(speech.shape[0],length,samplerate_s))\n",
        "\n",
        "start = 1 * 60 * 44100\n",
        "end = 5 * 60 * 44100 \n",
        "samplerate_m, data_music = read(\"/content/drive/MyDrive/music.wav\")\n",
        "music=data_music[start:end,0]\n",
        "length=music.shape[0]/samplerate_m\n",
        "print('Shape of the music {} ... Length : {:.2f}s ... Sample rate : {}'.format(music.shape[0],length,samplerate_m))\n"
      ],
      "execution_count": 8,
      "outputs": [
        {
          "output_type": "stream",
          "text": [
            "Shape of the speech 50274000 ... Length : 1140.00s ... Sample rate : 44100\n",
            "Shape of the music 10584000 ... Length : 240.00s ... Sample rate : 44100\n"
          ],
          "name": "stdout"
        }
      ]
    },
    {
      "cell_type": "code",
      "metadata": {
        "colab": {
          "base_uri": "https://localhost:8080/"
        },
        "id": "YMZEZdLJxo15",
        "outputId": "427d794f-65df-401b-e4dd-71ea56712d29"
      },
      "source": [
        "fs = 16000\n",
        "\n",
        "rate = samplerate_s / fs\n",
        "\n",
        "\n",
        "start = 1 * 60 * 44100\n",
        "end = 20 * 60 * 44100\n",
        "\n",
        "\n",
        "speech_t=data_speech[start : end, 0]\n",
        "music_t = data_music[start : end, 0]\n",
        "\n",
        "\n",
        "speech_t = signal.resample(speech_t,int(speech_t.shape[0]/rate))\n",
        "music_t = signal.resample(music_t,int(music_t.shape[0]/rate))\n",
        "samplerate=int(samplerate_m/rate)\n",
        "length=music_t.shape[0]/samplerate\n",
        "\n",
        "print('Shape of the test {} ... Length : {:.2f}s ... Sample rate : {}'.format(music_t.shape[0],length,samplerate))\n",
        "\n",
        "speech = signal.resample(speech,int(speech.shape[0]/rate))\n",
        "music = signal.resample(music,int(music.shape[0]/rate))\n",
        "\n",
        "\n",
        "print('Downsampled rate = {}'.format(samplerate))\n",
        "\n",
        "speech = butter_lowpass_filter(speech,5000,fs)\n",
        "music = butter_lowpass_filter(music,5000,fs)\n",
        "\n",
        "music_t = butter_lowpass_filter(music_t,5000,fs)\n",
        "speech_t = butter_lowpass_filter(speech_t,5000,fs)"
      ],
      "execution_count": 9,
      "outputs": [
        {
          "output_type": "stream",
          "text": [
            "Shape of the test 18240000 ... Length : 1140.00s ... Sample rate : 16000\n",
            "Downsampled rate = 16000\n"
          ],
          "name": "stdout"
        }
      ]
    },
    {
      "cell_type": "markdown",
      "metadata": {
        "id": "Jbke3Fm4zEG5"
      },
      "source": [
        "## Training STFT :\n"
      ]
    },
    {
      "cell_type": "code",
      "metadata": {
        "colab": {
          "base_uri": "https://localhost:8080/"
        },
        "id": "LHbUgVOAyDiz",
        "outputId": "e0fdadc3-5f8c-4495-b387-5df297677eb6"
      },
      "source": [
        "WINDOW = 'hamming'\n",
        "WINDOW_SIZE=480\n",
        "OVERLAP = 0.8 * WINDOW_SIZE\n",
        "NFFT=512\n",
        "\n",
        "f,t,Y= signal.stft(speech,samplerate,window=WINDOW,nperseg=WINDOW_SIZE,noverlap=OVERLAP,nfft=NFFT)\n",
        "Yabs_s=np.abs(Y)\n",
        "f,t,Y= signal.stft(music,samplerate,window=WINDOW,nperseg=WINDOW_SIZE,noverlap=OVERLAP,nfft=NFFT)\n",
        "Yabs_m=np.abs(Y)\n",
        "\n",
        "\n",
        "\n",
        "SMR_db = 0\n",
        "mix,speech_mix,music_mix=get_mixed_signal(speech_t,music_t,SMR_db)\n",
        "\n",
        "\n",
        "f,t,Ymix= signal.stft(mix,samplerate,window=WINDOW,nperseg=WINDOW_SIZE,noverlap=OVERLAP,nfft=NFFT)\n",
        "Yabs_mix=np.abs(Ymix)\n",
        "\n",
        "Yabs_mix[Yabs_mix==0]=0.00001\n",
        "write(\"/MixX.wav\", samplerate, mix.astype(np.int16))\n",
        "\n"
      ],
      "execution_count": 10,
      "outputs": [
        {
          "output_type": "stream",
          "text": [
            "SMR = -0.00\n"
          ],
          "name": "stdout"
        }
      ]
    },
    {
      "cell_type": "markdown",
      "metadata": {
        "id": "gTyG9UYBzIto"
      },
      "source": [
        "## Test STFT :"
      ]
    },
    {
      "cell_type": "code",
      "metadata": {
        "colab": {
          "base_uri": "https://localhost:8080/"
        },
        "id": "Aa1jCmT4yHq_",
        "outputId": "34809d21-eb1e-4723-c9fd-e936b635ce3f"
      },
      "source": [
        "fs = 16000\n",
        "\n",
        "rate = samplerate_s / fs\n",
        "\n",
        "\n",
        "start = 15 * 60 * 44100\n",
        "step = int(0.1 * 60 * 44100)\n",
        "\n",
        "test_s = np.array([])\n",
        "test_m = np.array([])\n",
        "\n",
        "for i in range(1):\n",
        "\n",
        "  test_s = np.hstack([test_s,data_speech[start+i*step:start+(i+1)*step,0]])\n",
        "  test_m = np.hstack([test_m,data_music[start+i*step:start+(i+1)*step,0]])\n",
        "\n",
        "\n",
        "test_s = signal.resample(test_s,int(test_s.shape[0]/rate))\n",
        "test_m = signal.resample(test_m,int(test_m.shape[0]/rate))\n",
        "samplerate=int(samplerate_m/rate)\n",
        "length=music_t.shape[0]/samplerate\n",
        "\n",
        "\n",
        "test_s = butter_lowpass_filter(test_s,5000,fs)\n",
        "test_m = butter_lowpass_filter(test_m,5000,fs)\n",
        "\n",
        "\n",
        "################################################################################\n",
        "SMR_db = 0\n",
        "test,speech_test,music_test=get_mixed_signal(test_s,test_m,SMR_db)\n",
        "\n",
        "\n",
        "f,t,Ytest= signal.stft(test,samplerate,window=WINDOW,nperseg=WINDOW_SIZE,noverlap=OVERLAP,nfft=NFFT)\n",
        "Yabs_test=np.abs(Ytest)\n",
        "\n",
        "Yabs_test[Yabs_test==0]=0.00001\n"
      ],
      "execution_count": 11,
      "outputs": [
        {
          "output_type": "stream",
          "text": [
            "SMR = 0.00\n"
          ],
          "name": "stdout"
        }
      ]
    },
    {
      "cell_type": "markdown",
      "metadata": {
        "id": "IjWdkHsOdDZ6"
      },
      "source": [
        "# Train First NMF on Clean Speech :"
      ]
    },
    {
      "cell_type": "code",
      "metadata": {
        "id": "ohqeS3S86_Nw"
      },
      "source": [
        "def softmax(x):\n",
        "\n",
        "  e_x = np.exp(x)\n",
        "  return e_x / e_x.sum(axis=0)"
      ],
      "execution_count": 12,
      "outputs": []
    },
    {
      "cell_type": "code",
      "metadata": {
        "id": "jpDYwy1YdCgx"
      },
      "source": [
        "Nc = 8 #8\n",
        "Nm = 8\n",
        "\n",
        "model = NMF(n_components=Nc, init='random',alpha=0.0,beta_loss='frobenius',solver=\"mu\",max_iter=50, random_state=7)\n",
        "model.fit(np.transpose(Yabs_s))\n",
        "Dc = np.transpose(model.components_)\n",
        "scaler = MinMaxScaler()\n",
        "Dc = scaler.fit_transform(Dc)\n"
      ],
      "execution_count": 13,
      "outputs": []
    },
    {
      "cell_type": "markdown",
      "metadata": {
        "id": "e8SH3ITBd_zy"
      },
      "source": [
        "# Train NMF on Noisy Speech :"
      ]
    },
    {
      "cell_type": "code",
      "metadata": {
        "id": "LwXFaFPLzvpt"
      },
      "source": [
        "def nmf(X, Dc, Nn, lamb=0.1, maxit=100):\n",
        "\n",
        "    Nc = Dc.shape[1]\n",
        "    H = np.random.rand(Nc+Nn, X.shape[1])\n",
        "\n",
        "    Dn = np.random.rand(X. shape[0], Nn)\n",
        "    print(f\"Shape of Dc {Dc.shape} Shape of Dn {Dn.shape}\")\n",
        "    D = np.hstack([Dc,Dn])\n",
        "    Dnorm = D / np.sum(D**2, axis=0)**(.5)\n",
        "\n",
        "    print(f'Dnorm shape {Dnorm.shape} and X shape {X.shape} and H shape {H.shape}')\n",
        "    hist=[]\n",
        "    for i in range(maxit):\n",
        "        H = H * (np.matmul(Dnorm.T, X)) / (np.matmul(np.matmul(Dnorm.T, Dnorm), H) + lamb)\n",
        "        D[:,Dc.shape[1]:] = (Dnorm * (np.matmul(X, H.T) + Dnorm * (np.matmul(np.ones((X.shape[0], X.shape[0])), np.matmul(Dnorm, np.matmul(H, H.T)) * Dnorm))) / (np.matmul(Dnorm, np.matmul(H, H.T)) + Dnorm * (np.matmul(np.ones((X.shape[0], X.shape[0])), np.matmul(X, H.T) * Dnorm))))[:,Dc.shape[1]:]\n",
        "        Dnorm = D / np.sum(D**2, axis=0)**(.5)\n",
        "        hist.append(LA.norm(X-np.matmul(Dnorm,H)))\n",
        "    #Dnorm[:,Dc.shape[1]:] = softmax(Dnorm[:,Dc.shape[1]:])\n",
        "    return Dnorm, H,hist"
      ],
      "execution_count": 14,
      "outputs": []
    },
    {
      "cell_type": "code",
      "metadata": {
        "id": "FXGmjW-vCaiC",
        "colab": {
          "base_uri": "https://localhost:8080/"
        },
        "outputId": "b5f78078-48fa-4a4c-e8e4-7a08da41d532"
      },
      "source": [
        "D,H,hist = nmf(Yabs_mix,Dc,Nm)\n",
        "\n",
        "scaler = MinMaxScaler()\n",
        "D =  scaler.fit_transform(D)\n"
      ],
      "execution_count": 15,
      "outputs": [
        {
          "output_type": "stream",
          "text": [
            "Shape of Dc (257, 8) Shape of Dn (257, 8)\n",
            "Dnorm shape (257, 16) and X shape (257, 190001) and H shape (16, 190001)\n"
          ],
          "name": "stdout"
        }
      ]
    },
    {
      "cell_type": "markdown",
      "metadata": {
        "id": "8dIwuar0T8Id"
      },
      "source": [
        "# Test NMF :"
      ]
    },
    {
      "cell_type": "code",
      "metadata": {
        "id": "15-p3FEJT5_3"
      },
      "source": [
        "model_test = NMF(n_components=Nc+Nm, init='nndsvd',alpha=0.1,beta_loss='frobenius',solver=\"mu\",max_iter=200, random_state=7)\n",
        "model_test.fit(np.transpose(Yabs_test))\n",
        "    \n",
        "model_test.components_= np.transpose(D)\n",
        "G_test=np.transpose(model_test.transform(np.transpose(Yabs_test)))"
      ],
      "execution_count": 16,
      "outputs": []
    },
    {
      "cell_type": "code",
      "metadata": {
        "id": "iZCUnMdShJX1"
      },
      "source": [
        "from tqdm import tqdm\n",
        "\n",
        "\n",
        "\n",
        "def soft(z,a,l=0.02):\n",
        "  h = np.maximum(np.abs(z)-5,np.zeros(z.shape[0]))\n",
        "  return h\n",
        "  \n",
        "def warm_start_ISTA(x,W,n_components,a,K,l=0.02):\n",
        "\n",
        "  np.random.seed(seed=7)\n",
        "  h = np.random.rand(W.shape[1] , x.shape[1])\n",
        "  T = x.shape[1]\n",
        "\n",
        "  for t_ in tqdm(range(1,T)):\n",
        "    h[:,t_] = h[:,t_-1]\n",
        "\n",
        "    for _ in range(1,K):\n",
        "      z = (np.identity(n_components) - (1/a)*(np.transpose(W)@W))@h[:,t_] + \\\n",
        "          (1/a)*np.transpose(W)@x[:,t_]\n",
        "\n",
        "      h[:,t_] = soft(z,a,l)\n",
        "  return h "
      ],
      "execution_count": 17,
      "outputs": []
    },
    {
      "cell_type": "code",
      "metadata": {
        "colab": {
          "base_uri": "https://localhost:8080/"
        },
        "id": "hrLg2CNKJpGP",
        "outputId": "a6b5c01f-aee2-47ad-b9b8-b35dcaab924c"
      },
      "source": [
        "h_ws = warm_start_ISTA(Yabs_test,D,16,\n",
        "                    10,\n",
        "                    3)"
      ],
      "execution_count": 18,
      "outputs": [
        {
          "output_type": "stream",
          "text": [
            "100%|██████████| 1000/1000 [00:00<00:00, 5169.67it/s]\n"
          ],
          "name": "stderr"
        }
      ]
    },
    {
      "cell_type": "code",
      "metadata": {
        "colab": {
          "base_uri": "https://localhost:8080/"
        },
        "id": "ozbW9qjL1DDE",
        "outputId": "2adf38c5-6506-4b14-ae8a-f4341d87617c"
      },
      "source": [
        "eval(D,G_test,Ytest) ,eval(D,h_ws,Ytest)"
      ],
      "execution_count": 19,
      "outputs": [
        {
          "output_type": "stream",
          "text": [
            "Reconstruction Step .... Done\n",
            "Speech SDR = 3.094948486134423\n",
            "Music SDR = 2.7694485410458274\n",
            "Reconstruction Step .... Done\n",
            "Speech SDR = 3.1056233447209425\n",
            "Music SDR = 2.7780513908153286\n"
          ],
          "name": "stdout"
        },
        {
          "output_type": "execute_result",
          "data": {
            "text/plain": [
              "(None, None)"
            ]
          },
          "metadata": {
            "tags": []
          },
          "execution_count": 19
        }
      ]
    },
    {
      "cell_type": "code",
      "metadata": {
        "colab": {
          "base_uri": "https://localhost:8080/"
        },
        "id": "nZxto22cTL2v",
        "outputId": "6e5dc305-6b3c-46a5-888b-b2377b13068a"
      },
      "source": [
        "eval(D,G_test,Ytest) ,eval(D,h_ws,Ytest)"
      ],
      "execution_count": 20,
      "outputs": [
        {
          "output_type": "stream",
          "text": [
            "Reconstruction Step .... Done\n",
            "Speech SDR = 3.094948486134423\n",
            "Music SDR = 2.7694485410458274\n",
            "Reconstruction Step .... Done\n",
            "Speech SDR = 3.1056233447209425\n",
            "Music SDR = 2.7780513908153286\n"
          ],
          "name": "stdout"
        },
        {
          "output_type": "execute_result",
          "data": {
            "text/plain": [
              "(None, None)"
            ]
          },
          "metadata": {
            "tags": []
          },
          "execution_count": 20
        }
      ]
    },
    {
      "cell_type": "markdown",
      "metadata": {
        "id": "HgX9C70xVaZk"
      },
      "source": [
        "# Unfolded ISTA"
      ]
    },
    {
      "cell_type": "code",
      "metadata": {
        "id": "yeOhWKfJaQfV"
      },
      "source": [
        "import torch"
      ],
      "execution_count": 23,
      "outputs": []
    },
    {
      "cell_type": "code",
      "metadata": {
        "id": "swu78l4OZs-a"
      },
      "source": [
        "Sources,Masks=Reconstruct(B=D,G=G_test,Ns=Dc.shape[1],Nm=Nm,Yabs=Ytest,p=0.5)\n",
        "M = Masks[0]\n",
        "f,t,Y= signal.stft(test_s,samplerate,window=WINDOW,nperseg=WINDOW_SIZE,noverlap=OVERLAP,nfft=NFFT)\n",
        "Y_clean=np.abs(Y)\n",
        "Y_clean[Y_clean==0]=0.00001\n"
      ],
      "execution_count": 24,
      "outputs": []
    },
    {
      "cell_type": "code",
      "metadata": {
        "colab": {
          "base_uri": "https://localhost:8080/"
        },
        "id": "JM2YYmYwswiC",
        "outputId": "30b566b4-1a16-4e2e-8f01-fe5dcbd96c85"
      },
      "source": [
        "X = Yabs_test\n",
        "X_cmplx = Ytest\n",
        "W = D\n",
        "alpha = 100\n",
        "K = 3\n",
        "lambd = 0.01\n",
        "torch.autograd.set_detect_anomaly(False)\n"
      ],
      "execution_count": 26,
      "outputs": [
        {
          "output_type": "execute_result",
          "data": {
            "text/plain": [
              "<torch.autograd.anomaly_mode.set_detect_anomaly at 0x7f71487257d0>"
            ]
          },
          "metadata": {
            "tags": []
          },
          "execution_count": 26
        }
      ]
    },
    {
      "cell_type": "code",
      "metadata": {
        "id": "1jZybwIcwHVT"
      },
      "source": [
        "def speech_mask(B,G,Ns,p):\n",
        "    B1=B[:,:Ns]\n",
        "    B2=B[:,Ns:]\n",
        "    G1=G[:Ns,:]\n",
        "    G2=G[Ns:,:]\n",
        "    \n",
        "    \n",
        "    numerator = torch.pow(torch.matmul(B1,G1),p)\n",
        "\n",
        "    denominator = torch.pow(torch.matmul(B1,G1),p)+torch.pow(torch.matmul(B2,G2),p)\n",
        "  \n",
        "\n",
        "    mask_speech = numerator/(denominator+0.00001)\n",
        "\n",
        "    \n",
        "    return mask_speech\n",
        "\n",
        "\n",
        "def sigmoid(x):\n",
        "  return torch.nn.Sigmoid()(x)\n",
        "\n",
        "def soft(z,a,l=0.02):\n",
        "  h = np.maximum(np.abs(z),np.zeros(z.shape[0]))\n",
        "  return h\n",
        "\n",
        "\n",
        "def error(X,M,Y):\n",
        "\n",
        "  return torch.nn.MSELoss()(Y,M*X)\n",
        "\n",
        "def Unfolded_ISTA(X, W, alpha, K, lambd,epochs,learning_rate):\n",
        "  loss_e = 0\n",
        "  epoch_loss = []\n",
        "  torch.manual_seed(7)\n",
        "  X = torch.from_numpy(X).float()\n",
        "  W = torch.from_numpy(W).float()\n",
        "  W = torch.tile(W, (K,1,1))\n",
        "  alpha_list = list(torch.tile(torch.tensor([1]).float(),(K,)))\n",
        "  H = torch.rand(W.shape[2],X.shape[1])\n",
        "  H = torch.tile(H, (K,1,1))\n",
        "  H_clone = H.clone()\n",
        "  Y = torch.from_numpy(Y_clean).float()\n",
        "  W1 = W[0]\n",
        "  W2 = W[1]\n",
        "  #W3 = W[2]\n",
        "\n",
        "  W1.requires_grad = False\n",
        "  W2.requires_grad = True\n",
        "  #W3.requires_grad = True\n",
        "  params =  [W2] #+ [W2]# + [W3]\n",
        "  sgd = torch.optim.SGD(params,lr=learning_rate)\n",
        "  for e in range(epochs):\n",
        "    for t in tqdm(np.arange(1,X.shape[1]),position=0, leave=True):\n",
        "\n",
        "      for k in range(1,K):\n",
        "        if k ==1:\n",
        "          z = (torch.eye(16) - (1/alpha_list[k])*(sigmoid(W[k].t())@sigmoid(W[k])))@H[k,:,t-1] + (1/alpha_list[k])*sigmoid(W[k].t())@X[:,t]\n",
        "\n",
        "          H[k,:,t] = soft(z,0,0.001)\n",
        "        elif k > 1:\n",
        "          z = (torch.eye(16) - (1/alpha_list[k])*(sigmoid(W[k].t())@sigmoid(W[k])))@H[k-1,:,t] + (1/alpha_list[k])*sigmoid(W[k].t())@X[:,t]\n",
        "\n",
        "          H[k,:,t] = soft(z,0,0.001)\n",
        "\n",
        "        H[k] = sigmoid(H[k])\n",
        "\n",
        "      sgd.zero_grad()      \n",
        "\n",
        "\n",
        "          #h0_ = unfolded_cell(W1,H,alpha_list,0,t)\n",
        "        # h1_k = unfolded_cell(W2,h0_,alpha_list,1,t)\n",
        "        # h2_k  = unfolded_cell(W3,h1_k.float(),alpha_list,2,t)\n",
        "\n",
        "      mask = speech_mask(sigmoid(W2),H[1],8,1)\n",
        "      #print(mask)\n",
        "      loss = error(X[:,t],mask[:,t],Y[:,t])\n",
        "      #print(\"\\n\",loss)\n",
        "\n",
        "      loss.backward()\n",
        "\n",
        "      sgd.step()\n",
        "    print(f'Epoch {e} ... Loss = {loss.item()}')\n",
        "  return (torch.nn.Sigmoid()(W2)).detach().numpy(), H.detach().numpy()\n"
      ],
      "execution_count": 43,
      "outputs": []
    },
    {
      "cell_type": "code",
      "metadata": {
        "colab": {
          "base_uri": "https://localhost:8080/"
        },
        "id": "rg55I7wfBP7o",
        "outputId": "3e05ad15-6e34-4ea1-dc7f-7d0aab28c4f5"
      },
      "source": [
        "d_new ,s = Unfolded_ISTA(X, W, 100, 2, lambd,epochs=10,learning_rate= 0.001)"
      ],
      "execution_count": 44,
      "outputs": [
        {
          "output_type": "stream",
          "text": [
            "100%|██████████| 1000/1000 [00:08<00:00, 115.13it/s]\n",
            "  1%|          | 11/1000 [00:00<00:09, 108.28it/s]"
          ],
          "name": "stderr"
        },
        {
          "output_type": "stream",
          "text": [
            "Epoch 0 ... Loss = 748.6536254882812\n"
          ],
          "name": "stdout"
        },
        {
          "output_type": "stream",
          "text": [
            "100%|██████████| 1000/1000 [00:08<00:00, 115.18it/s]\n",
            "  1%|          | 11/1000 [00:00<00:09, 101.65it/s]"
          ],
          "name": "stderr"
        },
        {
          "output_type": "stream",
          "text": [
            "Epoch 1 ... Loss = 722.3134765625\n"
          ],
          "name": "stdout"
        },
        {
          "output_type": "stream",
          "text": [
            "100%|██████████| 1000/1000 [00:08<00:00, 111.47it/s]\n",
            "  1%|          | 11/1000 [00:00<00:09, 106.39it/s]"
          ],
          "name": "stderr"
        },
        {
          "output_type": "stream",
          "text": [
            "Epoch 2 ... Loss = 709.1109619140625\n"
          ],
          "name": "stdout"
        },
        {
          "output_type": "stream",
          "text": [
            "100%|██████████| 1000/1000 [00:09<00:00, 110.28it/s]\n",
            "  1%|          | 12/1000 [00:00<00:08, 114.20it/s]"
          ],
          "name": "stderr"
        },
        {
          "output_type": "stream",
          "text": [
            "Epoch 3 ... Loss = 702.0897827148438\n"
          ],
          "name": "stdout"
        },
        {
          "output_type": "stream",
          "text": [
            "100%|██████████| 1000/1000 [00:09<00:00, 110.10it/s]\n",
            "  1%|          | 12/1000 [00:00<00:08, 113.26it/s]"
          ],
          "name": "stderr"
        },
        {
          "output_type": "stream",
          "text": [
            "Epoch 4 ... Loss = 697.96240234375\n"
          ],
          "name": "stdout"
        },
        {
          "output_type": "stream",
          "text": [
            "100%|██████████| 1000/1000 [00:09<00:00, 108.54it/s]\n",
            "  1%|          | 12/1000 [00:00<00:08, 112.39it/s]"
          ],
          "name": "stderr"
        },
        {
          "output_type": "stream",
          "text": [
            "Epoch 5 ... Loss = 695.3065185546875\n"
          ],
          "name": "stdout"
        },
        {
          "output_type": "stream",
          "text": [
            "100%|██████████| 1000/1000 [00:08<00:00, 111.38it/s]\n",
            "  1%|          | 11/1000 [00:00<00:09, 103.62it/s]"
          ],
          "name": "stderr"
        },
        {
          "output_type": "stream",
          "text": [
            "Epoch 6 ... Loss = 693.5171508789062\n"
          ],
          "name": "stdout"
        },
        {
          "output_type": "stream",
          "text": [
            "100%|██████████| 1000/1000 [00:09<00:00, 110.68it/s]\n",
            "  1%|          | 11/1000 [00:00<00:09, 109.64it/s]"
          ],
          "name": "stderr"
        },
        {
          "output_type": "stream",
          "text": [
            "Epoch 7 ... Loss = 692.2645874023438\n"
          ],
          "name": "stdout"
        },
        {
          "output_type": "stream",
          "text": [
            "100%|██████████| 1000/1000 [00:08<00:00, 111.15it/s]\n",
            "  1%|          | 12/1000 [00:00<00:08, 117.10it/s]"
          ],
          "name": "stderr"
        },
        {
          "output_type": "stream",
          "text": [
            "Epoch 8 ... Loss = 691.4091186523438\n"
          ],
          "name": "stdout"
        },
        {
          "output_type": "stream",
          "text": [
            "100%|██████████| 1000/1000 [00:08<00:00, 113.42it/s]"
          ],
          "name": "stderr"
        },
        {
          "output_type": "stream",
          "text": [
            "Epoch 9 ... Loss = 690.8125\n"
          ],
          "name": "stdout"
        },
        {
          "output_type": "stream",
          "text": [
            "\n"
          ],
          "name": "stderr"
        }
      ]
    },
    {
      "cell_type": "code",
      "metadata": {
        "id": "j7tBsJmU-mXM"
      },
      "source": [
        "d_new[d_new == 0] = 0.0001"
      ],
      "execution_count": 45,
      "outputs": []
    },
    {
      "cell_type": "code",
      "metadata": {
        "colab": {
          "base_uri": "https://localhost:8080/"
        },
        "id": "FeT-56XZ7m7h",
        "outputId": "8374eba7-2421-4aec-e15d-5b3183abeb51"
      },
      "source": [
        "print(\"SDR Evaluation using MU \\n\")\n",
        "eval(D,G_test,Ytest) ## mu \n",
        "print(\"\\n\")\n",
        "print(\"SDR Evaluation using Warm Start ISTA \\n\")\n",
        "\n",
        "eval(D,h_ws,Ytest)  ## warm start ISTA\n",
        "print(\"\\n\")\n",
        "\n",
        "print(\"SDR Evaluation using Unfolded ISTA \\n\")\n",
        "\n",
        "eval(d_new,s[1],Ytest) ## DU ISTA"
      ],
      "execution_count": 53,
      "outputs": [
        {
          "output_type": "stream",
          "text": [
            "SDR Evaluation using MU \n",
            "\n",
            "Reconstruction Step .... Done\n",
            "Speech SDR = 3.094948486134423\n",
            "Music SDR = 2.7694485410458274\n",
            "\n",
            "\n",
            "SDR Evaluation using Warm Start ISTA \n",
            "\n",
            "Reconstruction Step .... Done\n",
            "Speech SDR = 3.1056233447209425\n",
            "Music SDR = 2.7780513908153286\n",
            "\n",
            "\n",
            "SDR Evaluation using Unfolded ISTA \n",
            "\n",
            "Reconstruction Step .... Done\n",
            "Speech SDR = 2.8690409717475474\n",
            "Music SDR = 2.5497031564942993\n"
          ],
          "name": "stdout"
        }
      ]
    },
    {
      "cell_type": "code",
      "metadata": {
        "id": "cg5lxSd498eX"
      },
      "source": [
        ""
      ],
      "execution_count": null,
      "outputs": []
    }
  ]
}